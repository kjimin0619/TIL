{
 "cells": [
  {
   "cell_type": "markdown",
   "id": "8d6e27e6",
   "metadata": {},
   "source": [
    "## Mnist back propagation"
   ]
  },
  {
   "cell_type": "code",
   "execution_count": 12,
   "id": "66dcbd07",
   "metadata": {},
   "outputs": [],
   "source": [
    "import torch\n",
    "import torchvision.datasets as dsets\n",
    "import torchvision.transforms as transforms"
   ]
  },
  {
   "cell_type": "code",
   "execution_count": 13,
   "id": "b5d8d29c",
   "metadata": {},
   "outputs": [],
   "source": [
    "device = 'cpu'"
   ]
  },
  {
   "cell_type": "code",
   "execution_count": 14,
   "id": "04ffbe13",
   "metadata": {},
   "outputs": [
    {
     "data": {
      "text/plain": [
       "<torch._C.Generator at 0x212bb0d1e90>"
      ]
     },
     "execution_count": 14,
     "metadata": {},
     "output_type": "execute_result"
    }
   ],
   "source": [
    "torch.manual_seed(777)"
   ]
  },
  {
   "cell_type": "code",
   "execution_count": 15,
   "id": "e4998ee8",
   "metadata": {},
   "outputs": [],
   "source": [
    "# 파라미터 설정\n",
    "learning_rate = 0.5\n",
    "batch_size = 10"
   ]
  },
  {
   "cell_type": "code",
   "execution_count": 16,
   "id": "bf9b15e5",
   "metadata": {},
   "outputs": [],
   "source": [
    "# MNIST 데이터셋 호출\n",
    "mnist_train = dsets.MNIST(root = \"C:\\TIL\\CUAI 4기\\모두를 위한 딥러닝\\MNIST_data\", \n",
    "                          train=True, transform=transforms.ToTensor(), download=True)\n",
    "\n",
    "mnist_test = dsets.MNIST(root = \"C:\\TIL\\CUAI 4기\\모두를 위한 딥러닝\\MNIST_data\", \n",
    "                          train=False, transform=transforms.ToTensor(), download=True)"
   ]
  },
  {
   "cell_type": "code",
   "execution_count": 17,
   "id": "ba85ebf9",
   "metadata": {},
   "outputs": [],
   "source": [
    "data_loader = torch.utils.data.DataLoader(dataset = mnist_train,\n",
    "                                        batch_size = batch_size,\n",
    "                                        shuffle = True,\n",
    "                                        drop_last = True)"
   ]
  },
  {
   "cell_type": "markdown",
   "id": "8e96e66f",
   "metadata": {},
   "source": [
    "#### MLP 내부"
   ]
  },
  {
   "cell_type": "code",
   "execution_count": 18,
   "id": "a2ef3780",
   "metadata": {},
   "outputs": [],
   "source": [
    "# mnist 데이터는 한 이미지 당 784개(28*28)의 픽셀로 이루어짐\n",
    "# 입력 784, 최종 출력 10\n",
    "w1 = torch.nn.Parameter(torch.Tensor(784,30)).to(device) # 1층의 가중치\n",
    "b1 = torch.nn.Parameter(torch.Tensor(30)).to(device) # 1층의 편향\n",
    "w2 = torch.nn.Parameter(torch.Tensor(30,10)).to(device) # 2층의 가중치\n",
    "b2 = torch.nn.Parameter(torch.Tensor(10)).to(device) # 2층의 편향"
   ]
  },
  {
   "cell_type": "code",
   "execution_count": 19,
   "id": "25cba880",
   "metadata": {
    "scrolled": true
   },
   "outputs": [
    {
     "data": {
      "text/plain": [
       "Parameter containing:\n",
       "tensor([ 0.3078, -1.9857,  1.0512,  1.5122, -1.0199, -0.7402, -1.3111,  0.6142,\n",
       "        -0.6474,  0.1758], requires_grad=True)"
      ]
     },
     "execution_count": 19,
     "metadata": {},
     "output_type": "execute_result"
    }
   ],
   "source": [
    "# 가중치 초기화\n",
    "torch.nn.init.normal_(w1)\n",
    "torch.nn.init.normal_(b1)\n",
    "torch.nn.init.normal_(w2)\n",
    "torch.nn.init.normal_(b2)"
   ]
  },
  {
   "cell_type": "markdown",
   "id": "6005ca09",
   "metadata": {},
   "source": [
    "#### 시그모이드 함수"
   ]
  },
  {
   "cell_type": "code",
   "execution_count": 20,
   "id": "3677ccc0",
   "metadata": {},
   "outputs": [],
   "source": [
    "def sigmoid(x):\n",
    "    return 1.0 / (1.0 + torch.exp(-x))"
   ]
  },
  {
   "cell_type": "code",
   "execution_count": 21,
   "id": "ce8856ff",
   "metadata": {},
   "outputs": [],
   "source": [
    "def sigmoid_prime(x):\n",
    "    return sigmoid(x) * (1 - sigmoid(x))"
   ]
  },
  {
   "cell_type": "markdown",
   "id": "22fcd410",
   "metadata": {},
   "source": [
    "#### 모델 학습"
   ]
  },
  {
   "cell_type": "code",
   "execution_count": 22,
   "id": "c1c39c03",
   "metadata": {},
   "outputs": [
    {
     "name": "stdout",
     "output_type": "stream",
     "text": [
      "80.60 %\n",
      "85.40 %\n",
      "88.50 %\n",
      "89.10 %\n",
      "88.80 %\n",
      "88.90 %\n",
      "90.10 %\n",
      "90.80 %\n",
      "88.70 %\n",
      "90.60 %\n"
     ]
    }
   ],
   "source": [
    "X_test = mnist_test.test_data.view(-1,28*28).float().to(device)[:1000] # 1000개 데이터만 학습\n",
    "y_test = mnist_test.test_labels.to(device)[:1000]\n",
    "\n",
    "i=0\n",
    "while not i == 10000 :\n",
    "    for X, Y in data_loader:\n",
    "        i = i + 1\n",
    "        \n",
    "        # forward\n",
    "        X = X.view(-1,28*28).to(device)\n",
    "        Y = torch.zeros((batch_size, 10)).scatter_(1, Y.unsqueeze(1), 1).to(device) # one hot\n",
    "        l1 = torch.add(torch.matmul(X,w1), b1) # layer 1\n",
    "        a1 = sigmoid(l1)\n",
    "        l2 = torch.add(torch.matmul(a1,w2),b2) # layer 2\n",
    "        y_pred = sigmoid(l2)\n",
    "        \n",
    "        diff = y_pred - Y\n",
    "        \n",
    "        # backpropagation\n",
    "        d_l2 = diff * sigmoid_prime(l2)\n",
    "        d_b2 = d_l2\n",
    "        d_w2 = torch.matmul(torch.transpose(a1, 0, 1), d_l2)\n",
    "        \n",
    "        d_a1 = torch.matmul(d_l2, torch.transpose(w2, 0, 1))\n",
    "        d_l1 = d_a1 * sigmoid_prime(l1)\n",
    "        d_b1 = d_l1\n",
    "        d_w1 = torch.matmul(torch.transpose(X, 0, 1), d_l1)\n",
    "        \n",
    "        w1 = w1 - learning_rate * d_w1\n",
    "        b1 = b1 - learning_rate * torch.mean(d_b1, 0)\n",
    "        w2 = w2 - learning_rate * d_w2\n",
    "        b2 = b2 - learning_rate * torch.mean(d_b2, 0)\n",
    "        \n",
    "        if i % 1000 == 0:\n",
    "            l1 = torch.add(torch.matmul(X_test, w1), b1)\n",
    "            a1 = sigmoid(l1)\n",
    "            l2 = torch.add(torch.matmul(a1, w2), b2)\n",
    "            y_pred = sigmoid(l2)\n",
    "            acct_mat = torch.argmax(y_pred, 1) == y_test\n",
    "            acct_res = acct_mat.sum()\n",
    "            print(\"{:.2f} %\".format(acct_res.item()/1000 * 100))\n",
    "\n",
    "        if i == 10000:\n",
    "            break\n",
    "        "
   ]
  },
  {
   "cell_type": "code",
   "execution_count": null,
   "id": "a8bba8f1",
   "metadata": {},
   "outputs": [],
   "source": []
  }
 ],
 "metadata": {
  "kernelspec": {
   "display_name": "Python 3",
   "language": "python",
   "name": "python3"
  },
  "language_info": {
   "codemirror_mode": {
    "name": "ipython",
    "version": 3
   },
   "file_extension": ".py",
   "mimetype": "text/x-python",
   "name": "python",
   "nbconvert_exporter": "python",
   "pygments_lexer": "ipython3",
   "version": "3.8.10"
  }
 },
 "nbformat": 4,
 "nbformat_minor": 5
}
