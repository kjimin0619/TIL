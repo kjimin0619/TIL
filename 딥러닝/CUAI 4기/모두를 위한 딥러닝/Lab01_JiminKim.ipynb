{
 "cells": [
  {
   "cell_type": "code",
   "execution_count": 3,
   "id": "9f914f8a",
   "metadata": {},
   "outputs": [],
   "source": [
    "import numpy as np\n",
    "import torch"
   ]
  },
  {
   "cell_type": "markdown",
   "id": "c507fe0a",
   "metadata": {},
   "source": [
    "# NumPy Review\n",
    "## 1d Array with NumPy"
   ]
  },
  {
   "cell_type": "code",
   "execution_count": 5,
   "id": "794e4e68",
   "metadata": {},
   "outputs": [
    {
     "name": "stdout",
     "output_type": "stream",
     "text": [
      "[0. 1. 2. 3. 4. 5. 6.]\n"
     ]
    }
   ],
   "source": [
    "t = np.array([0., 1., 2., 3., 4., 5., 6.])\n",
    "print(t)"
   ]
  },
  {
   "cell_type": "code",
   "execution_count": 7,
   "id": "36a0090d",
   "metadata": {},
   "outputs": [
    {
     "name": "stdout",
     "output_type": "stream",
     "text": [
      "Rank  of t:  1\n",
      "Sahpe of t:  (7,)\n"
     ]
    }
   ],
   "source": [
    "print('Rank  of t: ', t.ndim) # rank\n",
    "print('Sahpe of t: ', t.shape)"
   ]
  },
  {
   "cell_type": "code",
   "execution_count": 13,
   "id": "77882d12",
   "metadata": {},
   "outputs": [
    {
     "name": "stdout",
     "output_type": "stream",
     "text": [
      "t[0] t[1] t[-1] =  0.0 1.0 6.0\n",
      "t[2:5] t[4:-1]  =  [2. 3. 4.] [4. 5.]\n",
      "t[:2] t[3:]     =  [0. 1.] [3. 4. 5. 6.]\n"
     ]
    }
   ],
   "source": [
    "print('t[0] t[1] t[-1] = ', t[0], t[1], t[-1]) # Element\n",
    "print('t[2:5] t[4:-1]  = ',t[2:5], t[4:-1]) # Slicing\n",
    "print('t[:2] t[3:]     = ', t[:2], t[3:]) # Slicing"
   ]
  },
  {
   "cell_type": "markdown",
   "id": "cafa5b58",
   "metadata": {},
   "source": [
    "## 2D Array with Numpy"
   ]
  },
  {
   "cell_type": "code",
   "execution_count": 14,
   "id": "1315b67d",
   "metadata": {},
   "outputs": [
    {
     "name": "stdout",
     "output_type": "stream",
     "text": [
      "[[ 1.  2.  3.]\n",
      " [ 4.  5.  6.]\n",
      " [ 7.  8.  9.]\n",
      " [10. 11. 12.]]\n"
     ]
    }
   ],
   "source": [
    "t = np.array([[1., 2., 3.],[4., 5., 6.], [7., 8., 9.], [10., 11., 12.]])\n",
    "print(t)"
   ]
  },
  {
   "cell_type": "code",
   "execution_count": 15,
   "id": "98a61a80",
   "metadata": {},
   "outputs": [
    {
     "name": "stdout",
     "output_type": "stream",
     "text": [
      "Rank  of t:  2\n",
      "Shape of t: (4, 3)\n"
     ]
    }
   ],
   "source": [
    "print('Rank  of t: ', t.ndim) # rank\n",
    "print('Shape of t:', t.shape)"
   ]
  },
  {
   "cell_type": "markdown",
   "id": "4b6c01b9",
   "metadata": {},
   "source": [
    "# PyTorch Tensor\n",
    "## 1D Array with PyTorch"
   ]
  },
  {
   "cell_type": "code",
   "execution_count": 16,
   "id": "7bf12a1a",
   "metadata": {},
   "outputs": [
    {
     "name": "stdout",
     "output_type": "stream",
     "text": [
      "tensor([0., 1., 2., 3., 4., 5., 6.])\n"
     ]
    }
   ],
   "source": [
    "t = torch.FloatTensor([0., 1., 2., 3., 4., 5., 6.])\n",
    "print(t)"
   ]
  },
  {
   "cell_type": "code",
   "execution_count": 19,
   "id": "8908362c",
   "metadata": {},
   "outputs": [
    {
     "name": "stdout",
     "output_type": "stream",
     "text": [
      "1\n",
      "torch.Size([7])\n",
      "torch.Size([7])\n",
      "tensor(0.) tensor(1.) tensor(5.)\n",
      "tensor([2., 3., 4.]) tensor([4., 5.])\n",
      "tensor([0., 1.]) tensor([3., 4., 5., 6.])\n"
     ]
    }
   ],
   "source": [
    "print(t.dim()) # rank\n",
    "print(t.shape) # shape\n",
    "print(t.size()) # shape\n",
    "print(t[0], t[1], t[-2]) # Element\n",
    "print(t[2:5], t[4:-1]) # Slicing\n",
    "print(t[:2], t[3:]) # Slicing"
   ]
  },
  {
   "cell_type": "markdown",
   "id": "ee2cb0f2",
   "metadata": {},
   "source": [
    "## 2D Array with PyTorch"
   ]
  },
  {
   "cell_type": "code",
   "execution_count": 20,
   "id": "72c89990",
   "metadata": {},
   "outputs": [
    {
     "name": "stdout",
     "output_type": "stream",
     "text": [
      "tensor([[ 1.,  2.,  3.],\n",
      "        [ 4.,  5.,  6.],\n",
      "        [ 7.,  8.,  9.],\n",
      "        [10., 11., 12.]])\n"
     ]
    }
   ],
   "source": [
    "t = torch.FloatTensor([[1., 2., 3.],[4., 5., 6.], [7., 8., 9.], [10., 11., 12.]])\n",
    "print(t)"
   ]
  },
  {
   "cell_type": "code",
   "execution_count": 34,
   "id": "5a6ee155",
   "metadata": {},
   "outputs": [
    {
     "name": "stdout",
     "output_type": "stream",
     "text": [
      "2\n",
      "torch.Size([4, 3])\n",
      "torch.Size([4, 3])\n",
      "tensor([ 2.,  5.,  8., 11.])\n",
      "torch.Size([4])\n",
      "tensor([[ 1.,  2.],\n",
      "        [ 4.,  5.],\n",
      "        [ 7.,  8.],\n",
      "        [10., 11.]])\n"
     ]
    }
   ],
   "source": [
    "print(t.dim()) # rank\n",
    "print(t.size()) # shape\n",
    "print(t.shape) # shape\n",
    "print(t[:, 1]) \n",
    "print(t[:, 1].size())\n",
    "print(t[:, :-1])"
   ]
  },
  {
   "cell_type": "markdown",
   "id": "c67a7dad",
   "metadata": {},
   "source": [
    "# Broadcasting"
   ]
  },
  {
   "cell_type": "code",
   "execution_count": 24,
   "id": "19cb265d",
   "metadata": {},
   "outputs": [
    {
     "name": "stdout",
     "output_type": "stream",
     "text": [
      "tensor([[3., 3.]])\n",
      "tensor([[2., 2.]])\n",
      "tensor([[5., 5.]])\n"
     ]
    }
   ],
   "source": [
    "# Same shape\n",
    "m1 = torch.FloatTensor([[3,3]])\n",
    "m2 = torch.FloatTensor([[2,2]])\n",
    "print(m1)\n",
    "print(m2)\n",
    "print(m1 + m2)"
   ]
  },
  {
   "cell_type": "code",
   "execution_count": 25,
   "id": "af1ff735",
   "metadata": {},
   "outputs": [
    {
     "name": "stdout",
     "output_type": "stream",
     "text": [
      "tensor([[1., 2.]])\n",
      "tensor([[3.]])\n",
      "tensor([[4., 5.]])\n"
     ]
    }
   ],
   "source": [
    "# Vector + scalar\n",
    "m1 = torch.FloatTensor([[1,2]])\n",
    "m2 = torch.FloatTensor([[3]]) # m2 : (1,) -> (1,2)\n",
    "print(m1)\n",
    "print(m2)\n",
    "print(m1 + m2)"
   ]
  },
  {
   "cell_type": "code",
   "execution_count": 30,
   "id": "4cbdf997",
   "metadata": {},
   "outputs": [
    {
     "name": "stdout",
     "output_type": "stream",
     "text": [
      "tensor([[1., 2.]]) torch.Size([1, 2])\n",
      "tensor([[[3.],\n",
      "         [4.]]]) torch.Size([1, 2, 1])\n",
      "\n",
      "tensor([[[4., 5.],\n",
      "         [5., 6.]]])\n"
     ]
    }
   ],
   "source": [
    "# 2 x 1 Vector + 1 x 2 Vector\n",
    "m1 = torch.FloatTensor([[1,2]]) # m1 : (1,2) -> (2,2)\n",
    "m2 = torch.FloatTensor([[[3],[4]]]) # m2 : (1,2,1) -> (2,2)\n",
    "print(m1, m1.size())\n",
    "print(m2,m2.size())\n",
    "print()\n",
    "print(m1 + m2)"
   ]
  },
  {
   "cell_type": "code",
   "execution_count": 36,
   "id": "6f58601b",
   "metadata": {},
   "outputs": [
    {
     "name": "stdout",
     "output_type": "stream",
     "text": [
      "\n",
      "==============\n",
      "Mul vs Matmul\n",
      "==============\n",
      "Shape of Matrix 1:  torch.Size([2, 2])\n",
      "Shape of Matrix 2:  torch.Size([2, 1])\n",
      "tensor([[ 5.],\n",
      "        [11.]])\n",
      "\n",
      "Shape of Matrix 1:  torch.Size([2, 2])\n",
      "Shape of Matrix 2:  torch.Size([2, 1])\n",
      "tensor([[1., 2.],\n",
      "        [6., 8.]])\n",
      "tensor([[1., 2.],\n",
      "        [6., 8.]])\n"
     ]
    }
   ],
   "source": [
    "print()\n",
    "print(\"==============\")\n",
    "print(\"Mul vs Matmul\")\n",
    "print(\"==============\")\n",
    "m1 = torch.FloatTensor([[1,2],[3,4]]) # 2 x 2\n",
    "m2 = torch.FloatTensor([[1], [2]]) # 2 x 1\n",
    "print(\"Shape of Matrix 1: \", m1.size())\n",
    "print(\"Shape of Matrix 2: \", m2.size())\n",
    "print(m1.matmul(m2)) # 2 x 1. 행렬 곱 연산\n",
    "\n",
    "print()\n",
    "m1 = torch.FloatTensor([[1,2],[3,4]]) # 2 x 2\n",
    "m2 = torch.FloatTensor([[1], [2]]) # 2 x 1\n",
    "print(\"Shape of Matrix 1: \", m1.size())\n",
    "print(\"Shape of Matrix 2: \", m2.size())\n",
    "print(m1 * m2) # 2 x 2. elementwise\n",
    "print(m1.mul(m2)) # 2 x 2. elementwise"
   ]
  },
  {
   "cell_type": "markdown",
   "id": "229da21a",
   "metadata": {},
   "source": [
    "# Mean"
   ]
  },
  {
   "cell_type": "code",
   "execution_count": 37,
   "id": "484b1dec",
   "metadata": {},
   "outputs": [
    {
     "name": "stdout",
     "output_type": "stream",
     "text": [
      "tensor(1.5000)\n"
     ]
    }
   ],
   "source": [
    "t = torch.FloatTensor([1,2])\n",
    "print(t.mean())"
   ]
  },
  {
   "cell_type": "code",
   "execution_count": 38,
   "id": "5c8ff7cc",
   "metadata": {},
   "outputs": [
    {
     "name": "stdout",
     "output_type": "stream",
     "text": [
      "Can only calculate the mean of floating types. Got Long instead.\n"
     ]
    }
   ],
   "source": [
    "# Can not use mean() on integers\n",
    "t = torch.LongTensor([1,2])\n",
    "try:\n",
    "    print(t.mean())\n",
    "except Exception as exc:\n",
    "    print(exc)"
   ]
  },
  {
   "cell_type": "code",
   "execution_count": 39,
   "id": "b1c03aeb",
   "metadata": {},
   "outputs": [
    {
     "name": "stdout",
     "output_type": "stream",
     "text": [
      "tensor([[1., 2.],\n",
      "        [3., 4.]])\n"
     ]
    }
   ],
   "source": [
    "# you can also use t.mean for higher rank tensors to get mean of all elements or mean by particular dimension\n",
    "t = torch.FloatTensor([[1., 2.],[3., 4.]])\n",
    "print(t)"
   ]
  },
  {
   "cell_type": "code",
   "execution_count": 42,
   "id": "825fcdd8",
   "metadata": {},
   "outputs": [
    {
     "name": "stdout",
     "output_type": "stream",
     "text": [
      "t,mean         :  tensor(2.5000)\n",
      "t,mean(dim=0)  :  tensor([2., 3.])\n",
      "t,mean(dim=1)  :  tensor([1.5000, 3.5000])\n",
      "t,mean(dim=-1) :  tensor([1.5000, 3.5000])\n"
     ]
    }
   ],
   "source": [
    "print('t.mean         : ',t.mean()) # 전체 원소의 평균\n",
    "print('t.mean(dim=0)  : ',t.mean(dim=0)) # 첫 번째 차원 단위의 평균(세로)\n",
    "print('t.mean(dim=1)  : ',t.mean(dim=1)) # 두 번째 차원 단위의 평균(가로)\n",
    "print('t.mean(dim=-1) : ',t.mean(dim=-1))"
   ]
  },
  {
   "cell_type": "markdown",
   "id": "34127aef",
   "metadata": {},
   "source": [
    "# Sum"
   ]
  },
  {
   "cell_type": "code",
   "execution_count": 43,
   "id": "be5b140e",
   "metadata": {},
   "outputs": [
    {
     "name": "stdout",
     "output_type": "stream",
     "text": [
      "tensor([[1., 2.],\n",
      "        [3., 4.]])\n"
     ]
    }
   ],
   "source": [
    "t = torch.FloatTensor([[1., 2.],[3., 4.]])\n",
    "print(t)"
   ]
  },
  {
   "cell_type": "code",
   "execution_count": 44,
   "id": "222976a1",
   "metadata": {},
   "outputs": [
    {
     "name": "stdout",
     "output_type": "stream",
     "text": [
      "t.sum()         :  tensor(10.)\n",
      "t.sum(dim=0)  :  tensor([4., 6.])\n",
      "t.sum(dim=1)  :  tensor([3., 7.])\n",
      "t.sum(dim=-1) :  tensor([3., 7.])\n"
     ]
    }
   ],
   "source": [
    "print('t.sum()         : ',t.sum()) # 전체 원소의 평균\n",
    "print('t.sum(dim=0)  : ',t.sum(dim=0)) # 첫 번째 차원 단위의 합(세로)\n",
    "print('t.sum(dim=1)  : ',t.sum(dim=1)) # 두 번째 차원 단위의 합(가로)\n",
    "print('t.sum(dim=-1) : ',t.sum(dim=-1))"
   ]
  },
  {
   "cell_type": "markdown",
   "id": "d95a52e6",
   "metadata": {},
   "source": [
    "# Max and Argmax\n"
   ]
  },
  {
   "cell_type": "code",
   "execution_count": 45,
   "id": "c6752dbd",
   "metadata": {},
   "outputs": [
    {
     "name": "stdout",
     "output_type": "stream",
     "text": [
      "tensor([[1., 2.],\n",
      "        [3., 4.]])\n"
     ]
    }
   ],
   "source": [
    "t = torch.FloatTensor([[1., 2.],[3., 4.]])\n",
    "print(t)"
   ]
  },
  {
   "cell_type": "markdown",
   "id": "d4fc262b",
   "metadata": {},
   "source": [
    "`max` operator returns one value if it is called without an argument"
   ]
  },
  {
   "cell_type": "code",
   "execution_count": 47,
   "id": "a0a9c830",
   "metadata": {},
   "outputs": [
    {
     "name": "stdout",
     "output_type": "stream",
     "text": [
      "tensor(4.)\n"
     ]
    }
   ],
   "source": [
    "print(t.max())"
   ]
  },
  {
   "cell_type": "markdown",
   "id": "d329cf8c",
   "metadata": {},
   "source": [
    "`max` returns 2 values when called with dimension specified.  \n",
    "the first value is the maximum value, and the second value is the argmax: the index of the element with maximum value"
   ]
  },
  {
   "cell_type": "code",
   "execution_count": 50,
   "id": "85692e64",
   "metadata": {},
   "outputs": [
    {
     "name": "stdout",
     "output_type": "stream",
     "text": [
      "torch.return_types.max(\n",
      "values=tensor([3., 4.]),\n",
      "indices=tensor([1, 1]))\n",
      "\n",
      "Max:     tensor([3., 4.])\n",
      "Argmax:  tensor([1, 1])\n"
     ]
    }
   ],
   "source": [
    "# returns 2 values when called with dimension specified\n",
    "print(t.max(dim=0))\n",
    "print()\n",
    "print('Max:    ', t.max(dim=0)[0]) # 원소\n",
    "print('Argmax: ', t.max(dim=0)[1]) # 최댓값의 인덱스"
   ]
  },
  {
   "cell_type": "code",
   "execution_count": 53,
   "id": "ce47d21b",
   "metadata": {},
   "outputs": [
    {
     "name": "stdout",
     "output_type": "stream",
     "text": [
      "torch.return_types.max(\n",
      "values=tensor([2., 4.]),\n",
      "indices=tensor([1, 1]))\n",
      "\n",
      "Max:     torch.return_types.max(\n",
      "values=tensor([2., 4.]),\n",
      "indices=tensor([1, 1]))\n",
      "\n",
      "Argmax:  torch.return_types.max(\n",
      "values=tensor([2., 4.]),\n",
      "indices=tensor([1, 1]))\n"
     ]
    }
   ],
   "source": [
    "print(t.max(dim=1))\n",
    "print()\n",
    "print('Max:    ', t.max(dim=1))\n",
    "print()\n",
    "print('Argmax: ', t.max(dim=1))"
   ]
  },
  {
   "cell_type": "markdown",
   "id": "b20123f2",
   "metadata": {},
   "source": [
    "# View\n",
    "- numpy의 reshape과 유사"
   ]
  },
  {
   "cell_type": "code",
   "execution_count": 54,
   "id": "1d3a4f7d",
   "metadata": {},
   "outputs": [
    {
     "name": "stdout",
     "output_type": "stream",
     "text": [
      "torch.Size([2, 2, 3])\n"
     ]
    }
   ],
   "source": [
    "t = np.array([[[0,1,2],\n",
    "              [3,4,5]],\n",
    "             \n",
    "             [[6,7,8],\n",
    "             [9,10,11]]])\n",
    "\n",
    "ft = torch.FloatTensor(t)\n",
    "print(ft.shape)"
   ]
  },
  {
   "cell_type": "code",
   "execution_count": 55,
   "id": "8c54f0b2",
   "metadata": {},
   "outputs": [
    {
     "name": "stdout",
     "output_type": "stream",
     "text": [
      "tensor([[ 0.,  1.,  2.],\n",
      "        [ 3.,  4.,  5.],\n",
      "        [ 6.,  7.,  8.],\n",
      "        [ 9., 10., 11.]])\n",
      "torch.Size([4, 3])\n"
     ]
    }
   ],
   "source": [
    "print(ft.view([-1,3]))\n",
    "print(ft.view([-1,3]).shape)"
   ]
  },
  {
   "cell_type": "code",
   "execution_count": 56,
   "id": "3ba4ed6f",
   "metadata": {},
   "outputs": [
    {
     "name": "stdout",
     "output_type": "stream",
     "text": [
      "tensor([[[ 0.,  1.,  2.]],\n",
      "\n",
      "        [[ 3.,  4.,  5.]],\n",
      "\n",
      "        [[ 6.,  7.,  8.]],\n",
      "\n",
      "        [[ 9., 10., 11.]]])\n",
      "torch.Size([4, 1, 3])\n"
     ]
    }
   ],
   "source": [
    "print(ft.view([-1,1,3]))\n",
    "print(ft.view([-1,1,3]).shape)"
   ]
  },
  {
   "cell_type": "markdown",
   "id": "1cd9facb",
   "metadata": {},
   "source": [
    "# Squeeze\n",
    "- 차원 축소"
   ]
  },
  {
   "cell_type": "code",
   "execution_count": 57,
   "id": "d417f809",
   "metadata": {},
   "outputs": [
    {
     "name": "stdout",
     "output_type": "stream",
     "text": [
      "tensor([[0.],\n",
      "        [1.],\n",
      "        [2.]])\n",
      "torch.Size([3, 1])\n"
     ]
    }
   ],
   "source": [
    "ft = torch.FloatTensor([[0],[1],[2]])\n",
    "print(ft)\n",
    "print(ft.shape)"
   ]
  },
  {
   "cell_type": "code",
   "execution_count": 58,
   "id": "18df57ee",
   "metadata": {},
   "outputs": [
    {
     "name": "stdout",
     "output_type": "stream",
     "text": [
      "tensor([0., 1., 2.])\n",
      "torch.Size([3])\n"
     ]
    }
   ],
   "source": [
    "print(ft.squeeze())\n",
    "print(ft.squeeze().shape)"
   ]
  },
  {
   "cell_type": "code",
   "execution_count": 62,
   "id": "7495657a",
   "metadata": {},
   "outputs": [
    {
     "name": "stdout",
     "output_type": "stream",
     "text": [
      "tensor([[0.],\n",
      "        [1.],\n",
      "        [2.]])\n",
      "torch.Size([3])\n"
     ]
    }
   ],
   "source": [
    "print(ft.squeeze(dim = 0)) \n",
    "print(ft.squeeze(dim = 1)) # 두번째 차원 없애기"
   ]
  },
  {
   "cell_type": "markdown",
   "id": "6b26f5e3",
   "metadata": {},
   "source": [
    "# Unsqueeze"
   ]
  },
  {
   "cell_type": "code",
   "execution_count": 66,
   "id": "9622c31b",
   "metadata": {},
   "outputs": [
    {
     "name": "stdout",
     "output_type": "stream",
     "text": [
      "tensor([0., 1., 2.])\n",
      "torch.Size([3])\n"
     ]
    }
   ],
   "source": [
    "ft = torch.Tensor([0,1,2])\n",
    "print(ft)\n",
    "print(ft.shape)"
   ]
  },
  {
   "cell_type": "code",
   "execution_count": 64,
   "id": "ccbee32b",
   "metadata": {},
   "outputs": [
    {
     "name": "stdout",
     "output_type": "stream",
     "text": [
      "tensor([[0., 1., 2.]])\n",
      "torch.Size([1, 3])\n"
     ]
    }
   ],
   "source": [
    "print(ft.unsqueeze(0)) # dim = 0 (3,) => (1,3)\n",
    "print(ft.unsqueeze(0).shape)"
   ]
  },
  {
   "cell_type": "code",
   "execution_count": 67,
   "id": "8edf024d",
   "metadata": {},
   "outputs": [
    {
     "name": "stdout",
     "output_type": "stream",
     "text": [
      "tensor([[0., 1., 2.]])\n",
      "torch.Size([1, 3])\n"
     ]
    }
   ],
   "source": [
    "print(ft.view(1,-1))\n",
    "print(ft.view(1,-1).shape)"
   ]
  },
  {
   "cell_type": "code",
   "execution_count": 68,
   "id": "fb7f99be",
   "metadata": {},
   "outputs": [
    {
     "name": "stdout",
     "output_type": "stream",
     "text": [
      "tensor([[0.],\n",
      "        [1.],\n",
      "        [2.]])\n",
      "torch.Size([3, 1])\n"
     ]
    }
   ],
   "source": [
    "print(ft.unsqueeze(1)) # dim = 1 (3,) => (3,1)\n",
    "print(ft.unsqueeze(1).shape)"
   ]
  },
  {
   "cell_type": "code",
   "execution_count": 69,
   "id": "edb23cda",
   "metadata": {},
   "outputs": [
    {
     "name": "stdout",
     "output_type": "stream",
     "text": [
      "tensor([[0.],\n",
      "        [1.],\n",
      "        [2.]])\n",
      "torch.Size([3, 1])\n"
     ]
    }
   ],
   "source": [
    "print(ft.unsqueeze(-1)) # dim = -1 == dim = 1 (3,) => (3,1)\n",
    "print(ft.unsqueeze(-1).shape)"
   ]
  },
  {
   "cell_type": "markdown",
   "id": "b4c92cc6",
   "metadata": {},
   "source": [
    "# Type Casting"
   ]
  },
  {
   "cell_type": "code",
   "execution_count": 70,
   "id": "86c3e01c",
   "metadata": {},
   "outputs": [
    {
     "name": "stdout",
     "output_type": "stream",
     "text": [
      "tensor([1, 2, 3, 4])\n"
     ]
    }
   ],
   "source": [
    "lt = torch.LongTensor([1,2,3,4])\n",
    "print(lt)"
   ]
  },
  {
   "cell_type": "code",
   "execution_count": 72,
   "id": "25fa3a6e",
   "metadata": {},
   "outputs": [
    {
     "name": "stdout",
     "output_type": "stream",
     "text": [
      "tensor([0., 1., 2.])\n"
     ]
    }
   ],
   "source": [
    "print(ft.float())"
   ]
  },
  {
   "cell_type": "code",
   "execution_count": 73,
   "id": "00eba597",
   "metadata": {},
   "outputs": [
    {
     "name": "stdout",
     "output_type": "stream",
     "text": [
      "tensor([1, 0, 0, 1], dtype=torch.uint8)\n"
     ]
    }
   ],
   "source": [
    "bt = torch.ByteTensor([True,False,False, True])\n",
    "print(bt)"
   ]
  },
  {
   "cell_type": "code",
   "execution_count": 74,
   "id": "76876865",
   "metadata": {},
   "outputs": [
    {
     "name": "stdout",
     "output_type": "stream",
     "text": [
      "tensor([1, 0, 0, 1])\n",
      "tensor([1., 0., 0., 1.])\n"
     ]
    }
   ],
   "source": [
    "print(bt.long())\n",
    "print(bt.float())"
   ]
  },
  {
   "cell_type": "code",
   "execution_count": 77,
   "id": "8bfa880a",
   "metadata": {},
   "outputs": [
    {
     "name": "stdout",
     "output_type": "stream",
     "text": [
      "tensor([False, False,  True, False])\n",
      "tensor([0, 0, 1, 0])\n"
     ]
    }
   ],
   "source": [
    "bt = (lt == 3)\n",
    "print(bt)\n",
    "print(bt.long())"
   ]
  },
  {
   "cell_type": "markdown",
   "id": "c71f3a27",
   "metadata": {},
   "source": [
    "# Concatenate"
   ]
  },
  {
   "cell_type": "code",
   "execution_count": 79,
   "id": "df2cffa3",
   "metadata": {},
   "outputs": [],
   "source": [
    "x = torch.FloatTensor([[1,2],[3,4]]) # (2,2)\n",
    "y = torch.FloatTensor([[5,6],[7,8]]) # (2,2)"
   ]
  },
  {
   "cell_type": "code",
   "execution_count": 80,
   "id": "938f6e95",
   "metadata": {},
   "outputs": [
    {
     "name": "stdout",
     "output_type": "stream",
     "text": [
      "tensor([[1., 2.],\n",
      "        [3., 4.]])\n",
      "tensor([[5., 6.],\n",
      "        [7., 8.]])\n"
     ]
    }
   ],
   "source": [
    "print(x)\n",
    "print(y)"
   ]
  },
  {
   "cell_type": "code",
   "execution_count": 81,
   "id": "32e8f45b",
   "metadata": {},
   "outputs": [
    {
     "name": "stdout",
     "output_type": "stream",
     "text": [
      "tensor([[1., 2.],\n",
      "        [3., 4.],\n",
      "        [5., 6.],\n",
      "        [7., 8.]])\n",
      "tensor([[1., 2., 5., 6.],\n",
      "        [3., 4., 7., 8.]])\n"
     ]
    }
   ],
   "source": [
    "print(torch.cat([x,y],dim=0)) # (4,2)\n",
    "print(torch.cat([x,y],dim=1)) # (2,4)"
   ]
  },
  {
   "cell_type": "markdown",
   "id": "6aa2bbeb",
   "metadata": {},
   "source": [
    "# Stacking"
   ]
  },
  {
   "cell_type": "code",
   "execution_count": 82,
   "id": "4c1389ba",
   "metadata": {},
   "outputs": [],
   "source": [
    "x = torch.FloatTensor([1,4]) # (2,)\n",
    "y = torch.FloatTensor([2,5]) # (2,)\n",
    "z = torch.FloatTensor([3,6]) # (2,)"
   ]
  },
  {
   "cell_type": "code",
   "execution_count": 83,
   "id": "76eb2744",
   "metadata": {},
   "outputs": [
    {
     "name": "stdout",
     "output_type": "stream",
     "text": [
      "tensor([[1., 4.],\n",
      "        [2., 5.],\n",
      "        [3., 6.]])\n",
      "tensor([[1., 2., 3.],\n",
      "        [4., 5., 6.]])\n"
     ]
    }
   ],
   "source": [
    "print(torch.stack([x,y,z])) # (3,2)\n",
    "print(torch.stack([x,y,z], dim=1)) # (2,3)"
   ]
  },
  {
   "cell_type": "code",
   "execution_count": 85,
   "id": "b8a0b043",
   "metadata": {},
   "outputs": [
    {
     "name": "stdout",
     "output_type": "stream",
     "text": [
      "tensor([[1., 4.]])\n",
      "torch.Size([1, 2])\n"
     ]
    }
   ],
   "source": [
    "print(x.unsqueeze(0))\n",
    "print(x.unsqueeze(0).shape)"
   ]
  },
  {
   "cell_type": "code",
   "execution_count": 84,
   "id": "aca1c472",
   "metadata": {},
   "outputs": [
    {
     "name": "stdout",
     "output_type": "stream",
     "text": [
      "tensor([[1., 4.],\n",
      "        [2., 5.],\n",
      "        [3., 6.]])\n"
     ]
    }
   ],
   "source": [
    "print(torch.cat([x.unsqueeze(0), y.unsqueeze(0), z.unsqueeze(0)], dim=0))"
   ]
  },
  {
   "cell_type": "markdown",
   "id": "e05e8ff0",
   "metadata": {},
   "source": [
    "# Ones and Zeros"
   ]
  },
  {
   "cell_type": "code",
   "execution_count": 86,
   "id": "fe42d00b",
   "metadata": {},
   "outputs": [
    {
     "name": "stdout",
     "output_type": "stream",
     "text": [
      "tensor([[0., 1., 2.],\n",
      "        [2., 1., 0.]])\n"
     ]
    }
   ],
   "source": [
    "x = torch.FloatTensor([[0,1,2],[2,1,0]])\n",
    "print(x)"
   ]
  },
  {
   "cell_type": "code",
   "execution_count": 88,
   "id": "87dd3bbc",
   "metadata": {},
   "outputs": [
    {
     "name": "stdout",
     "output_type": "stream",
     "text": [
      "tensor([[1., 1., 1.],\n",
      "        [1., 1., 1.]])\n",
      "tensor([[0., 0., 0.],\n",
      "        [0., 0., 0.]])\n"
     ]
    }
   ],
   "source": [
    "print(torch.ones_like(x)) # x와 같은 크기의 행렬\n",
    "print(torch.zeros_like(x))"
   ]
  },
  {
   "cell_type": "markdown",
   "id": "cdb66009",
   "metadata": {},
   "source": [
    "# In-place Operation"
   ]
  },
  {
   "cell_type": "code",
   "execution_count": 92,
   "id": "1d3394a0",
   "metadata": {},
   "outputs": [
    {
     "name": "stdout",
     "output_type": "stream",
     "text": [
      "tensor([[1., 2.],\n",
      "        [3., 4.]])\n"
     ]
    }
   ],
   "source": [
    "x = torch.FloatTensor([[1,2],[3,4]])\n",
    "print(x)"
   ]
  },
  {
   "cell_type": "code",
   "execution_count": 94,
   "id": "51f59b8b",
   "metadata": {},
   "outputs": [
    {
     "name": "stdout",
     "output_type": "stream",
     "text": [
      "tensor([[ 4.,  8.],\n",
      "        [12., 16.]])\n",
      "tensor([[2., 4.],\n",
      "        [6., 8.]])\n",
      "tensor([[ 4.,  8.],\n",
      "        [12., 16.]])\n",
      "tensor([[ 4.,  8.],\n",
      "        [12., 16.]])\n"
     ]
    }
   ],
   "source": [
    "print(x.mul(2.)) # x x 2\n",
    "print(x) # 깊은 복사. 원본 텐서 수정 x\n",
    "print(x.mul_(2.))\n",
    "print(x) # 얕은 복사. 원본 텐서 수정 o"
   ]
  },
  {
   "cell_type": "markdown",
   "id": "dc810a7e",
   "metadata": {},
   "source": [
    "# Miscellaneous"
   ]
  },
  {
   "cell_type": "markdown",
   "id": "694447b9",
   "metadata": {},
   "source": [
    "## zip"
   ]
  },
  {
   "cell_type": "code",
   "execution_count": 100,
   "id": "2639d9be",
   "metadata": {},
   "outputs": [
    {
     "name": "stdout",
     "output_type": "stream",
     "text": [
      "(1, 4)\n",
      "(2, 5)\n",
      "(3, 6)\n"
     ]
    }
   ],
   "source": [
    "for x in zip([1,2,3],[4,5,6]):\n",
    "    print(x)"
   ]
  },
  {
   "cell_type": "code",
   "execution_count": 101,
   "id": "fe10e713",
   "metadata": {},
   "outputs": [
    {
     "name": "stdout",
     "output_type": "stream",
     "text": [
      "(1, 4, 7)\n",
      "(2, 5, 8)\n",
      "(3, 6, 9)\n"
     ]
    }
   ],
   "source": [
    "for x in zip([1, 2, 3], [4, 5, 6], [7, 8, 9]):\n",
    "    print(x)"
   ]
  },
  {
   "cell_type": "code",
   "execution_count": 102,
   "id": "b99680bb",
   "metadata": {},
   "outputs": [
    {
     "name": "stdout",
     "output_type": "stream",
     "text": [
      "1 4\n",
      "2 5\n",
      "3 6\n"
     ]
    }
   ],
   "source": [
    "for x,y in zip([1,2,3],[4,5,6]):\n",
    "    print(x,y)\n",
    "    "
   ]
  },
  {
   "cell_type": "code",
   "execution_count": 104,
   "id": "09f9dcfd",
   "metadata": {},
   "outputs": [
    {
     "name": "stdout",
     "output_type": "stream",
     "text": [
      "1 4 7\n",
      "2 5 8\n",
      "3 6 9\n"
     ]
    }
   ],
   "source": [
    "for x,y,z in zip([1, 2, 3], [4, 5, 6], [7, 8, 9]):\n",
    "    print(x,y,z)"
   ]
  }
 ],
 "metadata": {
  "kernelspec": {
   "display_name": "Python 3",
   "language": "python",
   "name": "python3"
  },
  "language_info": {
   "codemirror_mode": {
    "name": "ipython",
    "version": 3
   },
   "file_extension": ".py",
   "mimetype": "text/x-python",
   "name": "python",
   "nbconvert_exporter": "python",
   "pygments_lexer": "ipython3",
   "version": "3.8.10"
  }
 },
 "nbformat": 4,
 "nbformat_minor": 5
}
