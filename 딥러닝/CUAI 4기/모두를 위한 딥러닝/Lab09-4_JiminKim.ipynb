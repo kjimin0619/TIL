{
 "cells": [
  {
   "cell_type": "markdown",
   "id": "1453e555",
   "metadata": {},
   "source": [
    "## 가중치 초기화(xavier)"
   ]
  },
  {
   "cell_type": "code",
   "execution_count": 1,
   "id": "863fbabc",
   "metadata": {},
   "outputs": [],
   "source": [
    "import torch\n",
    "import torchvision.datasets as dsets\n",
    "import torchvision.transforms as transforms\n",
    "import random"
   ]
  },
  {
   "cell_type": "code",
   "execution_count": 2,
   "id": "8709d480",
   "metadata": {},
   "outputs": [],
   "source": [
    "device = 'cuda'\n",
    "\n",
    "random.seed(111)\n",
    "torch.manual_seed(777)\n",
    "if device == 'cuda':\n",
    "    torch.cuda.manual_seed_all(777)"
   ]
  },
  {
   "cell_type": "code",
   "execution_count": 3,
   "id": "95f6b991",
   "metadata": {},
   "outputs": [],
   "source": [
    "# 파라미터\n",
    "learning_rate = 0.001\n",
    "training_epochs = 15\n",
    "batch_size = 100"
   ]
  },
  {
   "cell_type": "code",
   "execution_count": 4,
   "id": "2ff416d6",
   "metadata": {},
   "outputs": [],
   "source": [
    "# 데이터 가져오기\n",
    "mnist_train = dsets.MNIST(root='./MNIST_data/',\n",
    "                          train=True,\n",
    "                          transform=transforms.ToTensor(),\n",
    "                          download=True)\n",
    "\n",
    "mnist_test = dsets.MNIST(root='./MNIST_data/',\n",
    "                         train=False,\n",
    "                         transform=transforms.ToTensor(),\n",
    "                         download=True)"
   ]
  },
  {
   "cell_type": "code",
   "execution_count": 5,
   "id": "7e359701",
   "metadata": {},
   "outputs": [],
   "source": [
    "# dataset loader\n",
    "# 배치 사이즈만큼 이미지 데이터들이 묶여있음\n",
    "data_loader = torch.utils.data.DataLoader(dataset = mnist_train,\n",
    "                                         batch_size = batch_size,\n",
    "                                         shuffle=True,\n",
    "                                         drop_last = True)"
   ]
  },
  {
   "cell_type": "code",
   "execution_count": 8,
   "id": "6be2fcc3",
   "metadata": {},
   "outputs": [],
   "source": [
    "# nn layers\n",
    "linear1 = torch.nn.Linear(784,512, bias = True)\n",
    "linear2 = torch.nn.Linear(512,512, bias = True)\n",
    "linear3 = torch.nn.Linear(512,512, bias = True)\n",
    "linear4 = torch.nn.Linear(512,512, bias = True)\n",
    "linear5 = torch.nn.Linear(512,10, bias = True)\n",
    "\n",
    "relu = torch.nn.ReLU()"
   ]
  },
  {
   "cell_type": "code",
   "execution_count": 9,
   "id": "262ada01",
   "metadata": {},
   "outputs": [
    {
     "data": {
      "text/plain": [
       "Parameter containing:\n",
       "tensor([[-0.0740,  0.0187, -0.0574,  ..., -0.0222, -0.0648,  0.0520],\n",
       "        [-0.0291,  0.0522, -0.0714,  ..., -0.0521, -0.0983, -0.0065],\n",
       "        [ 0.0889, -0.0081, -0.0600,  ..., -0.0100,  0.0868,  0.0456],\n",
       "        ...,\n",
       "        [-0.0461, -0.0889, -0.0729,  ..., -0.0090,  0.0636, -0.0572],\n",
       "        [ 0.0822,  0.0670,  0.0546,  ..., -0.0046, -0.0461, -0.1039],\n",
       "        [ 0.0055, -0.0434, -0.0374,  ..., -0.0704, -0.0504, -0.0068]],\n",
       "       requires_grad=True)"
      ]
     },
     "execution_count": 9,
     "metadata": {},
     "output_type": "execute_result"
    }
   ],
   "source": [
    "# xavier initialization\n",
    "torch.nn.init.xavier_uniform_(linear1.weight)\n",
    "torch.nn.init.xavier_uniform_(linear2.weight)\n",
    "torch.nn.init.xavier_uniform_(linear3.weight)\n",
    "torch.nn.init.xavier_uniform_(linear4.weight)\n",
    "torch.nn.init.xavier_uniform_(linear5.weight)"
   ]
  },
  {
   "cell_type": "code",
   "execution_count": 13,
   "id": "ce666642",
   "metadata": {},
   "outputs": [],
   "source": [
    "# 모델 생성\n",
    "model = torch.nn.Sequential(linear1, relu, linear2, relu, linear3, relu, linear4, relu, linear5).to(device)\n",
    "\n",
    "# cost, loss, optimizer 정의\n",
    "criterion = torch.nn.CrossEntropyLoss().to(device) # 소프트맥스(출력층 활성화함수) 함수가 내장됨\n",
    "optimizer = torch.optim.Adam(model.parameters(), lr = learning_rate)"
   ]
  },
  {
   "cell_type": "code",
   "execution_count": 14,
   "id": "b68b111a",
   "metadata": {},
   "outputs": [
    {
     "name": "stdout",
     "output_type": "stream",
     "text": [
      "Epoch: 0001 cost = 0.215799943\n",
      "Epoch: 0002 cost = 0.091863021\n",
      "Epoch: 0003 cost = 0.067131549\n",
      "Epoch: 0004 cost = 0.051596958\n",
      "Epoch: 0005 cost = 0.040742286\n",
      "Epoch: 0006 cost = 0.032920625\n",
      "Epoch: 0007 cost = 0.029942259\n",
      "Epoch: 0008 cost = 0.028333234\n",
      "Epoch: 0009 cost = 0.023690661\n",
      "Epoch: 0010 cost = 0.022386836\n",
      "Epoch: 0011 cost = 0.019931471\n",
      "Epoch: 0012 cost = 0.018685168\n",
      "Epoch: 0013 cost = 0.019478919\n",
      "Epoch: 0014 cost = 0.017803261\n",
      "Epoch: 0015 cost = 0.013195137\n",
      "Learning finished\n"
     ]
    }
   ],
   "source": [
    "# training\n",
    "total_batch = len(data_loader)\n",
    "for epoch in range(training_epochs):\n",
    "    avg_cost = 0\n",
    "    \n",
    "    for X,Y in data_loader:\n",
    "        X = X.view(-1,28*28).to(device)\n",
    "        Y = Y.to(device)\n",
    "        \n",
    "        optimizer.zero_grad()\n",
    "        hypothesis = model(X)\n",
    "        cost = criterion(hypothesis, Y)\n",
    "        cost.backward()\n",
    "        optimizer.step()\n",
    "        \n",
    "        avg_cost += cost / total_batch # 배치묶음별 평균 cost 저장\n",
    "        \n",
    "    print('Epoch:', '%04d' % (epoch + 1), 'cost =', '{:.9f}'.format(avg_cost))\n",
    "\n",
    "print('Learning finished')"
   ]
  },
  {
   "cell_type": "code",
   "execution_count": 15,
   "id": "d6cc1c25",
   "metadata": {},
   "outputs": [
    {
     "name": "stdout",
     "output_type": "stream",
     "text": [
      "Accuracy: 0.9793999791145325\n",
      "tensor([9], device='cuda:0')\n",
      "Label:  9\n",
      "Prediction:  9\n"
     ]
    },
    {
     "name": "stderr",
     "output_type": "stream",
     "text": [
      "/home/ubuntu/anaconda3/lib/python3.6/site-packages/torchvision/datasets/mnist.py:58: UserWarning: test_data has been renamed data\n",
      "  warnings.warn(\"test_data has been renamed data\")\n",
      "/home/ubuntu/anaconda3/lib/python3.6/site-packages/torchvision/datasets/mnist.py:48: UserWarning: test_labels has been renamed targets\n",
      "  warnings.warn(\"test_labels has been renamed targets\")\n"
     ]
    }
   ],
   "source": [
    "# test\n",
    "with torch.no_grad():\n",
    "    X_test = mnist_test.test_data.view(-1,28*28).float().to(device)\n",
    "    Y_test = mnist_test.test_labels.to(device)\n",
    "    \n",
    "    prediction = model(X_test)\n",
    "    correct_prediction = torch.argmax(prediction, 1) == Y_test\n",
    "    accuracy = correct_prediction.float().mean()\n",
    "    print('Accuracy:', accuracy.item())\n",
    "    \n",
    "    # 이미지 하나 예측\n",
    "    r = random.randint(0, len(mnist_test) - 1)\n",
    "    X_single_data = mnist_test.test_data[r:r + 1].view(-1, 28*28).float().to(device)\n",
    "    Y_single_data = mnist_test.test_labels[r:r+1].to(device)\n",
    "    \n",
    "    print(Y_single_data)\n",
    "    print('Label: ', Y_single_data.item())\n",
    "    single_prediction = model(X_single_data)\n",
    "    print('Prediction: ', torch.argmax(single_prediction, 1).item())"
   ]
  }
 ],
 "metadata": {
  "kernelspec": {
   "display_name": "Python 3",
   "language": "python",
   "name": "python3"
  },
  "language_info": {
   "codemirror_mode": {
    "name": "ipython",
    "version": 3
   },
   "file_extension": ".py",
   "mimetype": "text/x-python",
   "name": "python",
   "nbconvert_exporter": "python",
   "pygments_lexer": "ipython3",
   "version": "3.6.10"
  }
 },
 "nbformat": 4,
 "nbformat_minor": 5
}
