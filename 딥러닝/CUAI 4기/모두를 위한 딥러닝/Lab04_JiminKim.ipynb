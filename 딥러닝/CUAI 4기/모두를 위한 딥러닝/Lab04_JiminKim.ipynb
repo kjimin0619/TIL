{
 "cells": [
  {
   "cell_type": "code",
   "execution_count": 1,
   "id": "7a5000ef",
   "metadata": {},
   "outputs": [],
   "source": [
    "import torch\n",
    "import torch.nn as nn\n",
    "import torch.nn.functional as F\n",
    "import torch.optim as optim"
   ]
  },
  {
   "cell_type": "code",
   "execution_count": 2,
   "id": "ac3a08fd",
   "metadata": {},
   "outputs": [
    {
     "data": {
      "text/plain": [
       "<torch._C.Generator at 0x1dc7f522e90>"
      ]
     },
     "execution_count": 2,
     "metadata": {},
     "output_type": "execute_result"
    }
   ],
   "source": [
    "torch.manual_seed(1)"
   ]
  },
  {
   "cell_type": "markdown",
   "id": "25a95702",
   "metadata": {},
   "source": [
    "## Naive Data Representation\n",
    "- fake data for this example"
   ]
  },
  {
   "cell_type": "code",
   "execution_count": 18,
   "id": "d2214e8e",
   "metadata": {},
   "outputs": [],
   "source": [
    "# fake data 생성\n",
    "x1_train = torch.FloatTensor([[73],[93],[89],[96],[73]])\n",
    "x2_train = torch.FloatTensor([[80],[88],[91],[96],[66]])\n",
    "x3_train = torch.FloatTensor([[75], [93], [90], [100], [70]])\n",
    "y_train = torch.FloatTensor([[152], [185], [180], [196], [142]])"
   ]
  },
  {
   "cell_type": "code",
   "execution_count": 29,
   "id": "8fccc3cf",
   "metadata": {},
   "outputs": [
    {
     "name": "stdout",
     "output_type": "stream",
     "text": [
      "Epoch    0/1000 | w1: 0.294 | w2: 0.292 | w3: 0.297 | b: 0.003 | Cost: 29661.800781\n",
      "Epoch  100/1000 | w1: 0.675 | w2: 0.660 | w3: 0.679 | b: 0.008 | Cost: 1.244309\n",
      "Epoch  200/1000 | w1: 0.679 | w2: 0.654 | w3: 0.680 | b: 0.008 | Cost: 1.190139\n",
      "Epoch  300/1000 | w1: 0.684 | w2: 0.649 | w3: 0.681 | b: 0.008 | Cost: 1.138749\n",
      "Epoch  400/1000 | w1: 0.688 | w2: 0.643 | w3: 0.683 | b: 0.008 | Cost: 1.090007\n",
      "Epoch  500/1000 | w1: 0.692 | w2: 0.638 | w3: 0.684 | b: 0.008 | Cost: 1.043758\n",
      "Epoch  600/1000 | w1: 0.696 | w2: 0.633 | w3: 0.685 | b: 0.008 | Cost: 0.999887\n",
      "Epoch  700/1000 | w1: 0.700 | w2: 0.628 | w3: 0.686 | b: 0.008 | Cost: 0.958271\n",
      "Epoch  800/1000 | w1: 0.704 | w2: 0.623 | w3: 0.686 | b: 0.008 | Cost: 0.918777\n",
      "Epoch  900/1000 | w1: 0.708 | w2: 0.618 | w3: 0.687 | b: 0.008 | Cost: 0.881332\n",
      "Epoch 1000/1000 | w1: 0.712 | w2: 0.614 | w3: 0.688 | b: 0.009 | Cost: 0.845792\n"
     ]
    }
   ],
   "source": [
    "# 모델 초기화\n",
    "w1 = torch.zeros(1, requires_grad = True)\n",
    "w2 = torch.zeros(1, requires_grad = True)\n",
    "w3 = torch.zeros(1, requires_grad = True)\n",
    "b = torch.zeros(1, requires_grad = True)\n",
    "\n",
    "# optimizer 설정\n",
    "optimizer = optim.SGD([w1,w2,w3,b], lr=1e-5)\n",
    "nb_epochs = 1000\n",
    "\n",
    "for epoch in range(nb_epochs+1):\n",
    "    # H(x) \n",
    "    hypothesis = x1_train * w1 + x2_train * w2 + x3_train * w3 + b\n",
    "    \n",
    "    # Cost\n",
    "    cost = torch.mean((hypothesis - y_train)**2)\n",
    "    \n",
    "    # H(x) update\n",
    "    optimizer.zero_grad()\n",
    "    cost.backward()\n",
    "    optimizer.step()\n",
    "    \n",
    "    # 100번마다 로그 출력\n",
    "    if (epoch % 100 == 0):\n",
    "        print('Epoch {:4d}/{} | w1: {:.3f} | w2: {:.3f} | w3: {:.3f} | b: {:.3f} | Cost: {:.6f}'.format(epoch, nb_epochs, w1.item(), w2.item(), w3.item(), b.item(), cost.item()))        "
   ]
  },
  {
   "cell_type": "markdown",
   "id": "085ace19",
   "metadata": {},
   "source": [
    "## Matrix Data Representation"
   ]
  },
  {
   "cell_type": "code",
   "execution_count": 21,
   "id": "5b91cd09",
   "metadata": {},
   "outputs": [],
   "source": [
    "x_train = torch.FloatTensor([[73, 80, 75],\n",
    "                             [93, 88, 93],\n",
    "                             [89, 91, 90],\n",
    "                             [96, 98, 100],\n",
    "                             [73, 66, 70]])\n",
    "y_train = torch.FloatTensor([[152],[185],[180],[196],[142]])"
   ]
  },
  {
   "cell_type": "code",
   "execution_count": 22,
   "id": "3deadd8a",
   "metadata": {},
   "outputs": [
    {
     "name": "stdout",
     "output_type": "stream",
     "text": [
      "torch.Size([5, 3])\n"
     ]
    }
   ],
   "source": [
    "print(x_train.shape)"
   ]
  },
  {
   "cell_type": "code",
   "execution_count": 23,
   "id": "98f3653e",
   "metadata": {},
   "outputs": [
    {
     "name": "stdout",
     "output_type": "stream",
     "text": [
      "torch.Size([5, 1])\n"
     ]
    }
   ],
   "source": [
    "print(y_train.shape)"
   ]
  },
  {
   "cell_type": "code",
   "execution_count": 26,
   "id": "0061bb64",
   "metadata": {},
   "outputs": [
    {
     "name": "stdout",
     "output_type": "stream",
     "text": [
      "Epoch    0/20 | w1: 0.712 | w2: 0.614 | w3: 0.688 | b: 0.003 | Cost: 29661.800781\n",
      "Epoch    1/20 | w1: 0.712 | w2: 0.614 | w3: 0.688 | b: 0.005 | Cost: 9298.520508\n",
      "Epoch    2/20 | w1: 0.712 | w2: 0.614 | w3: 0.688 | b: 0.006 | Cost: 2915.712402\n",
      "Epoch    3/20 | w1: 0.712 | w2: 0.614 | w3: 0.688 | b: 0.007 | Cost: 915.040649\n",
      "Epoch    4/20 | w1: 0.712 | w2: 0.614 | w3: 0.688 | b: 0.007 | Cost: 287.936157\n",
      "Epoch    5/20 | w1: 0.712 | w2: 0.614 | w3: 0.688 | b: 0.008 | Cost: 91.371010\n",
      "Epoch    6/20 | w1: 0.712 | w2: 0.614 | w3: 0.688 | b: 0.008 | Cost: 29.758249\n",
      "Epoch    7/20 | w1: 0.712 | w2: 0.614 | w3: 0.688 | b: 0.008 | Cost: 10.445281\n",
      "Epoch    8/20 | w1: 0.712 | w2: 0.614 | w3: 0.688 | b: 0.008 | Cost: 4.391237\n",
      "Epoch    9/20 | w1: 0.712 | w2: 0.614 | w3: 0.688 | b: 0.008 | Cost: 2.493121\n",
      "Epoch   10/20 | w1: 0.712 | w2: 0.614 | w3: 0.688 | b: 0.008 | Cost: 1.897688\n",
      "Epoch   11/20 | w1: 0.712 | w2: 0.614 | w3: 0.688 | b: 0.008 | Cost: 1.710555\n",
      "Epoch   12/20 | w1: 0.712 | w2: 0.614 | w3: 0.688 | b: 0.008 | Cost: 1.651412\n",
      "Epoch   13/20 | w1: 0.712 | w2: 0.614 | w3: 0.688 | b: 0.008 | Cost: 1.632369\n",
      "Epoch   14/20 | w1: 0.712 | w2: 0.614 | w3: 0.688 | b: 0.008 | Cost: 1.625924\n",
      "Epoch   15/20 | w1: 0.712 | w2: 0.614 | w3: 0.688 | b: 0.008 | Cost: 1.623420\n",
      "Epoch   16/20 | w1: 0.712 | w2: 0.614 | w3: 0.688 | b: 0.008 | Cost: 1.622141\n",
      "Epoch   17/20 | w1: 0.712 | w2: 0.614 | w3: 0.688 | b: 0.008 | Cost: 1.621262\n",
      "Epoch   18/20 | w1: 0.712 | w2: 0.614 | w3: 0.688 | b: 0.008 | Cost: 1.620501\n",
      "Epoch   19/20 | w1: 0.712 | w2: 0.614 | w3: 0.688 | b: 0.008 | Cost: 1.619764\n",
      "Epoch   20/20 | w1: 0.712 | w2: 0.614 | w3: 0.688 | b: 0.008 | Cost: 1.619046\n"
     ]
    }
   ],
   "source": [
    "# 모델 초기화\n",
    "W= torch.zeros((3,1), requires_grad = True) # w1,w2,w3\n",
    "b = torch.zeros(1, requires_grad = True)\n",
    "\n",
    "# optimizer 설정\n",
    "optimizer = optim.SGD([W,b], lr=1e-5)\n",
    "nb_epochs = 20\n",
    "\n",
    "for epoch in range(nb_epochs+1):\n",
    "    # H(x) \n",
    "    hypothesis = x_train.matmul(W) + b\n",
    "    \n",
    "    # Cost\n",
    "    cost = torch.mean((hypothesis - y_train)**2)\n",
    "    \n",
    "    # H(x) update\n",
    "    optimizer.zero_grad()\n",
    "    cost.backward()\n",
    "    optimizer.step()\n",
    "    \n",
    "    print('Epoch {:4d}/{} | w1: {:.3f} | w2: {:.3f} | w3: {:.3f} | b: {:.3f} | Cost: {:.6f}'.format(epoch, nb_epochs, w1.item(), w2.item(), w3.item(), b.item(), cost.item()))"
   ]
  },
  {
   "cell_type": "markdown",
   "id": "3cc2da0e",
   "metadata": {},
   "source": [
    "## High-level Implementation with nn.Module"
   ]
  },
  {
   "cell_type": "code",
   "execution_count": 31,
   "id": "c87e7ccf",
   "metadata": {},
   "outputs": [],
   "source": [
    "# Didemsion 1\n",
    "class LinearRegressinModel(nn.Module):\n",
    "    def __init__(self):\n",
    "        super().__init__()\n",
    "        self.linear = nn.Linear(1,1)\n",
    "        \n",
    "    def forward(self, x):\n",
    "        return self.linear(x)"
   ]
  },
  {
   "cell_type": "code",
   "execution_count": 33,
   "id": "3cf3cc1a",
   "metadata": {},
   "outputs": [],
   "source": [
    "# Dimension 3\n",
    "class MultivariateLinearRegressionModel(nn.Module):\n",
    "    def __init__(self):\n",
    "        super().__init__()\n",
    "        self.linear = nn.Linear(3,1) # 입력 3 -> 출력 1\n",
    "        \n",
    "    def forward(self, x):\n",
    "        return self.linear(x)"
   ]
  },
  {
   "cell_type": "code",
   "execution_count": 37,
   "id": "66c10d17",
   "metadata": {},
   "outputs": [
    {
     "name": "stdout",
     "output_type": "stream",
     "text": [
      "Epoch    0/20 | w1: 0.712 | w2: 0.614 | w3: 0.688 | b: 0.009 | Cost: 24821.373047\n",
      "Epoch    1/20 | w1: 0.712 | w2: 0.614 | w3: 0.688 | b: 0.009 | Cost: 7780.782715\n",
      "Epoch    2/20 | w1: 0.712 | w2: 0.614 | w3: 0.688 | b: 0.009 | Cost: 2439.462646\n",
      "Epoch    3/20 | w1: 0.712 | w2: 0.614 | w3: 0.688 | b: 0.009 | Cost: 765.240906\n",
      "Epoch    4/20 | w1: 0.712 | w2: 0.614 | w3: 0.688 | b: 0.009 | Cost: 240.461670\n",
      "Epoch    5/20 | w1: 0.712 | w2: 0.614 | w3: 0.688 | b: 0.009 | Cost: 75.971008\n",
      "Epoch    6/20 | w1: 0.712 | w2: 0.614 | w3: 0.688 | b: 0.009 | Cost: 24.411728\n",
      "Epoch    7/20 | w1: 0.712 | w2: 0.614 | w3: 0.688 | b: 0.009 | Cost: 8.250521\n",
      "Epoch    8/20 | w1: 0.712 | w2: 0.614 | w3: 0.688 | b: 0.009 | Cost: 3.184611\n",
      "Epoch    9/20 | w1: 0.712 | w2: 0.614 | w3: 0.688 | b: 0.009 | Cost: 1.596575\n",
      "Epoch   10/20 | w1: 0.712 | w2: 0.614 | w3: 0.688 | b: 0.009 | Cost: 1.098635\n",
      "Epoch   11/20 | w1: 0.712 | w2: 0.614 | w3: 0.688 | b: 0.009 | Cost: 0.942370\n",
      "Epoch   12/20 | w1: 0.712 | w2: 0.614 | w3: 0.688 | b: 0.009 | Cost: 0.893222\n",
      "Epoch   13/20 | w1: 0.712 | w2: 0.614 | w3: 0.688 | b: 0.009 | Cost: 0.877664\n",
      "Epoch   14/20 | w1: 0.712 | w2: 0.614 | w3: 0.688 | b: 0.009 | Cost: 0.872597\n",
      "Epoch   15/20 | w1: 0.712 | w2: 0.614 | w3: 0.688 | b: 0.009 | Cost: 0.870833\n",
      "Epoch   16/20 | w1: 0.712 | w2: 0.614 | w3: 0.688 | b: 0.009 | Cost: 0.870109\n",
      "Epoch   17/20 | w1: 0.712 | w2: 0.614 | w3: 0.688 | b: 0.009 | Cost: 0.869714\n",
      "Epoch   18/20 | w1: 0.712 | w2: 0.614 | w3: 0.688 | b: 0.009 | Cost: 0.869413\n",
      "Epoch   19/20 | w1: 0.712 | w2: 0.614 | w3: 0.688 | b: 0.009 | Cost: 0.869144\n",
      "Epoch   20/20 | w1: 0.712 | w2: 0.614 | w3: 0.688 | b: 0.009 | Cost: 0.868886\n"
     ]
    }
   ],
   "source": [
    "x_train = torch.FloatTensor([[73, 80, 75],\n",
    "                             [93, 88, 93],\n",
    "                             [89, 91, 90],\n",
    "                             [96, 98, 100],\n",
    "                             [73, 66, 70]])\n",
    "y_train = torch.FloatTensor([[152],[185],[180],[196],[142]])\n",
    "\n",
    "# 모델 초기화\n",
    "model = MultivariateLinearRegressionModel()\n",
    "\n",
    "# optimizer 설정\n",
    "optimizer = optim.SGD(model.parameters(), lr=1e-5)\n",
    "nb_epochs = 20\n",
    "\n",
    "for epoch in range(nb_epochs+1):\n",
    "    # H(x) \n",
    "    prediction = model(x_train)\n",
    "    \n",
    "    # Cost\n",
    "    cost = F.mse_loss(prediction, y_train)\n",
    "    \n",
    "    # H(x) update\n",
    "    optimizer.zero_grad()\n",
    "    cost.backward()\n",
    "    optimizer.step()\n",
    "    \n",
    "    print('Epoch {:4d}/{} | w1: {:.3f} | w2: {:.3f} | w3: {:.3f} | b: {:.3f} | Cost: {:.6f}'.format(epoch, nb_epochs, w1.item(), w2.item(), w3.item(), b.item(), cost.item()))"
   ]
  }
 ],
 "metadata": {
  "kernelspec": {
   "display_name": "Python 3",
   "language": "python",
   "name": "python3"
  },
  "language_info": {
   "codemirror_mode": {
    "name": "ipython",
    "version": 3
   },
   "file_extension": ".py",
   "mimetype": "text/x-python",
   "name": "python",
   "nbconvert_exporter": "python",
   "pygments_lexer": "ipython3",
   "version": "3.8.10"
  }
 },
 "nbformat": 4,
 "nbformat_minor": 5
}
