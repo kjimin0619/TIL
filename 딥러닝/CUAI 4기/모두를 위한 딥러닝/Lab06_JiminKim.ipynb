{
 "cells": [
  {
   "cell_type": "code",
   "execution_count": 18,
   "id": "7b4d2723",
   "metadata": {},
   "outputs": [],
   "source": [
    "import torch\n",
    "import torch.nn as nn\n",
    "import torch.nn.functional as F\n",
    "import torch.optim as optim"
   ]
  },
  {
   "cell_type": "code",
   "execution_count": 19,
   "id": "4cd71c44",
   "metadata": {},
   "outputs": [
    {
     "data": {
      "text/plain": [
       "<torch._C.Generator at 0x12143046ef0>"
      ]
     },
     "execution_count": 19,
     "metadata": {},
     "output_type": "execute_result"
    }
   ],
   "source": [
    "torch.manual_seed(1)"
   ]
  },
  {
   "cell_type": "markdown",
   "id": "ae7d9b74",
   "metadata": {},
   "source": [
    "## Softmax"
   ]
  },
  {
   "cell_type": "code",
   "execution_count": 20,
   "id": "26015488",
   "metadata": {},
   "outputs": [
    {
     "name": "stdout",
     "output_type": "stream",
     "text": [
      "tensor([0.0900, 0.2447, 0.6652])\n"
     ]
    }
   ],
   "source": [
    "z = torch.FloatTensor([1,2,3])\n",
    "\n",
    "hypothesis = F.softmax(z, dim=0)\n",
    "print(hypothesis) # 각각의 확률값"
   ]
  },
  {
   "cell_type": "code",
   "execution_count": 21,
   "id": "2409944d",
   "metadata": {},
   "outputs": [
    {
     "data": {
      "text/plain": [
       "tensor(1.)"
      ]
     },
     "execution_count": 21,
     "metadata": {},
     "output_type": "execute_result"
    }
   ],
   "source": [
    "# propability\n",
    "hypothesis.sum()"
   ]
  },
  {
   "cell_type": "markdown",
   "id": "24a9266a",
   "metadata": {},
   "source": [
    "## Cross Entropy Loss(Low-level)"
   ]
  },
  {
   "cell_type": "code",
   "execution_count": 22,
   "id": "7d6e3818",
   "metadata": {},
   "outputs": [
    {
     "name": "stdout",
     "output_type": "stream",
     "text": [
      "tensor([[0.2645, 0.1639, 0.1855, 0.2585, 0.1277],\n",
      "        [0.2430, 0.1624, 0.2322, 0.1930, 0.1694],\n",
      "        [0.2226, 0.1986, 0.2326, 0.1594, 0.1868]], grad_fn=<SoftmaxBackward>)\n"
     ]
    }
   ],
   "source": [
    "z = torch.rand(3,5, requires_grad = True)\n",
    "hypothesis = F.softmax(z, dim=1) # 두 번째 dimension에 대해서 구함\n",
    "print(hypothesis)"
   ]
  },
  {
   "cell_type": "code",
   "execution_count": 23,
   "id": "8943e606",
   "metadata": {},
   "outputs": [
    {
     "name": "stdout",
     "output_type": "stream",
     "text": [
      "tensor([0, 2, 1])\n"
     ]
    }
   ],
   "source": [
    "# 임의의 정답 인덱스\n",
    "y = torch.randint(5,(3,)).long()\n",
    "print(y)"
   ]
  },
  {
   "cell_type": "code",
   "execution_count": 24,
   "id": "b3fda1e6",
   "metadata": {},
   "outputs": [
    {
     "name": "stdout",
     "output_type": "stream",
     "text": [
      "torch.Size([3])\n",
      "tensor([[0],\n",
      "        [2],\n",
      "        [1]])\n"
     ]
    }
   ],
   "source": [
    "print(y.shape) # (1,3)\n",
    "print(y.unsqueeze(1)) # (3,1)"
   ]
  },
  {
   "cell_type": "code",
   "execution_count": 25,
   "id": "5582ec99",
   "metadata": {},
   "outputs": [
    {
     "data": {
      "text/plain": [
       "tensor([[1., 0., 0., 0., 0.],\n",
       "        [0., 0., 1., 0., 0.],\n",
       "        [0., 1., 0., 0., 0.]])"
      ]
     },
     "execution_count": 25,
     "metadata": {},
     "output_type": "execute_result"
    }
   ],
   "source": [
    "# 정답 원핫인코딩\n",
    "y_one_hot = torch.zeros_like(hypothesis)\n",
    "y_one_hot.scatter_(1, y.unsqueeze(1),1) # inplace 연산,"
   ]
  },
  {
   "cell_type": "code",
   "execution_count": 26,
   "id": "eeea8e1a",
   "metadata": {},
   "outputs": [
    {
     "name": "stdout",
     "output_type": "stream",
     "text": [
      "tensor(1.4689, grad_fn=<MeanBackward0>)\n"
     ]
    }
   ],
   "source": [
    "cost = (y_one_hot * -torch.log(hypothesis)).sum(dim=1).mean() # (3,5) -> (3,) -> scalar  \n",
    "print(cost)"
   ]
  },
  {
   "cell_type": "markdown",
   "id": "49411187",
   "metadata": {},
   "source": [
    "## Cross Entropy Loss with torch.nn.functional"
   ]
  },
  {
   "cell_type": "code",
   "execution_count": 32,
   "id": "5362d098",
   "metadata": {},
   "outputs": [
    {
     "data": {
      "text/plain": [
       "tensor([[0.2645, 0.1639, 0.1855, 0.2585, 0.1277],\n",
       "        [0.2430, 0.1624, 0.2322, 0.1930, 0.1694],\n",
       "        [0.2226, 0.1986, 0.2326, 0.1594, 0.1868]], grad_fn=<SoftmaxBackward>)"
      ]
     },
     "execution_count": 32,
     "metadata": {},
     "output_type": "execute_result"
    }
   ],
   "source": [
    "F.softmax(z,dim=1)"
   ]
  },
  {
   "cell_type": "code",
   "execution_count": 27,
   "id": "2e041b62",
   "metadata": {},
   "outputs": [
    {
     "data": {
      "text/plain": [
       "tensor([[-1.3301, -1.8084, -1.6846, -1.3530, -2.0584],\n",
       "        [-1.4147, -1.8174, -1.4602, -1.6450, -1.7758],\n",
       "        [-1.5025, -1.6165, -1.4586, -1.8360, -1.6776]], grad_fn=<LogBackward>)"
      ]
     },
     "execution_count": 27,
     "metadata": {},
     "output_type": "execute_result"
    }
   ],
   "source": [
    "# low level\n",
    "torch.log(F.softmax(z,dim=1))"
   ]
  },
  {
   "cell_type": "code",
   "execution_count": 28,
   "id": "ab063969",
   "metadata": {},
   "outputs": [
    {
     "data": {
      "text/plain": [
       "tensor([[-1.3301, -1.8084, -1.6846, -1.3530, -2.0584],\n",
       "        [-1.4147, -1.8174, -1.4602, -1.6450, -1.7758],\n",
       "        [-1.5025, -1.6165, -1.4586, -1.8360, -1.6776]],\n",
       "       grad_fn=<LogSoftmaxBackward>)"
      ]
     },
     "execution_count": 28,
     "metadata": {},
     "output_type": "execute_result"
    }
   ],
   "source": [
    "# high level\n",
    "F.log_softmax(z, dim=1)"
   ]
  },
  {
   "cell_type": "markdown",
   "id": "9a08bad2",
   "metadata": {},
   "source": [
    "### F.nll_loss() - negative loss likelihood"
   ]
  },
  {
   "cell_type": "code",
   "execution_count": 30,
   "id": "939a4586",
   "metadata": {},
   "outputs": [
    {
     "data": {
      "text/plain": [
       "tensor(1.4689, grad_fn=<MeanBackward0>)"
      ]
     },
     "execution_count": 30,
     "metadata": {},
     "output_type": "execute_result"
    }
   ],
   "source": [
    "# Low level\n",
    "(y_one_hot * -torch.log(F.softmax(z, dim=1))).sum(dim=1).mean()"
   ]
  },
  {
   "cell_type": "code",
   "execution_count": 29,
   "id": "0c36ec57",
   "metadata": {},
   "outputs": [
    {
     "data": {
      "text/plain": [
       "tensor(1.4689, grad_fn=<NllLossBackward>)"
      ]
     },
     "execution_count": 29,
     "metadata": {},
     "output_type": "execute_result"
    }
   ],
   "source": [
    "# High level\n",
    "F.nll_loss(F.log_softmax(z, dim=1), y)"
   ]
  },
  {
   "cell_type": "code",
   "execution_count": 31,
   "id": "e7f64787",
   "metadata": {},
   "outputs": [
    {
     "data": {
      "text/plain": [
       "tensor(1.4689, grad_fn=<NllLossBackward>)"
      ]
     },
     "execution_count": 31,
     "metadata": {},
     "output_type": "execute_result"
    }
   ],
   "source": [
    "# log_softmax + nll_loss\n",
    "F.cross_entropy(z,y)"
   ]
  },
  {
   "cell_type": "markdown",
   "id": "78fe4b52",
   "metadata": {},
   "source": [
    "## Training with Low-lebel Cross Entorpy Loss"
   ]
  },
  {
   "cell_type": "code",
   "execution_count": 33,
   "id": "2abe999d",
   "metadata": {},
   "outputs": [],
   "source": [
    "# (m,4) data\n",
    "x_train = [[1, 2, 1, 1],\n",
    "           [2, 1, 3, 2],\n",
    "           [3, 1, 3, 4],\n",
    "           [4, 1, 5, 5],\n",
    "           [1, 7, 5, 5],\n",
    "           [1, 2, 5, 6],\n",
    "           [1, 6, 6, 6],\n",
    "           [1, 7, 7, 7]]\n",
    "y_train = [2, 2, 2, 1, 1, 1, 0, 0] # 정답 인덱스\n",
    "x_train = torch.FloatTensor(x_train)\n",
    "y_train = torch.LongTensor(y_train)"
   ]
  },
  {
   "cell_type": "code",
   "execution_count": 34,
   "id": "2451c518",
   "metadata": {},
   "outputs": [
    {
     "name": "stdout",
     "output_type": "stream",
     "text": [
      "Epoch    0/1000 Cost: 1.098612\n",
      "Epoch  100/1000 Cost: 0.901535\n",
      "Epoch  200/1000 Cost: 0.839114\n",
      "Epoch  300/1000 Cost: 0.807826\n",
      "Epoch  400/1000 Cost: 0.788472\n",
      "Epoch  500/1000 Cost: 0.774822\n",
      "Epoch  600/1000 Cost: 0.764449\n",
      "Epoch  700/1000 Cost: 0.756191\n",
      "Epoch  800/1000 Cost: 0.749398\n",
      "Epoch  900/1000 Cost: 0.743671\n",
      "Epoch 1000/1000 Cost: 0.738749\n"
     ]
    }
   ],
   "source": [
    "# samples = m개\n",
    "# classes = 3\n",
    "# dim = 4\n",
    "\n",
    "# 모델 초기화\n",
    "W = torch.zeros((4, 3), requires_grad=True)\n",
    "b = torch.zeros(1, requires_grad=True)\n",
    "\n",
    "# optimizer\n",
    "optimizer = optim.SGD([W, b], lr=0.1)\n",
    "\n",
    "nb_epochs = 1000\n",
    "for epoch in range(nb_epochs + 1):\n",
    "\n",
    "    # Cost \n",
    "    hypothesis = F.softmax(x_train.matmul(W) + b, dim=1)\n",
    "    y_one_hot = torch.zeros_like(hypothesis)\n",
    "    y_one_hot.scatter_(1, y_train.unsqueeze(1), 1)\n",
    "    cost = (y_one_hot * -torch.log(F.softmax(hypothesis, dim=1))).sum(dim=1).mean()\n",
    "\n",
    "    # H(x) 개선\n",
    "    optimizer.zero_grad()\n",
    "    cost.backward()\n",
    "    optimizer.step()\n",
    "\n",
    "    # 100번마다 로그 출력\n",
    "    if epoch % 100 == 0:\n",
    "        print('Epoch {:4d}/{} Cost: {:.6f}'.format(\n",
    "            epoch, nb_epochs, cost.item()\n",
    "        ))"
   ]
  },
  {
   "cell_type": "markdown",
   "id": "a1a88176",
   "metadata": {},
   "source": [
    "## Training with F.cross_entropy"
   ]
  },
  {
   "cell_type": "code",
   "execution_count": 35,
   "id": "7f41c891",
   "metadata": {
    "scrolled": true
   },
   "outputs": [
    {
     "name": "stdout",
     "output_type": "stream",
     "text": [
      "Epoch    0/1000 Cost: 1.098612\n",
      "Epoch  100/1000 Cost: 0.761050\n",
      "Epoch  200/1000 Cost: 0.689991\n",
      "Epoch  300/1000 Cost: 0.643229\n",
      "Epoch  400/1000 Cost: 0.604117\n",
      "Epoch  500/1000 Cost: 0.568256\n",
      "Epoch  600/1000 Cost: 0.533922\n",
      "Epoch  700/1000 Cost: 0.500291\n",
      "Epoch  800/1000 Cost: 0.466908\n",
      "Epoch  900/1000 Cost: 0.433507\n",
      "Epoch 1000/1000 Cost: 0.399962\n"
     ]
    }
   ],
   "source": [
    "# 모델 초기화\n",
    "W = torch.zeros((4, 3), requires_grad=True)\n",
    "b = torch.zeros(1, requires_grad=True)\n",
    "\n",
    "# optimizer\n",
    "optimizer = optim.SGD([W, b], lr=0.1)\n",
    "\n",
    "nb_epochs = 1000\n",
    "for epoch in range(nb_epochs+1):\n",
    "    \n",
    "    # cost\n",
    "    z = x_train.matmul(W) + b\n",
    "    cost = F.cross_entropy(z,y_train)\n",
    "    \n",
    "    # H(x) 개선\n",
    "    optimizer.zero_grad()\n",
    "    cost.backward()\n",
    "    optimizer.step()\n",
    "    \n",
    "    # 100번마다 로그 출력\n",
    "    if epoch % 100 == 0:\n",
    "        print('Epoch {:4d}/{} Cost: {:.6f}'.format(\n",
    "            epoch, nb_epochs, cost.item()\n",
    "        ))"
   ]
  },
  {
   "cell_type": "markdown",
   "id": "376f348f",
   "metadata": {},
   "source": [
    "## High-level Implementation with nn.Module"
   ]
  },
  {
   "cell_type": "code",
   "execution_count": 38,
   "id": "7e259d54",
   "metadata": {},
   "outputs": [],
   "source": [
    "class SoftmaxClassifierModel(nn.Module):\n",
    "    def __init__(self):\n",
    "        super().__init__()\n",
    "        self.linear = nn.Linear(4,3) # 4 -> 3\n",
    "        \n",
    "    def forward(self, x):\n",
    "        return self.linear(x) # (m,4) -> (m,3)"
   ]
  },
  {
   "cell_type": "code",
   "execution_count": 39,
   "id": "4fa3df06",
   "metadata": {},
   "outputs": [],
   "source": [
    "model = SoftmaxClassifierModel()"
   ]
  },
  {
   "cell_type": "code",
   "execution_count": 40,
   "id": "aaa11623",
   "metadata": {},
   "outputs": [
    {
     "name": "stdout",
     "output_type": "stream",
     "text": [
      "Epoch    0/1000 Cost: 1.849513\n",
      "Epoch   20/1000 Cost: 0.904911\n",
      "Epoch   40/1000 Cost: 0.794997\n",
      "Epoch   60/1000 Cost: 0.746041\n",
      "Epoch   80/1000 Cost: 0.714160\n",
      "Epoch  100/1000 Cost: 0.689894\n",
      "Epoch  120/1000 Cost: 0.669843\n",
      "Epoch  140/1000 Cost: 0.652444\n",
      "Epoch  160/1000 Cost: 0.636856\n",
      "Epoch  180/1000 Cost: 0.622571\n",
      "Epoch  200/1000 Cost: 0.609258\n",
      "Epoch  220/1000 Cost: 0.596692\n",
      "Epoch  240/1000 Cost: 0.584709\n",
      "Epoch  260/1000 Cost: 0.573192\n",
      "Epoch  280/1000 Cost: 0.562051\n",
      "Epoch  300/1000 Cost: 0.551218\n",
      "Epoch  320/1000 Cost: 0.540640\n",
      "Epoch  340/1000 Cost: 0.530274\n",
      "Epoch  360/1000 Cost: 0.520087\n",
      "Epoch  380/1000 Cost: 0.510050\n",
      "Epoch  400/1000 Cost: 0.500141\n",
      "Epoch  420/1000 Cost: 0.490341\n",
      "Epoch  440/1000 Cost: 0.480634\n",
      "Epoch  460/1000 Cost: 0.471007\n",
      "Epoch  480/1000 Cost: 0.461448\n",
      "Epoch  500/1000 Cost: 0.451947\n",
      "Epoch  520/1000 Cost: 0.442496\n",
      "Epoch  540/1000 Cost: 0.433086\n",
      "Epoch  560/1000 Cost: 0.423713\n",
      "Epoch  580/1000 Cost: 0.414369\n",
      "Epoch  600/1000 Cost: 0.405051\n",
      "Epoch  620/1000 Cost: 0.395754\n",
      "Epoch  640/1000 Cost: 0.386476\n",
      "Epoch  660/1000 Cost: 0.377214\n",
      "Epoch  680/1000 Cost: 0.367966\n",
      "Epoch  700/1000 Cost: 0.358733\n",
      "Epoch  720/1000 Cost: 0.349516\n",
      "Epoch  740/1000 Cost: 0.340318\n",
      "Epoch  760/1000 Cost: 0.331144\n",
      "Epoch  780/1000 Cost: 0.322004\n",
      "Epoch  800/1000 Cost: 0.312912\n",
      "Epoch  820/1000 Cost: 0.303889\n",
      "Epoch  840/1000 Cost: 0.294969\n",
      "Epoch  860/1000 Cost: 0.286205\n",
      "Epoch  880/1000 Cost: 0.277680\n",
      "Epoch  900/1000 Cost: 0.269522\n",
      "Epoch  920/1000 Cost: 0.261932\n",
      "Epoch  940/1000 Cost: 0.255187\n",
      "Epoch  960/1000 Cost: 0.249580\n",
      "Epoch  980/1000 Cost: 0.245235\n",
      "Epoch 1000/1000 Cost: 0.241922\n"
     ]
    }
   ],
   "source": [
    "# optimizer\n",
    "optimizer = optim.SGD(model.parameters(), lr=0.1)\n",
    "\n",
    "nb_epochs = 1000\n",
    "for epoch in range(nb_epochs + 1):\n",
    "    \n",
    "    # H(x) 계산\n",
    "    prediction = model(x_train)\n",
    "    \n",
    "    # cost\n",
    "    cost = F.cross_entropy(prediction, y_train)\n",
    "    \n",
    "    # H(x) 개선\n",
    "    optimizer.zero_grad()\n",
    "    cost.backward()\n",
    "    optimizer.step()\n",
    "    \n",
    "    # 20번마다 로그 출력\n",
    "    if epoch % 20 == 0:\n",
    "        print('Epoch {:4d}/{} Cost: {:.6f}'.format(\n",
    "            epoch, nb_epochs, cost.item()\n",
    "        ))"
   ]
  }
 ],
 "metadata": {
  "kernelspec": {
   "display_name": "Python 3",
   "language": "python",
   "name": "python3"
  },
  "language_info": {
   "codemirror_mode": {
    "name": "ipython",
    "version": 3
   },
   "file_extension": ".py",
   "mimetype": "text/x-python",
   "name": "python",
   "nbconvert_exporter": "python",
   "pygments_lexer": "ipython3",
   "version": "3.8.10"
  }
 },
 "nbformat": 4,
 "nbformat_minor": 5
}
