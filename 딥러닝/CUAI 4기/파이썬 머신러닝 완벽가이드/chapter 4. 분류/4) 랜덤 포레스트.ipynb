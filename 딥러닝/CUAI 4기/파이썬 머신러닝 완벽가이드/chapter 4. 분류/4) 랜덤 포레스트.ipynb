{
 "cells": [
  {
   "cell_type": "markdown",
   "metadata": {},
   "source": [
    "# <FONT COLOR = 'GREEN'>랜덤 포레스트 P. 217~"
   ]
  },
  {
   "cell_type": "markdown",
   "metadata": {},
   "source": [
    "## ✔ 랜덤포레스트의 개요 및 실습"
   ]
  },
  {
   "cell_type": "markdown",
   "metadata": {},
   "source": [
    "- **배깅**의 대표적인 알고리즘\n",
    "    - **배깅** : **같은 알고리즘으로 여러 개의 분류기**를 만들어서 보팅으로 최종 결정\n",
    "    \n",
    "    \n",
    "- 앙상블 알고리즘 중 비교적 **빠른 수행 속도**\n",
    "\n",
    "\n",
    "- 다양한 영역에서 **높은 예측 성능**\n",
    "\n",
    "\n",
    "- 랜덤 포레스트의 기반 알고리즘은 결정트리. 결정 트리의 쉽고 직관적인 장점을 그대로 가짐\n",
    "\n",
    "\n",
    "- 여러 개의 결정 트리 분류기가 전체 데이터에서 배깅 방식으로 각자의 데이터를 샘플링해 개별적으로 학습을 수행\n",
    "\n",
    "\n",
    "- 최종적으로 모든 분류기가 보팅을 통해 예측 결정"
   ]
  },
  {
   "cell_type": "markdown",
   "metadata": {},
   "source": [
    "![title](랜덤_포레스트.png)"
   ]
  },
  {
   "cell_type": "markdown",
   "metadata": {},
   "source": [
    "- ***부트스트래핑*** : 개별 트리가 학습하는 데이터 세트는 전체 데이터에서 **일부가 중첩되게 샘플링**된 데이터 세트\n",
    "\n",
    "\n",
    "- 랜덤 포레스트의 서브세트 데이터는 부트스트래핑으로 데이터가 임의로 만들어짐\n"
   ]
  },
  {
   "cell_type": "markdown",
   "metadata": {},
   "source": [
    "### 원본 데이터 건수가 10개인 학습 데이터 세트 & 랜덤 포레스트를 3개의 결정 트리 기반으로 학습\n",
    "- n_estimators = 3으로 하이퍼 파라미터 부여\n",
    "![title](부트스트래핑.png)"
   ]
  },
  {
   "cell_type": "markdown",
   "metadata": {},
   "source": [
    "### 사이킷런의 RandomForestClassifier 클래스 :  랜덤 포레스트 기반의 분류 지원"
   ]
  },
  {
   "cell_type": "code",
   "execution_count": 2,
   "metadata": {},
   "outputs": [],
   "source": [
    "# 결정트리에서 사용한 함수들\n",
    "# 중복된 피처명에 대해서 원본 피처명에 _1 또는 _2 를 추가로 부여해 새로운 피처명을 가지는 데이터프레임 반환\n",
    "\n",
    "import pandas as pd\n",
    "def get_new_feature_name_df(old_feature_name_df):\n",
    "    feature_dup_df = pd.DataFrame(data=old_feature_name_df.groupby('column_name').cumcount(),\n",
    "                                  columns=['dup_cnt'])\n",
    "    feature_dup_df = feature_dup_df.reset_index()\n",
    "    new_feature_name_df = pd.merge(old_feature_name_df.reset_index(), feature_dup_df, how='outer')\n",
    "    new_feature_name_df['column_name'] = new_feature_name_df[['column_name', 'dup_cnt']].apply(lambda x : x[0]+'_'+str(x[1]) \n",
    "                                                                                         if x[1] >0 else x[0] ,  axis=1)\n",
    "    new_feature_name_df = new_feature_name_df.drop(['index'], axis=1)\n",
    "    return new_feature_name_df\n",
    "\n",
    "\n",
    "# 데이터 프레임을 생성하는 함수\n",
    "def get_human_dataset():\n",
    "    \n",
    "    # 각 데이터 파일은 공백으로 분리\n",
    "    # read_csv에서 공백 문자를 sep으로 할당\n",
    "    feature_name_df = pd.read_csv('C:/Users/user/CUAI/DataSet/human_activity/features.txt',sep = '\\s+',\n",
    "                              header=None, names=['column_index','column_name'])\n",
    "    \n",
    "    # 중복된 피처명을 수정하는 get_new_feature_name_df() 이용\n",
    "    # 신규 피처명 DataFrame 생성\n",
    "    new_feature_name_df = get_new_feature_name_df(feature_name_df)\n",
    "    \n",
    "    # DataFrame에 피처명을 칼럼으로 부여하기 위해 리스트 객체로 다시 변환\n",
    "    feature_name = new_feature_name_df.iloc[:,1].values.tolist()\n",
    "    \n",
    "    # 학습 피처, 테스트 피처 데이터 세트 로딩. 칼럼명은 feature_name\n",
    "    x_train = pd.read_csv('C:/Users/user/CUAI/DataSet/human_activity/X_train.txt',sep='\\s+',names=feature_name)\n",
    "    x_test = pd.read_csv('C:/Users/user/CUAI/DataSet/human_activity/X_test.txt',sep='\\s+',names=feature_name)\n",
    "    \n",
    "    # 학습 레이블, 테스트 레이블 데이터 세트 로딩. 칼럼명은 action\n",
    "    y_train = pd.read_csv('C:/Users/user/CUAI/DataSet/human_activity/y_train.txt',sep='\\s+',header=None, names=['action'])\n",
    "    y_test = pd.read_csv('C:/Users/user/CUAI/DataSet/human_activity/y_test.txt',sep='\\s+',header = None, names=['action'])\n",
    "    \n",
    "    # 로드된 학습/테스트용 데이터 프레임 모두 반환\n",
    "    return x_train, x_test, y_train, y_test\n",
    "\n",
    "\n",
    "x_train, x_test, y_train, y_test = get_human_dataset()"
   ]
  },
  {
   "cell_type": "code",
   "execution_count": 3,
   "metadata": {},
   "outputs": [
    {
     "name": "stdout",
     "output_type": "stream",
     "text": [
      "랜덤 포레스트 정확도 : 0.9253\n"
     ]
    }
   ],
   "source": [
    "# 사용자 행동 인식 데이터 세트로 예측수행\n",
    "\n",
    "from sklearn.ensemble import RandomForestClassifier\n",
    "from sklearn.metrics import accuracy_score\n",
    "\n",
    "import pandas as pd\n",
    "import warnings\n",
    "warnings.filterwarnings('ignore')\n",
    "\n",
    "# 결정 트리에서 사용한 get_human_dataset 이용하여 학습/테스트용 데이터프레임 반환\n",
    "# 중복된 피처명 수정\n",
    "# 학습 피처, 테스트 피처 데이터 세트 로딩. 칼럼명은 feature_name \n",
    "# 학습 레이블, 테스트 레이블 데이터 세트 로딩. 칼럼명은 action\n",
    "\n",
    "# 결정트리의 get_human_dataset()을 활용하여 학습/테스트용 데이터프레임 반환\n",
    "x_train, x_test, y_train, y_test = get_human_dataset()\n",
    "\n",
    "# 랜덤 포레스트 학습 및 별도의 테스트 세트로 예측 성능 평가\n",
    "rf_clf = RandomForestClassifier(random_state = 0)\n",
    "rf_clf.fit(x_train, y_train)\n",
    "pred = rf_clf.predict(x_test)\n",
    "accuracy = accuracy_score(y_test, pred)\n",
    "print('랜덤 포레스트 정확도 : {0:.4f}'.format(accuracy))"
   ]
  },
  {
   "cell_type": "markdown",
   "metadata": {},
   "source": [
    "## ✔ 랜덤 포레스트 하이퍼 파라미터 및 튜닝\n",
    "\n",
    "- 트리 기반의 앙상블 알고리즘은 **하이퍼 파라미터가 너무 많고**, 그로 인한 **튜닝 시간이 많이 소모**된다는 단점이 있음\n",
    "\n",
    "\n",
    "- 랜덤 포레스트는 그나마 시간 소모가 적은 편에 속함\n",
    "\n",
    "\n",
    "- **랜덤 포레스트의 하이퍼 파라미터**는 **결정 트리에서 사용되는 하이퍼 파라미터**와 **같은 파라미터가 대부분**이다."
   ]
  },
  {
   "cell_type": "markdown",
   "metadata": {},
   "source": [
    "### 랜덤 포레스트 하이퍼 파라미터\n",
    "\n",
    "- **<font color = 'navy'>n_estimators**\n",
    "    - 랜덤 포레스트에서 결정 트리의 개수를 지정. \n",
    "    - 디폴트는 10개. \n",
    "    - 늘릴수록 학습 수행 시간이 오래 걸린다.\n",
    "    - 많이 설정할수록 좋은 성능을 기대할  수 있지만, 계속 증가시킨다고 무조건 향상되는 건 아님\n",
    "    \n",
    "    \n",
    "- **<font color = 'navy'>max_features**\n",
    "    - 결정트리의 max_features 파라미터와 같음\n",
    "    - 최적의 분할을 위해 고려할 최대 피처 개수\n",
    "    - 디폴트는 'autp' 즉, 'sqrt' \n",
    "    \n",
    "    \n",
    "- 외에도 **<font color = 'navy'>max_depth, min_sampels_leaf**와 같이 결정 트리에서 과적합을 개선하기 위해 사용되는 파라미터가 랜덤 포레스트에도 똑같이 적용될 수 있음"
   ]
  },
  {
   "cell_type": "markdown",
   "metadata": {},
   "source": [
    "### 하이퍼 파라미터 튜닝"
   ]
  },
  {
   "cell_type": "code",
   "execution_count": 9,
   "metadata": {},
   "outputs": [
    {
     "name": "stdout",
     "output_type": "stream",
     "text": [
      "최적 하이퍼 파라미터:\n",
      " {'max_depth': 10, 'min_samples_leaf': 8, 'min_samples_split': 8, 'n_estimators': 100}\n",
      "최고 예측 정확도: 0.9180\n"
     ]
    }
   ],
   "source": [
    "# GridSearchCV를 이용한 랜덤 포레스트의 하이퍼 파라미터 튜닝\n",
    "# 사용자 행동 예측 데이터 세트 활용\n",
    "x_train, x_test, y_train, y_test = get_human_dataset()\n",
    "\n",
    "# n_estimators : 100, \n",
    "# cv : 2(교차 검증을 위해 분할되는 학습/테스트 세트의 개수)\n",
    "\n",
    "from sklearn.model_selection import GridSearchCV\n",
    "\n",
    "params = {\n",
    "    'n_estimators':[100],\n",
    "    'max_depth' : [6, 8, 10, 12], \n",
    "    'min_samples_leaf' : [8, 12, 18 ],\n",
    "    'min_samples_split' : [8, 16, 20]\n",
    "}\n",
    "# RandomForestClassifier 객체 생성 후 GridSearchCV 수행\n",
    "rf_clf = RandomForestClassifier(random_state=0, n_jobs=-1)\n",
    "grid_cv = GridSearchCV(rf_clf , param_grid=params , cv=2, n_jobs=-1 )\n",
    "grid_cv.fit(x_train , y_train)\n",
    "\n",
    "print('최적 하이퍼 파라미터:\\n', grid_cv.best_params_)\n",
    "print('최고 예측 정확도: {0:.4f}'.format(grid_cv.best_score_))"
   ]
  },
  {
   "cell_type": "code",
   "execution_count": 12,
   "metadata": {},
   "outputs": [
    {
     "name": "stdout",
     "output_type": "stream",
     "text": [
      "예측 정확도: 0.9165\n"
     ]
    }
   ],
   "source": [
    "# best : n_estimators : 100, max_depth : 10, min_sampels_leaf : 8, min_samples-split : 8\n",
    "\n",
    "# n_estimators를 300으로 증가시키고 최적의 하이퍼 파라미터로 다시 학습시켜보자\n",
    "# 이 수 별도의 테스트 데이터 세트에서 예측 성능 측정\n",
    "\n",
    "rf_clf1 = RandomForestClassifier(n_estimators=300, max_depth = 10, min_samples_leaf = 8, \n",
    "                                 min_samples_split = 8, random_state = 0)\n",
    "\n",
    "rf_clf1.fit(x_train, y_train)\n",
    "pred = rf_clf1.predict(x_test)\n",
    "print('예측 정확도: {0:.4f}'.format(accuracy_score(y_test,pred)))"
   ]
  },
  {
   "cell_type": "markdown",
   "metadata": {},
   "source": [
    "### 피처 중요도 알아보기"
   ]
  },
  {
   "cell_type": "code",
   "execution_count": 16,
   "metadata": {},
   "outputs": [
    {
     "data": {
      "image/png": "[encoded data removed]",
      "text/plain": [
       "<Figure size 576x432 with 1 Axes>"
      ]
     },
     "metadata": {
      "needs_background": "light"
     },
     "output_type": "display_data"
    }
   ],
   "source": [
    "# feature_importance를 이용하여 상위 20개 피처 중요도 알아보기\n",
    "\n",
    "import matplotlib.pyplot as plt\n",
    "import seaborn as sns\n",
    "%matplotlib inline\n",
    "\n",
    "ftr_importances_values = rf_clf1.feature_importances_\n",
    "ftr_importances = pd.Series(ftr_importances_values, index=x_train.columns)\n",
    "ftr_top20 = ftr_importances.sort_values(ascending=False)[:20]\n",
    "\n",
    "plt.figure(figsize=(8,6))\n",
    "plt.title('Fearture importances Top 20')\n",
    "sns.barplot(x=ftr_top20, y = ftr_top20.index)\n",
    "plt.show()"
   ]
  }
 ],
 "metadata": {
  "kernelspec": {
   "display_name": "Python 3",
   "language": "python",
   "name": "python3"
  },
  "language_info": {
   "codemirror_mode": {
    "name": "ipython",
    "version": 3
   },
   "file_extension": ".py",
   "mimetype": "text/x-python",
   "name": "python",
   "nbconvert_exporter": "python",
   "pygments_lexer": "ipython3",
   "version": "3.8.5"
  }
 },
 "nbformat": 4,
 "nbformat_minor": 4
}
