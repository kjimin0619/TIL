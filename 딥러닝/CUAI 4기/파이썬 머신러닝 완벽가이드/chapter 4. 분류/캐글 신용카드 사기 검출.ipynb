{
 "cells": [
  {
   "cell_type": "markdown",
   "id": "quiet-joseph",
   "metadata": {},
   "source": [
    "# <font color = 'green'>신용카드 사기 검출 예측"
   ]
  },
  {
   "cell_type": "markdown",
   "id": "senior-vampire",
   "metadata": {},
   "source": [
    "## ✔ 데이터 일차 가공 및 모델 학습/예측/평가"
   ]
  },
  {
   "cell_type": "code",
   "execution_count": 26,
   "id": "attempted-documentary",
   "metadata": {},
   "outputs": [
    {
     "data": {
      "text/html": [
       "<div>\n",
       "<style scoped>\n",
       "    .dataframe tbody tr th:only-of-type {\n",
       "        vertical-align: middle;\n",
       "    }\n",
       "\n",
       "    .dataframe tbody tr th {\n",
       "        vertical-align: top;\n",
       "    }\n",
       "\n",
       "    .dataframe thead th {\n",
       "        text-align: right;\n",
       "    }\n",
       "</style>\n",
       "<table border=\"1\" class=\"dataframe\">\n",
       "  <thead>\n",
       "    <tr style=\"text-align: right;\">\n",
       "      <th></th>\n",
       "      <th>Time</th>\n",
       "      <th>V1</th>\n",
       "      <th>V2</th>\n",
       "      <th>V3</th>\n",
       "      <th>V4</th>\n",
       "      <th>V5</th>\n",
       "      <th>V6</th>\n",
       "      <th>V7</th>\n",
       "      <th>V8</th>\n",
       "      <th>V9</th>\n",
       "      <th>...</th>\n",
       "      <th>V21</th>\n",
       "      <th>V22</th>\n",
       "      <th>V23</th>\n",
       "      <th>V24</th>\n",
       "      <th>V25</th>\n",
       "      <th>V26</th>\n",
       "      <th>V27</th>\n",
       "      <th>V28</th>\n",
       "      <th>Amount</th>\n",
       "      <th>Class</th>\n",
       "    </tr>\n",
       "  </thead>\n",
       "  <tbody>\n",
       "    <tr>\n",
       "      <th>0</th>\n",
       "      <td>0.0</td>\n",
       "      <td>-1.359807</td>\n",
       "      <td>-0.072781</td>\n",
       "      <td>2.536347</td>\n",
       "      <td>1.378155</td>\n",
       "      <td>-0.338321</td>\n",
       "      <td>0.462388</td>\n",
       "      <td>0.239599</td>\n",
       "      <td>0.098698</td>\n",
       "      <td>0.363787</td>\n",
       "      <td>...</td>\n",
       "      <td>-0.018307</td>\n",
       "      <td>0.277838</td>\n",
       "      <td>-0.110474</td>\n",
       "      <td>0.066928</td>\n",
       "      <td>0.128539</td>\n",
       "      <td>-0.189115</td>\n",
       "      <td>0.133558</td>\n",
       "      <td>-0.021053</td>\n",
       "      <td>149.62</td>\n",
       "      <td>0</td>\n",
       "    </tr>\n",
       "    <tr>\n",
       "      <th>1</th>\n",
       "      <td>0.0</td>\n",
       "      <td>1.191857</td>\n",
       "      <td>0.266151</td>\n",
       "      <td>0.166480</td>\n",
       "      <td>0.448154</td>\n",
       "      <td>0.060018</td>\n",
       "      <td>-0.082361</td>\n",
       "      <td>-0.078803</td>\n",
       "      <td>0.085102</td>\n",
       "      <td>-0.255425</td>\n",
       "      <td>...</td>\n",
       "      <td>-0.225775</td>\n",
       "      <td>-0.638672</td>\n",
       "      <td>0.101288</td>\n",
       "      <td>-0.339846</td>\n",
       "      <td>0.167170</td>\n",
       "      <td>0.125895</td>\n",
       "      <td>-0.008983</td>\n",
       "      <td>0.014724</td>\n",
       "      <td>2.69</td>\n",
       "      <td>0</td>\n",
       "    </tr>\n",
       "    <tr>\n",
       "      <th>2</th>\n",
       "      <td>1.0</td>\n",
       "      <td>-1.358354</td>\n",
       "      <td>-1.340163</td>\n",
       "      <td>1.773209</td>\n",
       "      <td>0.379780</td>\n",
       "      <td>-0.503198</td>\n",
       "      <td>1.800499</td>\n",
       "      <td>0.791461</td>\n",
       "      <td>0.247676</td>\n",
       "      <td>-1.514654</td>\n",
       "      <td>...</td>\n",
       "      <td>0.247998</td>\n",
       "      <td>0.771679</td>\n",
       "      <td>0.909412</td>\n",
       "      <td>-0.689281</td>\n",
       "      <td>-0.327642</td>\n",
       "      <td>-0.139097</td>\n",
       "      <td>-0.055353</td>\n",
       "      <td>-0.059752</td>\n",
       "      <td>378.66</td>\n",
       "      <td>0</td>\n",
       "    </tr>\n",
       "    <tr>\n",
       "      <th>3</th>\n",
       "      <td>1.0</td>\n",
       "      <td>-0.966272</td>\n",
       "      <td>-0.185226</td>\n",
       "      <td>1.792993</td>\n",
       "      <td>-0.863291</td>\n",
       "      <td>-0.010309</td>\n",
       "      <td>1.247203</td>\n",
       "      <td>0.237609</td>\n",
       "      <td>0.377436</td>\n",
       "      <td>-1.387024</td>\n",
       "      <td>...</td>\n",
       "      <td>-0.108300</td>\n",
       "      <td>0.005274</td>\n",
       "      <td>-0.190321</td>\n",
       "      <td>-1.175575</td>\n",
       "      <td>0.647376</td>\n",
       "      <td>-0.221929</td>\n",
       "      <td>0.062723</td>\n",
       "      <td>0.061458</td>\n",
       "      <td>123.50</td>\n",
       "      <td>0</td>\n",
       "    </tr>\n",
       "    <tr>\n",
       "      <th>4</th>\n",
       "      <td>2.0</td>\n",
       "      <td>-1.158233</td>\n",
       "      <td>0.877737</td>\n",
       "      <td>1.548718</td>\n",
       "      <td>0.403034</td>\n",
       "      <td>-0.407193</td>\n",
       "      <td>0.095921</td>\n",
       "      <td>0.592941</td>\n",
       "      <td>-0.270533</td>\n",
       "      <td>0.817739</td>\n",
       "      <td>...</td>\n",
       "      <td>-0.009431</td>\n",
       "      <td>0.798278</td>\n",
       "      <td>-0.137458</td>\n",
       "      <td>0.141267</td>\n",
       "      <td>-0.206010</td>\n",
       "      <td>0.502292</td>\n",
       "      <td>0.219422</td>\n",
       "      <td>0.215153</td>\n",
       "      <td>69.99</td>\n",
       "      <td>0</td>\n",
       "    </tr>\n",
       "  </tbody>\n",
       "</table>\n",
       "<p>5 rows × 31 columns</p>\n",
       "</div>"
      ],
      "text/plain": [
       "   Time        V1        V2        V3        V4        V5        V6        V7  \\\n",
       "0   0.0 -1.359807 -0.072781  2.536347  1.378155 -0.338321  0.462388  0.239599   \n",
       "1   0.0  1.191857  0.266151  0.166480  0.448154  0.060018 -0.082361 -0.078803   \n",
       "2   1.0 -1.358354 -1.340163  1.773209  0.379780 -0.503198  1.800499  0.791461   \n",
       "3   1.0 -0.966272 -0.185226  1.792993 -0.863291 -0.010309  1.247203  0.237609   \n",
       "4   2.0 -1.158233  0.877737  1.548718  0.403034 -0.407193  0.095921  0.592941   \n",
       "\n",
       "         V8        V9  ...       V21       V22       V23       V24       V25  \\\n",
       "0  0.098698  0.363787  ... -0.018307  0.277838 -0.110474  0.066928  0.128539   \n",
       "1  0.085102 -0.255425  ... -0.225775 -0.638672  0.101288 -0.339846  0.167170   \n",
       "2  0.247676 -1.514654  ...  0.247998  0.771679  0.909412 -0.689281 -0.327642   \n",
       "3  0.377436 -1.387024  ... -0.108300  0.005274 -0.190321 -1.175575  0.647376   \n",
       "4 -0.270533  0.817739  ... -0.009431  0.798278 -0.137458  0.141267 -0.206010   \n",
       "\n",
       "        V26       V27       V28  Amount  Class  \n",
       "0 -0.189115  0.133558 -0.021053  149.62      0  \n",
       "1  0.125895 -0.008983  0.014724    2.69      0  \n",
       "2 -0.139097 -0.055353 -0.059752  378.66      0  \n",
       "3 -0.221929  0.062723  0.061458  123.50      0  \n",
       "4  0.502292  0.219422  0.215153   69.99      0  \n",
       "\n",
       "[5 rows x 31 columns]"
      ]
     },
     "execution_count": 26,
     "metadata": {},
     "output_type": "execute_result"
    }
   ],
   "source": [
    "import pandas as pd\n",
    "import numpy as np\n",
    "import matplotlib.pyplot as plt\n",
    "import warnings\n",
    "from sklearn.metrics import *\n",
    "warnings.filterwarnings(\"ignore\")\n",
    "%matplotlib inline\n",
    "\n",
    "card_df = pd.read_csv(\"C:/Users/user/CUAI/DataSet/creditcard.csv\")\n",
    "card_df.head()"
   ]
  },
  {
   "cell_type": "markdown",
   "id": "faced-entry",
   "metadata": {},
   "source": [
    "### 1. 데이터 사전 가공 수행"
   ]
  },
  {
   "cell_type": "code",
   "execution_count": 2,
   "id": "manual-blues",
   "metadata": {},
   "outputs": [
    {
     "name": "stdout",
     "output_type": "stream",
     "text": [
      "<class 'pandas.core.frame.DataFrame'>\n",
      "RangeIndex: 284807 entries, 0 to 284806\n",
      "Data columns (total 31 columns):\n",
      " #   Column  Non-Null Count   Dtype  \n",
      "---  ------  --------------   -----  \n",
      " 0   Time    284807 non-null  float64\n",
      " 1   V1      284807 non-null  float64\n",
      " 2   V2      284807 non-null  float64\n",
      " 3   V3      284807 non-null  float64\n",
      " 4   V4      284807 non-null  float64\n",
      " 5   V5      284807 non-null  float64\n",
      " 6   V6      284807 non-null  float64\n",
      " 7   V7      284807 non-null  float64\n",
      " 8   V8      284807 non-null  float64\n",
      " 9   V9      284807 non-null  float64\n",
      " 10  V10     284807 non-null  float64\n",
      " 11  V11     284807 non-null  float64\n",
      " 12  V12     284807 non-null  float64\n",
      " 13  V13     284807 non-null  float64\n",
      " 14  V14     284807 non-null  float64\n",
      " 15  V15     284807 non-null  float64\n",
      " 16  V16     284807 non-null  float64\n",
      " 17  V17     284807 non-null  float64\n",
      " 18  V18     284807 non-null  float64\n",
      " 19  V19     284807 non-null  float64\n",
      " 20  V20     284807 non-null  float64\n",
      " 21  V21     284807 non-null  float64\n",
      " 22  V22     284807 non-null  float64\n",
      " 23  V23     284807 non-null  float64\n",
      " 24  V24     284807 non-null  float64\n",
      " 25  V25     284807 non-null  float64\n",
      " 26  V26     284807 non-null  float64\n",
      " 27  V27     284807 non-null  float64\n",
      " 28  V28     284807 non-null  float64\n",
      " 29  Amount  284807 non-null  float64\n",
      " 30  Class   284807 non-null  int64  \n",
      "dtypes: float64(30), int64(1)\n",
      "memory usage: 67.4 MB\n"
     ]
    }
   ],
   "source": [
    "# 결측치 값이 있나?\n",
    "card_df.info()"
   ]
  },
  {
   "cell_type": "code",
   "execution_count": 3,
   "id": "proper-cologne",
   "metadata": {},
   "outputs": [],
   "source": [
    "from sklearn.model_selection import train_test_split\n",
    "\n",
    "# 인자로 입력받은 DataFrame을 복사한 뒤 Time 칼럼만 삭제하고 복사된 DataFrame을 반환하는 함수\n",
    "def get_preprocessed_df(df=None):\n",
    "    df_copy = df.copy()\n",
    "    df_copy.drop('Time', axis = 1, inplace = True)\n",
    "    return df_copy\n",
    "\n",
    "# 사전 데이터 가공 후 학습과 테스트 데이터 세트를 반환하는 함수\n",
    "def get_train_test_dataset(df = None):\n",
    "    # 인자로 입력된 df를 사전 가공한 후 복사 DataFrame 반환\n",
    "    df_copy = get_preprocessed_df(df)\n",
    "    \n",
    "    # DataFrame의 맨 마지막 칼럼을 레이블, 나머지는 피처\n",
    "    y_target = df_copy.iloc[:,-1] # 레이블\n",
    "    X_features = df_copy.iloc[:,:-1] # 피처\n",
    "    \n",
    "    # train_test_split()으로 학습과 데이터 세트 분할\n",
    "    # stratify = y_target으로 Stratified 기반 분할\n",
    "    # 테스트 데이터 세트는 전체의 30%\n",
    "    X_train, X_test, y_train, y_test = train_test_split(X_features, y_target, test_size = 0.3, random_state = 0, stratify = y_target)\n",
    "    \n",
    "    # 학습과 테스트 데이터 세트 반환\n",
    "    return X_train, X_test, y_train, y_test"
   ]
  },
  {
   "cell_type": "markdown",
   "id": "rocky-poker",
   "metadata": {},
   "source": [
    "- train_test_split()의 파라미터 **stratify** : 지정한 Data의 비율을 유지한다. 예를 들어, Label Set인 y_target에서 0과 1의 비율이 3:1이라면, stratify = y_target으로 나누어진 데이터 셋들도 0과 1의 비율을 3:1로 갖는다. "
   ]
  },
  {
   "cell_type": "code",
   "execution_count": 4,
   "id": "restricted-dryer",
   "metadata": {},
   "outputs": [],
   "source": [
    "X_train, X_test, y_train, y_test = get_train_test_dataset(card_df)"
   ]
  },
  {
   "cell_type": "code",
   "execution_count": 5,
   "id": "obvious-frank",
   "metadata": {},
   "outputs": [
    {
     "name": "stdout",
     "output_type": "stream",
     "text": [
      "학습 데이터 레이블 값 비율\n",
      "0    99.827451\n",
      "1     0.172549\n",
      "Name: Class, dtype: float64\n",
      "테스트 데이터 레이블 값 비율\n",
      "0    99.826785\n",
      "1     0.173215\n",
      "Name: Class, dtype: float64\n"
     ]
    }
   ],
   "source": [
    "# 테스트 데이터 세트와 테스트 데이터 세트의 레이블 값 비율 확인(백분율 환산)\n",
    "print('학습 데이터 레이블 값 비율')\n",
    "print(y_train.value_counts()/y_train.shape[0]*100)\n",
    "print('테스트 데이터 레이블 값 비율')\n",
    "print(y_test.value_counts()/y_test.shape[0]*100)"
   ]
  },
  {
   "cell_type": "markdown",
   "id": "dependent-david",
   "metadata": {},
   "source": [
    "### 2. 로지스틱  기반의 모델 학습 및 성능 평가"
   ]
  },
  {
   "cell_type": "code",
   "execution_count": 6,
   "id": "placed-bankruptcy",
   "metadata": {},
   "outputs": [
    {
     "name": "stdout",
     "output_type": "stream",
     "text": [
      "오차 행렬\n",
      "[[85282    13]\n",
      " [   66    82]]\n",
      "정확도: 0.9991, 정밀도: 0.8632, 재현율: 0.5541,          F1: 0.6749, AUC:0.9534\n"
     ]
    }
   ],
   "source": [
    "from sklearn.linear_model import LogisticRegression\n",
    "\n",
    "# 로지스틱 회귀 모델 생성 및 학습\n",
    "lr_clf = LogisticRegression()\n",
    "lr_clf.fit(X_train, y_train)\n",
    "lr_pred = lr_clf.predict(X_test)\n",
    "lr_pred_proba = lr_clf.predict_proba(X_test)[:,1]\n",
    "\n",
    "# 성능 평가\n",
    "import tools # 성능 평가 함수가 들어있는 py 파일 불러오기\n",
    "tools.get_clf_eval(y_test,lr_pred,lr_pred_proba)"
   ]
  },
  {
   "cell_type": "markdown",
   "id": "worth-mistress",
   "metadata": {},
   "source": [
    "### 3. LightGBM기반의 모델 학습 및 성능 평가"
   ]
  },
  {
   "cell_type": "code",
   "execution_count": 7,
   "id": "black-projector",
   "metadata": {},
   "outputs": [],
   "source": [
    "# 별도의 함수 생성\n",
    "# Estimator 객체와 학습/테스트 데이터 세트를 입력받아서 학습/예측/평가를 수행하는 함수\n",
    "def get_model_train_eval(model, ftr_train = None, ftr_test = None, tgt_train = None, tgt_test = None):\n",
    "    model.fit(ftr_train, tgt_train)\n",
    "    pred = model.predict(ftr_test)\n",
    "    pred_proba = model.predict_proba(ftr_test)[:,1] # 레이블 값이 1일때의 예측 확률 값\n",
    "    tools.get_clf_eval(tgt_test, pred, pred_proba)"
   ]
  },
  {
   "cell_type": "code",
   "execution_count": 8,
   "id": "reliable-single",
   "metadata": {},
   "outputs": [
    {
     "name": "stdout",
     "output_type": "stream",
     "text": [
      "오차 행렬\n",
      "[[85289     6]\n",
      " [   38   110]]\n",
      "정확도: 0.9995, 정밀도: 0.9483, 재현율: 0.7432,          F1: 0.8333, AUC:0.9717\n"
     ]
    }
   ],
   "source": [
    "# 불균형한 레이블 값 분포도를 지닌 데이터셋이므로 LGBMClassifier 객체 생성 시 boost_from_average = False로 설정\n",
    "from lightgbm import LGBMClassifier\n",
    "\n",
    "lgbm_clf = LGBMClassifier(n_estimators = 100, num_leaves = 64, n_jobs = -1, boost_from_average=False)\n",
    "get_model_train_eval(lgbm_clf, ftr_train =X_train, ftr_test = X_test, tgt_train = y_train, tgt_test = y_test)"
   ]
  },
  {
   "cell_type": "markdown",
   "id": "centered-dryer",
   "metadata": {},
   "source": [
    "## ✔ 데이터 분포도 변환 후 모델 학습/예측/평가 - 표준 정규 분포"
   ]
  },
  {
   "cell_type": "code",
   "execution_count": 9,
   "id": "acknowledged-slovak",
   "metadata": {
    "scrolled": true
   },
   "outputs": [
    {
     "data": {
      "text/plain": [
       "<AxesSubplot:xlabel='Amount', ylabel='Density'>"
      ]
     },
     "execution_count": 9,
     "metadata": {},
     "output_type": "execute_result"
    },
    {
     "data": {
      "image/png": "[encoded data removed]",
      "text/plain": [
       "<Figure size 576x288 with 1 Axes>"
      ]
     },
     "metadata": {
      "needs_background": "light"
     },
     "output_type": "display_data"
    }
   ],
   "source": [
    "# 중요 피처 값의 분포도 확인\n",
    "import seaborn as sns\n",
    "plt.figure(figsize=(8,4))\n",
    "plt.xticks(range(0,30000,1000),rotation=60)\n",
    "sns.distplot(card_df['Amount']) # Amount 피처의 분포도 확인"
   ]
  },
  {
   "cell_type": "markdown",
   "id": "representative-structure",
   "metadata": {},
   "source": [
    "### 1. 데이터 분포도 변환"
   ]
  },
  {
   "cell_type": "code",
   "execution_count": 10,
   "id": "suburban-impact",
   "metadata": {},
   "outputs": [],
   "source": [
    "# 정규분포 형태로 변환하는 함수 정의\n",
    "from sklearn.preprocessing import StandardScaler\n",
    "# 앞에서 정의한 get_preprocessed_df 수정\n",
    "def get_preprocessed_df(df = None):\n",
    "    df_copy = df.copy()\n",
    "    scaler = StandardScaler()\n",
    "    # Amount 피처 정규 분포 형태로 변환\n",
    "    amount_n = scaler.fit_transform(df_copy['Amount'].values.reshape(-1,1))\n",
    "    # 변환된 Amount를 Amount_Scaled로 피처명 변경후 맨 앞 칼럼으로 입력\n",
    "    df_copy.insert(0,'Amount_Scaled',amount_n)\n",
    "    # 기존의 Time, Amount 칼럼 제거\n",
    "    df_copy.drop(['Time','Amount'],axis = 1, inplace = True)\n",
    "    return df_copy\n",
    "\n",
    "def get_train_test_dataset(df = None):\n",
    "    # 인자로 입력된 df를 사전 가공한 후 복사 DataFrame 반환\n",
    "    df_copy = get_preprocessed_df(df)\n",
    "    \n",
    "    # DataFrame의 맨 마지막 칼럼을 레이블, 나머지는 피처\n",
    "    y_target = df_copy.iloc[:,-1] # 레이블\n",
    "    X_features = df_copy.iloc[:,:-1] # 피처\n",
    "    \n",
    "    # train_test_split()으로 학습과 데이터 세트 분할\n",
    "    # stratify = y_target으로 Stratified 기반 분할\n",
    "    # 테스트 데이터 세트는 전체의 30%\n",
    "    X_train, X_test, y_train, y_test = train_test_split(X_features, y_target, test_size = 0.3, random_state = 0, stratify = y_target)\n",
    "    \n",
    "    # 학습과 테스트 데이터 세트 반환\n",
    "    return X_train, X_test, y_train, y_test"
   ]
  },
  {
   "cell_type": "markdown",
   "id": "official-saying",
   "metadata": {},
   "source": [
    "### 2. 로지스틱회귀와 LightGBM을 적용한 모델 학습/예측/평가"
   ]
  },
  {
   "cell_type": "code",
   "execution_count": 11,
   "id": "charming-bikini",
   "metadata": {},
   "outputs": [
    {
     "name": "stdout",
     "output_type": "stream",
     "text": [
      "### 로지스틱 회귀 예측 성능 ###\n",
      "오차 행렬\n",
      "[[85281    14]\n",
      " [   58    90]]\n",
      "정확도: 0.9992, 정밀도: 0.8654, 재현율: 0.6081,          F1: 0.7143, AUC:0.9702\n",
      "### LightGBM 예측 성능 ###\n",
      "오차 행렬\n",
      "[[85146   149]\n",
      " [   81    67]]\n",
      "정확도: 0.9973, 정밀도: 0.3102, 재현율: 0.4527,          F1: 0.3681, AUC:0.7253\n"
     ]
    }
   ],
   "source": [
    "# Amount 정규 분포로 변환 후 로지스틱 회귀 및 LightGBM 수행\n",
    "\n",
    "# 학습/테스트 데이터 세트 생성\n",
    "X_train, X_test, y_train, y_test = get_train_test_dataset(card_df)\n",
    "\n",
    "# 로지스틱 회귀 예측 수행\n",
    "print(\"### 로지스틱 회귀 예측 성능 ###\")\n",
    "lr_clf = LogisticRegression()\n",
    "get_model_train_eval(lr_clf,ftr_train =X_train, ftr_test = X_test, tgt_train = y_train, tgt_test = y_test )\n",
    "\n",
    "# LightGBM 예측 수행\n",
    "print(\"### LightGBM 예측 성능 ###\")\n",
    "lgbm_clf = LGBMClassifier(n_estimators = 1000, num_leaves = 64, n_jobs = -1)\n",
    "get_model_train_eval(lgbm_clf, ftr_train =X_train, ftr_test = X_test, tgt_train = y_train, tgt_test = y_test)\n",
    "\n",
    "## 예측 수행 결과, 로지스틱 회귀 및 LightGBM 두 모델 모두 변환 이전과 비교해 성능이 크게 개선되지 않았음."
   ]
  },
  {
   "cell_type": "markdown",
   "id": "radical-auditor",
   "metadata": {},
   "source": [
    "## ✔ 데이터 분포도 변환 후 모델 학습/예측/평가 - 로그 변환"
   ]
  },
  {
   "cell_type": "markdown",
   "id": "conservative-world",
   "metadata": {},
   "source": [
    "### 1. 데이터 분포도 변환"
   ]
  },
  {
   "cell_type": "code",
   "execution_count": 12,
   "id": "veterinary-primary",
   "metadata": {},
   "outputs": [],
   "source": [
    "# 로그 변환 로직을 적용하는 함수 정의\n",
    "# 앞에서 정의한 get_preprocessed_df 수정\n",
    "def get_preprocessed_df(df = None):\n",
    "    df_copy = df.copy()\n",
    "    scaler = StandardScaler()\n",
    "    # Amount 피처 로그 변환 수행\n",
    "    amount_n = np.log1p(df_copy['Amount'])\n",
    "    # 변환된 Amount를 Amount_Scaled로 피처명 변경후 맨 앞 칼럼으로 입력\n",
    "    df_copy.insert(0,'Amount_Scaled',amount_n)\n",
    "    # 기존의 Time, Amount 칼럼 제거\n",
    "    df_copy.drop(['Time','Amount'],axis = 1, inplace = True)\n",
    "    return df_copy\n",
    "\n",
    "def get_train_test_dataset(df = None):\n",
    "    # 인자로 입력된 df를 사전 가공한 후 복사 DataFrame 반환\n",
    "    df_copy = get_preprocessed_df(df)\n",
    "    \n",
    "    # DataFrame의 맨 마지막 칼럼을 레이블, 나머지는 피처\n",
    "    y_target = df_copy.iloc[:,-1] # 레이블\n",
    "    X_features = df_copy.iloc[:,:-1] # 피처\n",
    "    \n",
    "    # train_test_split()으로 학습과 데이터 세트 분할\n",
    "    # stratify = y_target으로 Stratified 기반 분할\n",
    "    # 테스트 데이터 세트는 전체의 30%\n",
    "    X_train, X_test, y_train, y_test = train_test_split(X_features, y_target, test_size = 0.3, random_state = 0, stratify = y_target)\n",
    "    \n",
    "    # 학습과 테스트 데이터 세트 반환\n",
    "    return X_train, X_test, y_train, y_test"
   ]
  },
  {
   "cell_type": "markdown",
   "id": "grave-radar",
   "metadata": {},
   "source": [
    "### 2. 로지스틱회귀와 LightGBM을 적용한 모델 학습/예측/평가"
   ]
  },
  {
   "cell_type": "code",
   "execution_count": 13,
   "id": "alpha-lobby",
   "metadata": {},
   "outputs": [
    {
     "name": "stdout",
     "output_type": "stream",
     "text": [
      "### 로지스틱 회귀 예측 성능 ###\n",
      "오차 행렬\n",
      "[[85283    12]\n",
      " [   59    89]]\n",
      "정확도: 0.9992, 정밀도: 0.8812, 재현율: 0.6014,          F1: 0.7149, AUC:0.9727\n",
      "### LightGBM 예측 성능 ###\n",
      "오차 행렬\n",
      "[[85238    57]\n",
      " [   77    71]]\n",
      "정확도: 0.9984, 정밀도: 0.5547, 재현율: 0.4797,          F1: 0.5145, AUC:0.7395\n"
     ]
    }
   ],
   "source": [
    "X_train, X_test, y_train, y_test = get_train_test_dataset(card_df)\n",
    "\n",
    "# 로지스틱 회귀 예측 수행\n",
    "print(\"### 로지스틱 회귀 예측 성능 ###\")\n",
    "get_model_train_eval(lr_clf,ftr_train =X_train, ftr_test = X_test, tgt_train = y_train, tgt_test = y_test )\n",
    "\n",
    "# LightGBM 예측 수행\n",
    "print(\"### LightGBM 예측 성능 ###\")\n",
    "get_model_train_eval(lgbm_clf, ftr_train =X_train, ftr_test = X_test, tgt_train = y_train, tgt_test = y_test)\n",
    "\n",
    "## 예측 결과 두 모델이 모든 평가지표에서 약간씩 성능이 개선되었음을 알 수 있음"
   ]
  },
  {
   "cell_type": "markdown",
   "id": "disturbed-chapter",
   "metadata": {},
   "source": [
    "## ✔ 이상치 데이터 제거 후 모델 학습/예측/평가\n",
    "\n",
    "\n",
    "- 이상치 데이터(Outlier) : 전체 데이터의 패턴에서 벗어난 이상 값을 가진 데이터\n",
    "- **IQR 방식**을 적용하여 이상치 데이터를 찾아냄"
   ]
  },
  {
   "cell_type": "markdown",
   "id": "current-essay",
   "metadata": {},
   "source": [
    "### 1. 이상치 데이터 제거\n"
   ]
  },
  {
   "cell_type": "code",
   "execution_count": 14,
   "id": "silver-respect",
   "metadata": {},
   "outputs": [
    {
     "data": {
      "text/plain": [
       "<AxesSubplot:>"
      ]
     },
     "execution_count": 14,
     "metadata": {},
     "output_type": "execute_result"
    },
    {
     "data": {
      "image/png": "[encoded data removed]",
      "text/plain": [
       "<Figure size 648x648 with 2 Axes>"
      ]
     },
     "metadata": {
      "needs_background": "light"
     },
     "output_type": "display_data"
    }
   ],
   "source": [
    "# 레이블과 가장 상관성이 높은 피처들을 위주로 이상치 검출\n",
    "\n",
    "import seaborn as sns\n",
    "\n",
    "plt.figure(figsize = (9,9))\n",
    "corr = card_df.corr() # 피처별 상관도 구하기\n",
    "\n",
    "# 피처별 상관도 시각화\n",
    "# 양의 상관관계가 높을수록 진한 파란색, 음의 상관관계가 높을수록 진한 빨간색\n",
    "sns.heatmap(corr, cmap='RdBu') "
   ]
  },
  {
   "cell_type": "code",
   "execution_count": 15,
   "id": "extreme-indianapolis",
   "metadata": {},
   "outputs": [],
   "source": [
    "# V14 피처에 대한 이상치 찾아서 제거하기\n",
    "\n",
    "# 이상치를 검출하는 함수 생성\n",
    "def get_outlier(df = None, column = None, weight = 1.5):\n",
    "    \n",
    "    # 사기에 해당하는 column 데이터만 추출\n",
    "    fraud = df[df['Class' ]== 1][column]\n",
    "    # 1/4분위와 3/4분위 구하기\n",
    "    quantile_25 = np.percentile(fraud.values, 25)\n",
    "    quantile_75 = np.percentile(fraud.values, 75)\n",
    "    #IQR 구하기\n",
    "    iqr = quantile_75 - quantile_25\n",
    "    iqr_weight = iqr * weight\n",
    "    lowest_val = quantile_25 - iqr_weight\n",
    "    highest_val = quantile_75 + iqr_weight\n",
    "    \n",
    "    # 최댓값보다 크거나, 쵯솟값ㅂ소다 작은 값을 이상치 데이터로 설정 후, DataFrame index 반환\n",
    "    outlier_index = fraud[(fraud < lowest_val) | (fraud > highest_val)].index\n",
    "    return outlier_index"
   ]
  },
  {
   "cell_type": "code",
   "execution_count": 16,
   "id": "intimate-excuse",
   "metadata": {},
   "outputs": [
    {
     "name": "stdout",
     "output_type": "stream",
     "text": [
      "이상치 데이터 인덱스 :  Int64Index([8296, 8615, 9035, 9252], dtype='int64')\n"
     ]
    }
   ],
   "source": [
    "# 이상치 데이터 탐색\n",
    "outlier_index = get_outlier(df = card_df, column = 'V14', weight = 1.5)\n",
    "print('이상치 데이터 인덱스 : ', outlier_index)"
   ]
  },
  {
   "cell_type": "code",
   "execution_count": 17,
   "id": "equal-burlington",
   "metadata": {},
   "outputs": [],
   "source": [
    "# get_preprocedssed_df 재정의\n",
    "# 로그 변환 후 v14 피처의 이상치 데이터를 삭제하는 로직\n",
    "def get_preprocessed_df(df = None):\n",
    "    df_copy = df.copy()\n",
    "    scaler = StandardScaler()\n",
    "    # Amount 피처 로그 변환 수행\n",
    "    amount_n = np.log1p(df_copy['Amount'])\n",
    "    # 변환된 Amount를 Amount_Scaled로 피처명 변경후 맨 앞 칼럼으로 입력\n",
    "    df_copy.insert(0,'Amount_Scaled',amount_n)\n",
    "    # 기존의 Time, Amount 칼럼 제거\n",
    "    df_copy.drop(['Time','Amount'],axis = 1, inplace = True)\n",
    "    \n",
    "    # 이상치 데이터 삭제 (열)\n",
    "    outlier_index = get_outlier(df = card_df, column = 'V14', weight = 1.5)\n",
    "    df_copy.drop(outlier_index,axis = 0, inplace = True )\n",
    "    \n",
    "    return df_copy\n",
    "\n",
    "def get_train_test_dataset(df = None):\n",
    "    # 인자로 입력된 df를 사전 가공한 후 복사 DataFrame 반환\n",
    "    df_copy = get_preprocessed_df(df)\n",
    "    \n",
    "    # DataFrame의 맨 마지막 칼럼을 레이블, 나머지는 피처\n",
    "    y_target = df_copy.iloc[:,-1] # 레이블\n",
    "    X_features = df_copy.iloc[:,:-1] # 피처\n",
    "    \n",
    "    # train_test_split()으로 학습과 데이터 세트 분할\n",
    "    # stratify = y_target으로 Stratified 기반 분할\n",
    "    # 테스트 데이터 세트는 전체의 30%\n",
    "    X_train, X_test, y_train, y_test = train_test_split(X_features, y_target, test_size = 0.3, random_state = 0, stratify = y_target)\n",
    "    \n",
    "    # 학습과 테스트 데이터 세트 반환\n",
    "    return X_train, X_test, y_train, y_test"
   ]
  },
  {
   "cell_type": "markdown",
   "id": "hindu-wholesale",
   "metadata": {},
   "source": [
    "### 2. 로그 변환 & 이상치 데이터 삭제한 데이터 세트를 이용한 모델 학습/예측/평가"
   ]
  },
  {
   "cell_type": "code",
   "execution_count": 18,
   "id": "reasonable-rehabilitation",
   "metadata": {},
   "outputs": [
    {
     "name": "stdout",
     "output_type": "stream",
     "text": [
      "### 로지스틱 회귀 예측 성능 ###\n",
      "오차 행렬\n",
      "[[85281    14]\n",
      " [   48    98]]\n",
      "정확도: 0.9993, 정밀도: 0.8750, 재현율: 0.6712,          F1: 0.7597, AUC:0.9743\n",
      "### LightGBM 예측 성능 ###\n",
      "오차 행렬\n",
      "[[85268    27]\n",
      " [   36   110]]\n",
      "정확도: 0.9993, 정밀도: 0.8029, 재현율: 0.7534,          F1: 0.7774, AUC:0.9218\n"
     ]
    }
   ],
   "source": [
    "X_train, X_test, y_train, y_test = get_train_test_dataset(card_df)\n",
    "\n",
    "# 로지스틱 회귀 예측 수행\n",
    "print(\"### 로지스틱 회귀 예측 성능 ###\")\n",
    "get_model_train_eval(lr_clf,ftr_train =X_train, ftr_test = X_test, tgt_train = y_train, tgt_test = y_test )\n",
    "\n",
    "# LightGBM 예측 수행\n",
    "print(\"### LightGBM 예측 성능 ###\")\n",
    "get_model_train_eval(lgbm_clf, ftr_train =X_train, ftr_test = X_test, tgt_train = y_train, tgt_test = y_test)\n",
    "\n",
    "## 예측 결과 두 모델이 모든 평가지표에서 성능이 크게 향상되었음을 알 수 있음"
   ]
  },
  {
   "cell_type": "markdown",
   "id": "smoking-spring",
   "metadata": {},
   "source": [
    "## ✔ SMOTE 오버 샘플링 적용 후 모델 학습/예측/평가\n",
    "\n",
    "- 파이썬의 imbalanced-learn 패키지 활용"
   ]
  },
  {
   "cell_type": "markdown",
   "id": "banner-valentine",
   "metadata": {},
   "source": [
    "### 1. SMOTE 오버 샘플링"
   ]
  },
  {
   "cell_type": "code",
   "execution_count": 21,
   "id": "italian-speed",
   "metadata": {},
   "outputs": [
    {
     "name": "stdout",
     "output_type": "stream",
     "text": [
      "SMOTE 적용 전 학습용 피처/레이블 데이터 세트 :  (199362, 29) (199362,)\n",
      "SMOTE 적용 후 학습용 피처/레이블 데이터 세트 :  (398040, 29) (398040,)\n",
      "SMOTE 적용 후 레이블 값 분포 :\n",
      "  0    199020\n",
      "1    199020\n",
      "Name: Class, dtype: int64\n"
     ]
    }
   ],
   "source": [
    "from imblearn.over_sampling import SMOTE\n",
    "\n",
    "smote = SMOTE(random_state=0)\n",
    "X_train_over, y_train_over = smote.fit_sample(X_train, y_train) # 데이터 증식\n",
    "print('SMOTE 적용 전 학습용 피처/레이블 데이터 세트 : ', X_train.shape, y_train.shape)\n",
    "print('SMOTE 적용 후 학습용 피처/레이블 데이터 세트 : ', X_train_over.shape, y_train_over.shape)\n",
    "print('SMOTE 적용 후 레이블 값 분포 :\\n ', pd.Series(y_train_over).value_counts())"
   ]
  },
  {
   "cell_type": "markdown",
   "id": "furnished-bubble",
   "metadata": {},
   "source": [
    "### 2. 오버샘플링 된 데이터 세트를 기반으로 한 로지스틱 회귀 모델 학습/예측/평가"
   ]
  },
  {
   "cell_type": "code",
   "execution_count": 22,
   "id": "sticky-olive",
   "metadata": {},
   "outputs": [
    {
     "name": "stdout",
     "output_type": "stream",
     "text": [
      "오차 행렬\n",
      "[[82937  2358]\n",
      " [   11   135]]\n",
      "정확도: 0.9723, 정밀도: 0.0542, 재현율: 0.9247,          F1: 0.1023, AUC:0.9737\n"
     ]
    }
   ],
   "source": [
    "lr_clf = LogisticRegression()\n",
    "# SMOTE 증식된 테스트 데이터 세트 적용\n",
    "get_model_train_eval(lr_clf, ftr_train =X_train_over, ftr_test = X_test, tgt_train = y_train_over, tgt_test = y_test)\n",
    "\n",
    "## 현저하게 낮은 정밀도, Class = 1인 데이터를 많이 학습하면서 지나치게 Class = 1로 적용"
   ]
  },
  {
   "cell_type": "markdown",
   "id": "olive-cowboy",
   "metadata": {},
   "source": [
    "### 3. 분류 결정 임계값에 따른 정밀도와 재현율 곡선 시각화"
   ]
  },
  {
   "cell_type": "code",
   "execution_count": 27,
   "id": "promotional-victim",
   "metadata": {},
   "outputs": [
    {
     "data": {
      "image/png": "[encoded data removed]",
      "text/plain": [
       "<Figure size 576x432 with 1 Axes>"
      ]
     },
     "metadata": {
      "needs_background": "light"
     },
     "output_type": "display_data"
    }
   ],
   "source": [
    "# 정밀도 재현율 시각화\n",
    "def precision_recall_curve_plot(y_test, pred_proba_c1):\n",
    "    precisions, recalls, thresholds = precision_recall_curve(y_test, pred_proba_c1)\n",
    "    \n",
    "    plt.figure(figsize = (8,6))\n",
    "    threshold_boundry = thresholds.shape[0]\n",
    "    plt.plot(thresholds, precisions[0:threshold_boundry], linestyle='--',label='precision')\n",
    "    plt.plot(thresholds, recalls[0:threshold_boundry],label='recall')\n",
    "    \n",
    "    start, end = plt.xlim()\n",
    "    plt.xticks(np.round(np.arange(start, end, 0.1),2))\n",
    "    plt.xlabel('Threshold value'); plt.ylabel('Precision and Recall value')\n",
    "    plt.legend(); plt.grid()\n",
    "    plt.show()\n",
    "    \n",
    "precision_recall_curve_plot(y_test, lr_clf.predict_proba(X_test)[:,1])\n",
    "## 분류 결정 임계값을 조정하더라고 올바른 재현율/정밀도 성능을 얻을 수 없음"
   ]
  },
  {
   "cell_type": "markdown",
   "id": "worldwide-bridges",
   "metadata": {},
   "source": [
    "### 4. 오버샘플링 된 데이터 세트를 기반으로 한 LightGBM 모델 학습/예측/평가"
   ]
  },
  {
   "cell_type": "code",
   "execution_count": 28,
   "id": "median-jacob",
   "metadata": {},
   "outputs": [
    {
     "name": "stdout",
     "output_type": "stream",
     "text": [
      "오차 행렬\n",
      "[[85283    12]\n",
      " [   22   124]]\n",
      "정확도: 0.9996, 정밀도: 0.9118, 재현율: 0.8493,          F1: 0.8794, AUC:0.9814\n"
     ]
    }
   ],
   "source": [
    "lgbm_clf = LGBMClassifier(n_estimators = 1000, num_leaves = 64, n_jobs = -1, boost_from_average = False)\n",
    "get_model_train_eval(lgbm_clf, ftr_train =X_train_over, ftr_test = X_test, tgt_train = y_train_over, tgt_test = y_test)"
   ]
  }
 ],
 "metadata": {
  "kernelspec": {
   "display_name": "Python 3",
   "language": "python",
   "name": "python3"
  },
  "language_info": {
   "codemirror_mode": {
    "name": "ipython",
    "version": 3
   },
   "file_extension": ".py",
   "mimetype": "text/x-python",
   "name": "python",
   "nbconvert_exporter": "python",
   "pygments_lexer": "ipython3",
   "version": "3.8.8"
  }
 },
 "nbformat": 4,
 "nbformat_minor": 5
}
