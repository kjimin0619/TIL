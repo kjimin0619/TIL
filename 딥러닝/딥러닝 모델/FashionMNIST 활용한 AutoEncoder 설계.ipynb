{
 "cells": [
  {
   "cell_type": "code",
   "execution_count": 1,
   "id": "675c8acf",
   "metadata": {},
   "outputs": [],
   "source": [
    "''' 1. module import '''\n",
    "import numpy as np\n",
    "import matplotlib.pyplot as plt\n",
    "import torch\n",
    "import torch.nn as nn\n",
    "import torch.nn.functional as F\n",
    "from torchvision import transforms, datasets"
   ]
  },
  {
   "cell_type": "code",
   "execution_count": 2,
   "id": "d2d4e6a2",
   "metadata": {},
   "outputs": [
    {
     "name": "stdout",
     "output_type": "stream",
     "text": [
      "using pytorch version : 1.9.0 \n",
      "Device : cpu\n"
     ]
    }
   ],
   "source": [
    "''' 2. 딥러닝 모델 설계를 위한 장비 확인 '''\n",
    "if torch.cuda.is_available():\n",
    "    DEVICE = torch.device('cuda')\n",
    "    \n",
    "else:\n",
    "    DEVICE = torch.device('cpu')\n",
    "    \n",
    "print('using pytorch version :',torch.__version__, '\\nDevice :',DEVICE)"
   ]
  },
  {
   "cell_type": "code",
   "execution_count": 3,
   "id": "73a4b0cf",
   "metadata": {},
   "outputs": [],
   "source": [
    "BATCH_SIZE = 32 # Mini-Batch 1개에 32개의 데이터로 구성. 미니배치 1개 단위로 역전파를 이용해 AE의 가중값을 업데이트 할 예정\n",
    "EPOCHS = 1 # 전체 데이터셋을 10회 반복하여 학습"
   ]
  },
  {
   "cell_type": "code",
   "execution_count": 4,
   "id": "46c4dd85",
   "metadata": {},
   "outputs": [
    {
     "name": "stderr",
     "output_type": "stream",
     "text": [
      "C:\\Users\\user\\anaconda3\\envs\\PyTorch\\lib\\site-packages\\torchvision\\datasets\\mnist.py:498: UserWarning: The given NumPy array is not writeable, and PyTorch does not support non-writeable tensors. This means you can write to the underlying (supposedly non-writeable) NumPy array using the tensor. You may want to copy the array to protect its data or make it writeable before converting it to a tensor. This type of warning will be suppressed for the rest of this program. (Triggered internally at  ..\\torch\\csrc\\utils\\tensor_numpy.cpp:180.)\n",
      "  return torch.from_numpy(parsed.astype(m[2], copy=False)).view(*s)\n"
     ]
    }
   ],
   "source": [
    "''' 3. FashionMINIST 데이터 다운로드 '''\n",
    "train_dataset = datasets.FashionMNIST(root = \"../data/FashionMNIST\", train = True, download = True, transform = transforms.ToTensor())\n",
    "test_dataset = datasets.FashionMNIST(root = \"../data/FashionMNIST\", train = False, download = True, transform = transforms.ToTensor())\n",
    "\n",
    "# 다운 받은 데이터 셋 미니배치 단위로 저장\n",
    "train_loader = torch.utils.data.DataLoader(dataset = train_dataset, batch_size = BATCH_SIZE, shuffle = True) \n",
    "test_loader = torch.utils.data.DataLoader(dataset = test_dataset, batch_size = BATCH_SIZE, shuffle = False)"
   ]
  },
  {
   "cell_type": "code",
   "execution_count": 5,
   "id": "802e298e",
   "metadata": {},
   "outputs": [
    {
     "data": {
      "text/plain": [
       "60000"
      ]
     },
     "execution_count": 5,
     "metadata": {},
     "output_type": "execute_result"
    }
   ],
   "source": [
    "train_dataset\n",
    "len(train_dataset)"
   ]
  },
  {
   "cell_type": "code",
   "execution_count": 6,
   "id": "c974e066",
   "metadata": {},
   "outputs": [
    {
     "data": {
      "text/plain": [
       "10000"
      ]
     },
     "execution_count": 6,
     "metadata": {},
     "output_type": "execute_result"
    }
   ],
   "source": [
    "len(test_dataset)"
   ]
  },
  {
   "cell_type": "code",
   "execution_count": 7,
   "id": "0602bac2",
   "metadata": {},
   "outputs": [
    {
     "data": {
      "text/plain": [
       "1875"
      ]
     },
     "execution_count": 7,
     "metadata": {},
     "output_type": "execute_result"
    }
   ],
   "source": [
    "len(train_loader)"
   ]
  },
  {
   "cell_type": "code",
   "execution_count": 8,
   "id": "808dca61",
   "metadata": {},
   "outputs": [
    {
     "data": {
      "text/plain": [
       "313"
      ]
     },
     "execution_count": 8,
     "metadata": {},
     "output_type": "execute_result"
    }
   ],
   "source": [
    "len(test_loader)"
   ]
  },
  {
   "cell_type": "code",
   "execution_count": 9,
   "id": "7acce72e",
   "metadata": {},
   "outputs": [
    {
     "data": {
      "text/plain": [
       "60000"
      ]
     },
     "execution_count": 9,
     "metadata": {},
     "output_type": "execute_result"
    }
   ],
   "source": [
    "len(train_loader.dataset)"
   ]
  },
  {
   "cell_type": "code",
   "execution_count": 10,
   "id": "fa0b1e94",
   "metadata": {},
   "outputs": [
    {
     "data": {
      "text/plain": [
       "10000"
      ]
     },
     "execution_count": 10,
     "metadata": {},
     "output_type": "execute_result"
    }
   ],
   "source": [
    "len(test_loader.dataset)"
   ]
  },
  {
   "cell_type": "code",
   "execution_count": 11,
   "id": "40f3848d",
   "metadata": {},
   "outputs": [
    {
     "name": "stdout",
     "output_type": "stream",
     "text": [
      "X_train: torch.Size([32, 1, 28, 28]) \n",
      "type: torch.FloatTensor\n",
      "\n",
      "y_train: torch.Size([32]) \n",
      "type: torch.LongTensor\n"
     ]
    },
    {
     "data": {
      "image/png": "[encoded data removed]",
      "text/plain": [
       "<Figure size 720x72 with 10 Axes>"
      ]
     },
     "metadata": {
      "needs_background": "light"
     },
     "output_type": "display_data"
    }
   ],
   "source": [
    "''' 4. 데이터 확인 '''\n",
    "for (X_train, y_train) in train_loader:\n",
    "    print('X_train:',X_train.size() ,'\\ntype:',X_train.type())\n",
    "    print('\\ny_train:',y_train.size() ,'\\ntype:',y_train.type())\n",
    "    break\n",
    "    \n",
    "pltsize = 1\n",
    "plt.figure(figsize = (10 * pltsize, pltsize))\n",
    "for i in range(10):\n",
    "    plt.subplot(1,10,i+1)\n",
    "    plt.axis('off')\n",
    "    plt.imshow(X_train[i, :, :, :].numpy().reshape(28,28), cmap = \"gray_r\")\n",
    "    plt.title('class : '+str(y_train[i].item()))"
   ]
  },
  {
   "cell_type": "code",
   "execution_count": 12,
   "id": "c418200b",
   "metadata": {},
   "outputs": [],
   "source": [
    "''' 5. AutoEncoder(AE) 모델 설계 '''\n",
    "class AE(nn.Module):\n",
    "    def __init__(self):\n",
    "        super(AE, self).__init__()\n",
    "        \n",
    "        # 인코더 정의\n",
    "        # nn.Sequential을 활용하여 인코더 단위를 한 번에 정의\n",
    "        self.encoder = nn.Sequential(\n",
    "                                    nn.Linear(28 * 28, 512),\n",
    "                                    nn.ReLU(),\n",
    "                                    nn.Linear(512,256),\n",
    "                                    nn.ReLU(),\n",
    "                                    nn.Linear(256,32))\n",
    "        \n",
    "        \n",
    "        # 디코더 정의\n",
    "        # nn.Sequential을 활용하여 디코더 단위를 한 번에 정의\n",
    "        self.decoder = nn.Sequential(\n",
    "                                    nn.Linear(32,256),\n",
    "                                    nn.ReLU(),\n",
    "                                    nn.Linear(256,512),\n",
    "                                    nn.ReLU(),\n",
    "                                    nn.Linear(512,28*28))\n",
    "        \n",
    "    # 인코더와 디코더에 대해 Forward Propagation 정의. \n",
    "    # 설계한 AE의 인코더와 디코더에 데이터를 입력했을 때 Output을 계산하기까지의 과정\n",
    "    def forward(self, x):\n",
    "        encoded = self.encoder(x) # 이미지 데이터를 사전에 정의한 인코더의 input으로 이용하여 Latent Variable Vector를 생성\n",
    "        decoded = self.decoder(encoded) # Encoded를 디코더의 Input으로 이용\n",
    "        return encoded, decoded"
   ]
  },
  {
   "cell_type": "code",
   "execution_count": 13,
   "id": "aba153aa",
   "metadata": {},
   "outputs": [
    {
     "name": "stdout",
     "output_type": "stream",
     "text": [
      "AE(\n",
      "  (encoder): Sequential(\n",
      "    (0): Linear(in_features=784, out_features=512, bias=True)\n",
      "    (1): ReLU()\n",
      "    (2): Linear(in_features=512, out_features=256, bias=True)\n",
      "    (3): ReLU()\n",
      "    (4): Linear(in_features=256, out_features=32, bias=True)\n",
      "  )\n",
      "  (decoder): Sequential(\n",
      "    (0): Linear(in_features=32, out_features=256, bias=True)\n",
      "    (1): ReLU()\n",
      "    (2): Linear(in_features=256, out_features=512, bias=True)\n",
      "    (3): ReLU()\n",
      "    (4): Linear(in_features=512, out_features=784, bias=True)\n",
      "  )\n",
      ")\n"
     ]
    }
   ],
   "source": [
    "''' 6. Optimizer, Objective Function 설정 '''\n",
    "model = AE().to(DEVICE)\n",
    "optimizer = torch.optim.Adam(model.parameters(), lr = 0.001) # 파라미터 업데이트. Optimizer은 Adam. \n",
    "criterion = nn.MSELoss()  # Loss 함수는 mse\n",
    "\n",
    "print(model)"
   ]
  },
  {
   "cell_type": "code",
   "execution_count": 14,
   "id": "d7299e3d",
   "metadata": {},
   "outputs": [],
   "source": [
    "''' 7. AE 모델 학습을 진행할 때 사용할 함수 정의(학습 데이터에 대한 모델 성능 확인)'''\n",
    "def train(model, train_loader, optimizer, log_interval):\n",
    "    model.train()\n",
    "    \n",
    "    # 미니 배치 단위로 학습 진행\n",
    "    for batch_idx, (image,_) in enumerate(train_loader): # 기존 Label 값은 사용되지 않으므로 _를 이용해 생략\n",
    "        image = image.view(-1, 28 * 28).to(DEVICE) # 2차원 이미지 데이터를 1차원 데이터로 재구성해 할당. 인코더의 input값\n",
    "        target = image.view(-1, 28 * 28).to(DEVICE) # 2차원 이미지 데이터를 1차원 데이터로 재구성. 디코더의 output과 비교 예정\n",
    "        \n",
    "        optimizer.zero_grad() # grad 초기화\n",
    "        encoded, decoded = model(image) # output 계산\n",
    "        \n",
    "        loss = criterion(decoded, target) # MSE\n",
    "        loss.backward() # grad 계산하고 파라미터에 할당\n",
    "        optimizer.step() # 최적화 진행. 파라미터 업데이트\n",
    "        \n",
    "        if batch_idx % log_interval == 0:\n",
    "            print(\"Train Epoch: {} [{}/{}({:.0f}%)] \\tTrain Loss: {:.6f}\".format(Epoch, batch_idx * len(image), \n",
    "                                                                                len(train_loader.dataset),\n",
    "                                                                                100 * batch_idx / len(train_loader), \n",
    "                                                                                loss.item()))"
   ]
  },
  {
   "cell_type": "code",
   "execution_count": 15,
   "id": "d5e04dd6",
   "metadata": {},
   "outputs": [
    {
     "data": {
      "text/plain": [
       "313"
      ]
     },
     "execution_count": 15,
     "metadata": {},
     "output_type": "execute_result"
    }
   ],
   "source": [
    "len(test_loader) # 총 313개의 미니배치가 존재함"
   ]
  },
  {
   "cell_type": "code",
   "execution_count": 16,
   "id": "0d8a7a36",
   "metadata": {
    "scrolled": true
   },
   "outputs": [],
   "source": [
    "''' 8. 학습 과정에서 검증 데이터에 대한 모델 성능 확인하는 함수 정의 '''\n",
    "def evaluate(model, test_loader):\n",
    "    model.eval()\n",
    "    test_loss = 0\n",
    "    real_image = [] # 실제 이미지 데이터 저장 리스트\n",
    "    gen_image = [] # AE를 통해 생성되는 이미지 데이터 저장 리스트\n",
    "    \n",
    "    with torch.no_grad(): # 파라미터 업데이트 억제\n",
    "        for image, _ in test_loader:\n",
    "            image = image.view(-1, 28*28).to(DEVICE) # 28*28 크기의 1차원 데이터(픽셀 값을 한 줄로 줄세우기?)로 재구성\n",
    "            target = image.view(-1, 28*28).to(DEVICE)\n",
    "            \n",
    "            encoded, decoded = model(image) # output 계산\n",
    "            \n",
    "            test_loss += criterion(decoded, target).item() # 실제 이미지와 생성된 이미지 사이의 MSE 계산\n",
    "            real_image.append(image.to(\"cpu\"))\n",
    "            gen_image.append(decoded.to(\"cpu\"))\n",
    "            \n",
    "    test_loss /= len(test_loader.dataset) # 평균 loss 계산\n",
    "    return test_loss, real_image, gen_image "
   ]
  },
  {
   "cell_type": "code",
   "execution_count": 17,
   "id": "2ab62cbf",
   "metadata": {
    "scrolled": false
   },
   "outputs": [
    {
     "name": "stdout",
     "output_type": "stream",
     "text": [
      "Train Epoch: 1 [0/60000(0%)] \tTrain Loss: 0.252008\n",
      "Train Epoch: 1 [6400/60000(11%)] \tTrain Loss: 0.029653\n",
      "Train Epoch: 1 [12800/60000(21%)] \tTrain Loss: 0.023122\n",
      "Train Epoch: 1 [19200/60000(32%)] \tTrain Loss: 0.019710\n",
      "Train Epoch: 1 [25600/60000(43%)] \tTrain Loss: 0.019846\n",
      "Train Epoch: 1 [32000/60000(53%)] \tTrain Loss: 0.017099\n",
      "Train Epoch: 1 [38400/60000(64%)] \tTrain Loss: 0.014755\n",
      "Train Epoch: 1 [44800/60000(75%)] \tTrain Loss: 0.017930\n",
      "Train Epoch: 1 [51200/60000(85%)] \tTrain Loss: 0.015183\n",
      "Train Epoch: 1 [57600/60000(96%)] \tTrain Loss: 0.013678\n",
      "\n",
      "[EPOCH : 1],\tTest Loss: 0.0005\n"
     ]
    },
    {
     "data": {
      "image/png": "[encoded data removed]",
      "text/plain": [
       "<Figure size 720x288 with 20 Axes>"
      ]
     },
     "metadata": {},
     "output_type": "display_data"
    }
   ],
   "source": [
    "''' 9. AE 모델 학습 실행'''\n",
    "for Epoch in range(1, EPOCHS + 1):\n",
    "    train(model, train_loader, optimizer, log_interval = 200) # 모델 훈련\n",
    "    test_loss, real_image, gen_image = evaluate(model, test_loader) # 모델 성능 평가\n",
    "    print(\"\\n[EPOCH : {}],\\tTest Loss: {:.4f}\".format(Epoch, test_loss))\n",
    "    f,a = plt.subplots(2, 10, figsize = (10,4))\n",
    "    \n",
    "    # 진행 과정 모니터링\n",
    "    for i in range(10):\n",
    "        img = np.reshape(real_image[312][i],(28,28)) # 1차원 데이터를 다시 2차원으로 만들기\n",
    "        a[0][i].imshow(img, cmap = \"gray_r\")\n",
    "        a[0][i].set_xticks(())\n",
    "        a[0][i].set_yticks(())\n",
    "        \n",
    "    for i in range(10):\n",
    "        img = np.reshape(gen_image[312][i],(28,28)) # 1차원 데이터를 다시 2차원으로 만들기\n",
    "        a[1][i].imshow(img, cmap = \"gray_r\")\n",
    "        a[1][i].set_xticks(())\n",
    "        a[1][i].set_yticks(())"
   ]
  },
  {
   "cell_type": "code",
   "execution_count": 18,
   "id": "395c5ea8",
   "metadata": {
    "scrolled": true
   },
   "outputs": [
    {
     "data": {
      "text/plain": [
       "tensor([[0., 0., 0.,  ..., 0., 0., 0.],\n",
       "        [0., 0., 0.,  ..., 0., 0., 0.],\n",
       "        [0., 0., 0.,  ..., 0., 0., 0.],\n",
       "        ...,\n",
       "        [0., 0., 0.,  ..., 0., 0., 0.],\n",
       "        [0., 0., 0.,  ..., 0., 0., 0.],\n",
       "        [0., 0., 0.,  ..., 0., 0., 0.]])"
      ]
     },
     "execution_count": 18,
     "metadata": {},
     "output_type": "execute_result"
    }
   ],
   "source": [
    "real_image[0]"
   ]
  },
  {
   "cell_type": "code",
   "execution_count": 19,
   "id": "480ca517",
   "metadata": {},
   "outputs": [
    {
     "data": {
      "text/plain": [
       "torch.Size([32, 784])"
      ]
     },
     "execution_count": 19,
     "metadata": {},
     "output_type": "execute_result"
    }
   ],
   "source": [
    "real_image[0].size()"
   ]
  },
  {
   "cell_type": "code",
   "execution_count": 20,
   "id": "35ea1e35",
   "metadata": {},
   "outputs": [
    {
     "data": {
      "text/plain": [
       "torch.Size([32, 784])"
      ]
     },
     "execution_count": 20,
     "metadata": {},
     "output_type": "execute_result"
    }
   ],
   "source": [
    "gen_image[0].size()"
   ]
  }
 ],
 "metadata": {
  "kernelspec": {
   "display_name": "Python 3",
   "language": "python",
   "name": "python3"
  },
  "language_info": {
   "codemirror_mode": {
    "name": "ipython",
    "version": 3
   },
   "file_extension": ".py",
   "mimetype": "text/x-python",
   "name": "python",
   "nbconvert_exporter": "python",
   "pygments_lexer": "ipython3",
   "version": "3.8.10"
  }
 },
 "nbformat": 4,
 "nbformat_minor": 5
}
