{
 "cells": [
  {
   "cell_type": "markdown",
   "metadata": {},
   "source": [
    "## 0. CNN 모델 설계 순서\n",
    "\n",
    ">1. 모듈 임포트  \n",
    "2. 장비 확인  \n",
    "3. 데이터 다운로드  \n",
    "4. 데이터 확인  \n",
    "5. MLP 설계  \n",
    "6. Optimizer, Objective Function 설정    \n",
    "7. 학습 데이터에 대한 모델 성능 확인하는 함수 정의  \n",
    "8. 검증 데이터에 대한 모델의 성능을 확인하는 함수 정의  \n",
    "9. 모델 학습 및 성능 확인  "
   ]
  },
  {
   "cell_type": "markdown",
   "metadata": {},
   "source": [
    "## 1. 모듈 임포트"
   ]
  },
  {
   "cell_type": "code",
   "execution_count": 1,
   "metadata": {},
   "outputs": [],
   "source": [
    "import numpy as np\n",
    "import matplotlib.pyplot as plt\n",
    "\n",
    "import torch\n",
    "import torch.nn as nn\n",
    "import torch.nn.functional as F\n",
    "from torchvision import transforms, datasets\n",
    "\n",
    "from torchsummary import summary\n",
    "\n",
    "import warnings\n",
    "warnings.filterwarnings(action='ignore')"
   ]
  },
  {
   "cell_type": "markdown",
   "metadata": {},
   "source": [
    "## 2. 장비 확인"
   ]
  },
  {
   "cell_type": "code",
   "execution_count": 2,
   "metadata": {},
   "outputs": [
    {
     "name": "stdout",
     "output_type": "stream",
     "text": [
      "Using Pytorch version: 1.7.0+cu101 Device :  cuda\n"
     ]
    }
   ],
   "source": [
    "if torch.cuda.is_available():\n",
    "    DEVICE = torch.device('cuda')\n",
    "else :\n",
    "    DEVICE = torch.device('cpu')\n",
    "    \n",
    "print('Using Pytorch version:', torch.__version__, 'Device : ', DEVICE)"
   ]
  },
  {
   "cell_type": "code",
   "execution_count": 3,
   "metadata": {},
   "outputs": [],
   "source": [
    "BATCH_SIZE = 32 \n",
    "EPOCHS = 10"
   ]
  },
  {
   "cell_type": "markdown",
   "metadata": {},
   "source": [
    "## 3. CIFAR10 데이터 다운로드(Train/Test 분리)\n",
    "\n",
    "- CIFAR_10 데이터 셋은 **컬러 이미지 데이터**이다. 데이터를 다운로드할 때 이미지 데이터에 대한 **기본적인 전처리**를 동시에 진행한다.  \n",
    "- ToTensor() 메서드를 이용해 **텐서 형태로 데이터를 변경**하고, **픽셀을 0과 1 사이의 값으로 정규화**한다.\n",
    "- 모델이 정보의 순서를 암기해 학습을 진행하는 것을 방지하고자 **shuffle = True**로 설정한다.\n"
   ]
  },
  {
   "cell_type": "markdown",
   "metadata": {},
   "source": [
    "### Data Augmentation\n",
    "\n",
    "- 복잡한 모델을 만들기 위해서는 다량의 데이터가 필요하다.\n",
    "- 갖고 있는 **한정적인 데이터를 임의로 변형해 데이터의 수를 늘려 다양한 Feature를 뽑는 것**을 **Data Augmentation**이라 한다.\n",
    "- Data Augmentation을 사용하면 성능이 소폭 상승한다.\n",
    "- 학습 데이터에 이용하는 전처리 과정은 검증 데이터에도 동일하게 적용돼야 한다. \n",
    "\n",
    ">- transforms.Compose() : 이미지 데이터에 전처리 및 Augmentation으 다양하게 적용\n",
    ">- RandomHorizontalFlip() : 해당 이미지를 50% 확률로 좌우 반전\n",
    ">- ToTensor() : 0과 1사이의 값으로 정규화하고 텐서 형태로 이미지 변환\n",
    ">- Normalize() : 텐서 형태로 전환된 이미지에 대해 또 다른 정규화 진행. r,g,b 순서로 평균 0.5, 표준편차 0.5씩 적용."
   ]
  },
  {
   "cell_type": "code",
   "execution_count": 4,
   "metadata": {},
   "outputs": [
    {
     "name": "stdout",
     "output_type": "stream",
     "text": [
      "Files already downloaded and verified\n"
     ]
    }
   ],
   "source": [
    "train_dataset = datasets.CIFAR10(root = '../data/CIFAR_10',\n",
    "                                train = True,\n",
    "                                download = True,\n",
    "                                transform = transforms.Compose([\n",
    "                                    transforms.RandomHorizontalFlip(),\n",
    "                                    transforms.ToTensor(),\n",
    "                                    transforms.Normalize((0.5,0.5,0.5),(0.5,0.5,0.5))])\n",
    "                                )\n",
    "\n",
    "test_dataset = datasets.CIFAR10(root = '../data/CIFAR_10',\n",
    "                                train = False,\n",
    "                                transform = transforms.Compose([\n",
    "                                    transforms.RandomHorizontalFlip(),\n",
    "                                    transforms.ToTensor(),\n",
    "                                    transforms.Normalize((0.5,0.5,0.5),(0.5,0.5,0.5))])\n",
    "                                )\n",
    "\n",
    "train_loader = torch.utils.data.DataLoader(dataset = train_dataset,\n",
    "                                          batch_size = BATCH_SIZE,\n",
    "                                          shuffle = False)\n",
    "\n",
    "test_loader = torch.utils.data.DataLoader(dataset = test_dataset,\n",
    "                                          batch_size = BATCH_SIZE,\n",
    "                                          shuffle = True)"
   ]
  },
  {
   "cell_type": "markdown",
   "metadata": {},
   "source": [
    "## 4. 데이터 확인\n",
    "\n",
    "- 훈련용 데이터 50,000개, 테스트용 데이터 10,000개\n",
    "- 훈련용 데이터의 미니배치 개수는 1563, 테스트용 데이터의 미니배치 개수는 313\n",
    "- **하나의 미니배치(X_train)**에는 **32개의 이미지 데이터**가 존재\n",
    "- **하나의 이미지 데이터**는 **가로 32개, 세로 32개의 픽셀**로 이뤄져있고 **채널은 3(RGB)** "
   ]
  },
  {
   "cell_type": "code",
   "execution_count": 5,
   "metadata": {},
   "outputs": [
    {
     "name": "stdout",
     "output_type": "stream",
     "text": [
      "train_dataset :  50000\n",
      "test_dataset :  10000\n",
      "train_loader :  1563\n",
      "test_loader :  313\n"
     ]
    }
   ],
   "source": [
    "print(\"train_dataset : \", len(train_loader.dataset))\n",
    "print(\"test_dataset : \", len(test_loader.dataset))\n",
    "\n",
    "print(\"train_loader : \", len(train_loader)) # 미니배치 개수 = iteration 횟수\n",
    "print(\"test_loader : \", len(test_loader)) # 미니배치 개수 = iteration 횟수"
   ]
  },
  {
   "cell_type": "code",
   "execution_count": 6,
   "metadata": {},
   "outputs": [
    {
     "name": "stdout",
     "output_type": "stream",
     "text": [
      "X_train: torch.Size([32, 3, 32, 32]) type: torch.FloatTensor\n",
      "y_train: torch.Size([32]) type: torch.LongTensor\n"
     ]
    }
   ],
   "source": [
    "for(X_train, y_train) in train_loader:\n",
    "    # Mini-batch 1개 안의 데이터 확인\n",
    "    print('X_train:', X_train.size(), 'type:',X_train.type())\n",
    "    print('y_train:', y_train.size(), 'type:',y_train.type())\n",
    "    break"
   ]
  },
  {
   "cell_type": "code",
   "execution_count": 7,
   "metadata": {},
   "outputs": [
    {
     "name": "stderr",
     "output_type": "stream",
     "text": [
      "Clipping input data to the valid range for imshow with RGB data ([0..1] for floats or [0..255] for integers).\n",
      "Clipping input data to the valid range for imshow with RGB data ([0..1] for floats or [0..255] for integers).\n",
      "Clipping input data to the valid range for imshow with RGB data ([0..1] for floats or [0..255] for integers).\n",
      "Clipping input data to the valid range for imshow with RGB data ([0..1] for floats or [0..255] for integers).\n",
      "Clipping input data to the valid range for imshow with RGB data ([0..1] for floats or [0..255] for integers).\n",
      "Clipping input data to the valid range for imshow with RGB data ([0..1] for floats or [0..255] for integers).\n",
      "Clipping input data to the valid range for imshow with RGB data ([0..1] for floats or [0..255] for integers).\n",
      "Clipping input data to the valid range for imshow with RGB data ([0..1] for floats or [0..255] for integers).\n",
      "Clipping input data to the valid range for imshow with RGB data ([0..1] for floats or [0..255] for integers).\n",
      "Clipping input data to the valid range for imshow with RGB data ([0..1] for floats or [0..255] for integers).\n"
     ]
    },
    {
     "data": {
      "image/png": "[encoded data removed]",
      "text/plain": [
       "<Figure size 720x72 with 10 Axes>"
      ]
     },
     "metadata": {},
     "output_type": "display_data"
    }
   ],
   "source": [
    "# 데이터 시각화\n",
    "pltsize = 1\n",
    "plt.figure(figsize = (10 * pltsize, pltsize))\n",
    "\n",
    "for i in range(10):\n",
    "    plt.subplot(1,10,i+1)\n",
    "    plt.axis('off')\n",
    "    plt.imshow(np.transpose(X_train[i],(1,2,0)))\n",
    "    plt.title('Class : ' + str(y_train[i].item()))"
   ]
  },
  {
   "cell_type": "code",
   "execution_count": 8,
   "metadata": {},
   "outputs": [
    {
     "name": "stdout",
     "output_type": "stream",
     "text": [
      "before np.transpose :  torch.Size([3, 32, 32])\n",
      "after np.transpose :  torch.Size([32, 32, 3])\n"
     ]
    }
   ],
   "source": [
    "print('before np.transpose : ', X_train[0].size())\n",
    "print('after np.transpose : ',np.transpose(X_train[i],(1,2,0)).size())"
   ]
  },
  {
   "cell_type": "markdown",
   "metadata": {},
   "source": [
    "## 5. ResNet34 모델 불러오기\n",
    "\n",
    "- **pretrained = False로 설정**하여 모델의 구조만 불러오고 **모델 구조 내에 존재하는 파라미터는 랜덤으로 샘플링한 값을 이용**한다.\n",
    "- 불러온 resnet34 모델의 **Fully Connected Layer의 Input에 해당하는 노드 수**를 **num_ftrs**로 지정한다."
   ]
  },
  {
   "cell_type": "code",
   "execution_count": 9,
   "metadata": {},
   "outputs": [],
   "source": [
    "import torchvision.models as models\n",
    "model = models.resnet34(pretrained = False)\n",
    "num_ftrs = model.fc.in_features\n",
    "model.fc = nn.Linear(num_ftrs, 10)\n",
    "model = model.cuda() # model.to(DEVICE)"
   ]
  },
  {
   "cell_type": "markdown",
   "metadata": {},
   "source": [
    "## 6. Optimizer, Objective Function 설정\n",
    "\n",
    "- ResNet 모델을 DEVICE에 할당\n",
    "- 최적화 방식은 Adam\n",
    "- 최적화에 사용될 손실함수는 CrossEntropyLoss"
   ]
  },
  {
   "cell_type": "code",
   "execution_count": 10,
   "metadata": {},
   "outputs": [],
   "source": [
    "# model = ResNet().to(DEVICE)\n",
    "optimizer = torch.optim.Adam(model.parameters(), lr = 0.001)\n",
    "criterion = nn.CrossEntropyLoss()"
   ]
  },
  {
   "cell_type": "code",
   "execution_count": 11,
   "metadata": {
    "scrolled": false
   },
   "outputs": [
    {
     "name": "stdout",
     "output_type": "stream",
     "text": [
      "----------------------------------------------------------------\n",
      "        Layer (type)               Output Shape         Param #\n",
      "================================================================\n",
      "            Conv2d-1           [-1, 64, 16, 16]           9,408\n",
      "       BatchNorm2d-2           [-1, 64, 16, 16]             128\n",
      "              ReLU-3           [-1, 64, 16, 16]               0\n",
      "         MaxPool2d-4             [-1, 64, 8, 8]               0\n",
      "            Conv2d-5             [-1, 64, 8, 8]          36,864\n",
      "       BatchNorm2d-6             [-1, 64, 8, 8]             128\n",
      "              ReLU-7             [-1, 64, 8, 8]               0\n",
      "            Conv2d-8             [-1, 64, 8, 8]          36,864\n",
      "       BatchNorm2d-9             [-1, 64, 8, 8]             128\n",
      "             ReLU-10             [-1, 64, 8, 8]               0\n",
      "       BasicBlock-11             [-1, 64, 8, 8]               0\n",
      "           Conv2d-12             [-1, 64, 8, 8]          36,864\n",
      "      BatchNorm2d-13             [-1, 64, 8, 8]             128\n",
      "             ReLU-14             [-1, 64, 8, 8]               0\n",
      "           Conv2d-15             [-1, 64, 8, 8]          36,864\n",
      "      BatchNorm2d-16             [-1, 64, 8, 8]             128\n",
      "             ReLU-17             [-1, 64, 8, 8]               0\n",
      "       BasicBlock-18             [-1, 64, 8, 8]               0\n",
      "           Conv2d-19             [-1, 64, 8, 8]          36,864\n",
      "      BatchNorm2d-20             [-1, 64, 8, 8]             128\n",
      "             ReLU-21             [-1, 64, 8, 8]               0\n",
      "           Conv2d-22             [-1, 64, 8, 8]          36,864\n",
      "      BatchNorm2d-23             [-1, 64, 8, 8]             128\n",
      "             ReLU-24             [-1, 64, 8, 8]               0\n",
      "       BasicBlock-25             [-1, 64, 8, 8]               0\n",
      "           Conv2d-26            [-1, 128, 4, 4]          73,728\n",
      "      BatchNorm2d-27            [-1, 128, 4, 4]             256\n",
      "             ReLU-28            [-1, 128, 4, 4]               0\n",
      "           Conv2d-29            [-1, 128, 4, 4]         147,456\n",
      "      BatchNorm2d-30            [-1, 128, 4, 4]             256\n",
      "           Conv2d-31            [-1, 128, 4, 4]           8,192\n",
      "      BatchNorm2d-32            [-1, 128, 4, 4]             256\n",
      "             ReLU-33            [-1, 128, 4, 4]               0\n",
      "       BasicBlock-34            [-1, 128, 4, 4]               0\n",
      "           Conv2d-35            [-1, 128, 4, 4]         147,456\n",
      "      BatchNorm2d-36            [-1, 128, 4, 4]             256\n",
      "             ReLU-37            [-1, 128, 4, 4]               0\n",
      "           Conv2d-38            [-1, 128, 4, 4]         147,456\n",
      "      BatchNorm2d-39            [-1, 128, 4, 4]             256\n",
      "             ReLU-40            [-1, 128, 4, 4]               0\n",
      "       BasicBlock-41            [-1, 128, 4, 4]               0\n",
      "           Conv2d-42            [-1, 128, 4, 4]         147,456\n",
      "      BatchNorm2d-43            [-1, 128, 4, 4]             256\n",
      "             ReLU-44            [-1, 128, 4, 4]               0\n",
      "           Conv2d-45            [-1, 128, 4, 4]         147,456\n",
      "      BatchNorm2d-46            [-1, 128, 4, 4]             256\n",
      "             ReLU-47            [-1, 128, 4, 4]               0\n",
      "       BasicBlock-48            [-1, 128, 4, 4]               0\n",
      "           Conv2d-49            [-1, 128, 4, 4]         147,456\n",
      "      BatchNorm2d-50            [-1, 128, 4, 4]             256\n",
      "             ReLU-51            [-1, 128, 4, 4]               0\n",
      "           Conv2d-52            [-1, 128, 4, 4]         147,456\n",
      "      BatchNorm2d-53            [-1, 128, 4, 4]             256\n",
      "             ReLU-54            [-1, 128, 4, 4]               0\n",
      "       BasicBlock-55            [-1, 128, 4, 4]               0\n",
      "           Conv2d-56            [-1, 256, 2, 2]         294,912\n",
      "      BatchNorm2d-57            [-1, 256, 2, 2]             512\n",
      "             ReLU-58            [-1, 256, 2, 2]               0\n",
      "           Conv2d-59            [-1, 256, 2, 2]         589,824\n",
      "      BatchNorm2d-60            [-1, 256, 2, 2]             512\n",
      "           Conv2d-61            [-1, 256, 2, 2]          32,768\n",
      "      BatchNorm2d-62            [-1, 256, 2, 2]             512\n",
      "             ReLU-63            [-1, 256, 2, 2]               0\n",
      "       BasicBlock-64            [-1, 256, 2, 2]               0\n",
      "           Conv2d-65            [-1, 256, 2, 2]         589,824\n",
      "      BatchNorm2d-66            [-1, 256, 2, 2]             512\n",
      "             ReLU-67            [-1, 256, 2, 2]               0\n",
      "           Conv2d-68            [-1, 256, 2, 2]         589,824\n",
      "      BatchNorm2d-69            [-1, 256, 2, 2]             512\n",
      "             ReLU-70            [-1, 256, 2, 2]               0\n",
      "       BasicBlock-71            [-1, 256, 2, 2]               0\n",
      "           Conv2d-72            [-1, 256, 2, 2]         589,824\n",
      "      BatchNorm2d-73            [-1, 256, 2, 2]             512\n",
      "             ReLU-74            [-1, 256, 2, 2]               0\n",
      "           Conv2d-75            [-1, 256, 2, 2]         589,824\n",
      "      BatchNorm2d-76            [-1, 256, 2, 2]             512\n",
      "             ReLU-77            [-1, 256, 2, 2]               0\n",
      "       BasicBlock-78            [-1, 256, 2, 2]               0\n",
      "           Conv2d-79            [-1, 256, 2, 2]         589,824\n",
      "      BatchNorm2d-80            [-1, 256, 2, 2]             512\n",
      "             ReLU-81            [-1, 256, 2, 2]               0\n",
      "           Conv2d-82            [-1, 256, 2, 2]         589,824\n",
      "      BatchNorm2d-83            [-1, 256, 2, 2]             512\n",
      "             ReLU-84            [-1, 256, 2, 2]               0\n",
      "       BasicBlock-85            [-1, 256, 2, 2]               0\n",
      "           Conv2d-86            [-1, 256, 2, 2]         589,824\n",
      "      BatchNorm2d-87            [-1, 256, 2, 2]             512\n",
      "             ReLU-88            [-1, 256, 2, 2]               0\n",
      "           Conv2d-89            [-1, 256, 2, 2]         589,824\n",
      "      BatchNorm2d-90            [-1, 256, 2, 2]             512\n",
      "             ReLU-91            [-1, 256, 2, 2]               0\n",
      "       BasicBlock-92            [-1, 256, 2, 2]               0\n",
      "           Conv2d-93            [-1, 256, 2, 2]         589,824\n",
      "      BatchNorm2d-94            [-1, 256, 2, 2]             512\n",
      "             ReLU-95            [-1, 256, 2, 2]               0\n",
      "           Conv2d-96            [-1, 256, 2, 2]         589,824\n",
      "      BatchNorm2d-97            [-1, 256, 2, 2]             512\n",
      "             ReLU-98            [-1, 256, 2, 2]               0\n",
      "       BasicBlock-99            [-1, 256, 2, 2]               0\n",
      "          Conv2d-100            [-1, 512, 1, 1]       1,179,648\n",
      "     BatchNorm2d-101            [-1, 512, 1, 1]           1,024\n",
      "            ReLU-102            [-1, 512, 1, 1]               0\n",
      "          Conv2d-103            [-1, 512, 1, 1]       2,359,296\n",
      "     BatchNorm2d-104            [-1, 512, 1, 1]           1,024\n",
      "          Conv2d-105            [-1, 512, 1, 1]         131,072\n",
      "     BatchNorm2d-106            [-1, 512, 1, 1]           1,024\n",
      "            ReLU-107            [-1, 512, 1, 1]               0\n",
      "      BasicBlock-108            [-1, 512, 1, 1]               0\n",
      "          Conv2d-109            [-1, 512, 1, 1]       2,359,296\n",
      "     BatchNorm2d-110            [-1, 512, 1, 1]           1,024\n",
      "            ReLU-111            [-1, 512, 1, 1]               0\n",
      "          Conv2d-112            [-1, 512, 1, 1]       2,359,296\n",
      "     BatchNorm2d-113            [-1, 512, 1, 1]           1,024\n",
      "            ReLU-114            [-1, 512, 1, 1]               0\n",
      "      BasicBlock-115            [-1, 512, 1, 1]               0\n",
      "          Conv2d-116            [-1, 512, 1, 1]       2,359,296\n",
      "     BatchNorm2d-117            [-1, 512, 1, 1]           1,024\n",
      "            ReLU-118            [-1, 512, 1, 1]               0\n",
      "          Conv2d-119            [-1, 512, 1, 1]       2,359,296\n",
      "     BatchNorm2d-120            [-1, 512, 1, 1]           1,024\n",
      "            ReLU-121            [-1, 512, 1, 1]               0\n",
      "      BasicBlock-122            [-1, 512, 1, 1]               0\n",
      "AdaptiveAvgPool2d-123            [-1, 512, 1, 1]               0\n",
      "          Linear-124                   [-1, 10]           5,130\n",
      "================================================================\n",
      "Total params: 21,289,802\n",
      "Trainable params: 21,289,802\n",
      "Non-trainable params: 0\n",
      "----------------------------------------------------------------\n",
      "Input size (MB): 0.01\n",
      "Forward/backward pass size (MB): 1.97\n",
      "Params size (MB): 81.21\n",
      "Estimated Total Size (MB): 83.19\n",
      "----------------------------------------------------------------\n"
     ]
    }
   ],
   "source": [
    "# print(model)\n",
    "summary(model, input_size=(3, 32, 32))"
   ]
  },
  {
   "cell_type": "markdown",
   "metadata": {},
   "source": [
    "## 7. 학습 데이터에 대한 모델 성능 확인하는 함수 정의\n",
    "\n",
    "1. CNN 모델을 학습 상태로 지정\n",
    "2. Mini-batch 단위로 저장된 데이터를 순서대로 이용하여 모델 학습\n",
    "3. 이미지 데이터와 레이블 데이터를 기존에 정의한 장비에 할당\n",
    "4. Optimizer 초기화\n",
    "5. output 계산 \n",
    "6. CrossEntropy를 통해 Loss 계산\n",
    "7. Backpropagation을 통한 파라미터 업데이트"
   ]
  },
  {
   "cell_type": "code",
   "execution_count": 12,
   "metadata": {},
   "outputs": [],
   "source": [
    "def train(model, train_loader, optimizer, log_interval):\n",
    "    model.train()\n",
    "    print(\"-------------------- Training..... --------------------\\n\")\n",
    "    for batch_idx, (image, label) in enumerate(train_loader):\n",
    "        image = image.to(DEVICE)\n",
    "        label = label.to(DEVICE)\n",
    "        optimizer.zero_grad()\n",
    "        output = model(image)\n",
    "        \n",
    "        loss = criterion(output, label)\n",
    "        loss.backward()\n",
    "        optimizer.step() # 파라미터 업데이트\n",
    "        \n",
    "        if batch_idx % log_interval == 0 :\n",
    "            print(\"Train Epoch: {} [{}/{}]\\tTrain Loss: {:.6f}\".format(Epoch,\n",
    "                                                                       len(image) * batch_idx,\n",
    "                                                                       len(train_loader.dataset),\n",
    "                                                                       loss.item()))\n",
    "    print(\"--------------------------------------------------------\\n\")   "
   ]
  },
  {
   "cell_type": "markdown",
   "metadata": {},
   "source": [
    "## 8. 검증 데이터에 대한 모델 성능을 확인하는 함수 정의\n",
    "\n",
    "1. 모델을 평가 상태로 지정\n",
    "2. Gradient의 흐름을 억제하여 파라미터 값이 업데이트되는 현상 방지\n",
    "3. 이후 과정은 *7. 학습 데이터에 대한 모델 성능을 확인하는 함수 정의* 와 동일"
   ]
  },
  {
   "cell_type": "code",
   "execution_count": 13,
   "metadata": {},
   "outputs": [],
   "source": [
    "def evaluate(model, test_loader):\n",
    "    model.eval()\n",
    "    test_loss = 0\n",
    "    correct = 0\n",
    "    \n",
    "    with torch.no_grad():\n",
    "        for image, label in test_loader:\n",
    "            image = image.to(DEVICE)\n",
    "            label = label.to(DEVICE)\n",
    "            \n",
    "            output = model(image)\n",
    "            test_loss += criterion(output, label)\n",
    "            prediction = output.max(1, keepdim = True)[1] # 가장 큰 확률 값을 지니는 클래스의 인덱스만 추출\n",
    "            correct += prediction.eq(label.view_as(prediction)).sum().item()\n",
    "            \n",
    "    test_loss /= len(test_loader.dataset)\n",
    "    test_accuracy = 100. * correct / len(test_loader.dataset)\n",
    "    \n",
    "    return test_loss, test_accuracy"
   ]
  },
  {
   "cell_type": "markdown",
   "metadata": {},
   "source": [
    "## 9. 모델 학습 및 성능 확인"
   ]
  },
  {
   "cell_type": "code",
   "execution_count": 14,
   "metadata": {
    "scrolled": false
   },
   "outputs": [
    {
     "name": "stdout",
     "output_type": "stream",
     "text": [
      "-------------------- Training..... --------------------\n",
      "\n",
      "Train Epoch: 1 [0/50000]\tTrain Loss: 2.428457\n",
      "Train Epoch: 1 [6400/50000]\tTrain Loss: 1.391500\n",
      "Train Epoch: 1 [12800/50000]\tTrain Loss: 1.438986\n",
      "Train Epoch: 1 [19200/50000]\tTrain Loss: 1.948861\n",
      "Train Epoch: 1 [25600/50000]\tTrain Loss: 1.721593\n",
      "Train Epoch: 1 [32000/50000]\tTrain Loss: 1.351236\n",
      "Train Epoch: 1 [38400/50000]\tTrain Loss: 1.122242\n",
      "Train Epoch: 1 [44800/50000]\tTrain Loss: 1.038510\n",
      "--------------------------------------------------------\n",
      "\n",
      "[EPOCH: 1] Test Loss: 0.0384 \tTest Accracy: 57.23%\n",
      "\n",
      "-------------------- Training..... --------------------\n",
      "\n",
      "Train Epoch: 2 [0/50000]\tTrain Loss: 1.214507\n",
      "Train Epoch: 2 [6400/50000]\tTrain Loss: 1.061634\n",
      "Train Epoch: 2 [12800/50000]\tTrain Loss: 0.930815\n",
      "Train Epoch: 2 [19200/50000]\tTrain Loss: 1.459097\n",
      "Train Epoch: 2 [25600/50000]\tTrain Loss: 1.293411\n",
      "Train Epoch: 2 [32000/50000]\tTrain Loss: 1.369463\n",
      "Train Epoch: 2 [38400/50000]\tTrain Loss: 0.931824\n",
      "Train Epoch: 2 [44800/50000]\tTrain Loss: 0.867476\n",
      "--------------------------------------------------------\n",
      "\n",
      "[EPOCH: 2] Test Loss: 0.0299 \tTest Accracy: 66.79%\n",
      "\n",
      "-------------------- Training..... --------------------\n",
      "\n",
      "Train Epoch: 3 [0/50000]\tTrain Loss: 1.188758\n",
      "Train Epoch: 3 [6400/50000]\tTrain Loss: 0.888045\n",
      "Train Epoch: 3 [12800/50000]\tTrain Loss: 0.929246\n",
      "Train Epoch: 3 [19200/50000]\tTrain Loss: 1.238378\n",
      "Train Epoch: 3 [25600/50000]\tTrain Loss: 1.030678\n",
      "Train Epoch: 3 [32000/50000]\tTrain Loss: 1.144726\n",
      "Train Epoch: 3 [38400/50000]\tTrain Loss: 0.629131\n",
      "Train Epoch: 3 [44800/50000]\tTrain Loss: 0.672932\n",
      "--------------------------------------------------------\n",
      "\n",
      "[EPOCH: 3] Test Loss: 0.0272 \tTest Accracy: 70.10%\n",
      "\n",
      "-------------------- Training..... --------------------\n",
      "\n",
      "Train Epoch: 4 [0/50000]\tTrain Loss: 0.849074\n",
      "Train Epoch: 4 [6400/50000]\tTrain Loss: 0.945472\n",
      "Train Epoch: 4 [12800/50000]\tTrain Loss: 0.859358\n",
      "Train Epoch: 4 [19200/50000]\tTrain Loss: 1.021277\n",
      "Train Epoch: 4 [25600/50000]\tTrain Loss: 0.882932\n",
      "Train Epoch: 4 [32000/50000]\tTrain Loss: 0.982701\n",
      "Train Epoch: 4 [38400/50000]\tTrain Loss: 0.924779\n",
      "Train Epoch: 4 [44800/50000]\tTrain Loss: 0.695652\n",
      "--------------------------------------------------------\n",
      "\n",
      "[EPOCH: 4] Test Loss: 0.0242 \tTest Accracy: 73.31%\n",
      "\n",
      "-------------------- Training..... --------------------\n",
      "\n",
      "Train Epoch: 5 [0/50000]\tTrain Loss: 0.782907\n",
      "Train Epoch: 5 [6400/50000]\tTrain Loss: 0.748809\n",
      "Train Epoch: 5 [12800/50000]\tTrain Loss: 0.801871\n",
      "Train Epoch: 5 [19200/50000]\tTrain Loss: 0.806260\n",
      "Train Epoch: 5 [25600/50000]\tTrain Loss: 0.649286\n",
      "Train Epoch: 5 [32000/50000]\tTrain Loss: 0.791530\n",
      "Train Epoch: 5 [38400/50000]\tTrain Loss: 0.614990\n",
      "Train Epoch: 5 [44800/50000]\tTrain Loss: 0.614386\n",
      "--------------------------------------------------------\n",
      "\n",
      "[EPOCH: 5] Test Loss: 0.0230 \tTest Accracy: 74.95%\n",
      "\n",
      "-------------------- Training..... --------------------\n",
      "\n",
      "Train Epoch: 6 [0/50000]\tTrain Loss: 0.530886\n",
      "Train Epoch: 6 [6400/50000]\tTrain Loss: 0.776885\n",
      "Train Epoch: 6 [12800/50000]\tTrain Loss: 0.704265\n",
      "Train Epoch: 6 [19200/50000]\tTrain Loss: 0.796939\n",
      "Train Epoch: 6 [25600/50000]\tTrain Loss: 0.642196\n",
      "Train Epoch: 6 [32000/50000]\tTrain Loss: 0.694195\n",
      "Train Epoch: 6 [38400/50000]\tTrain Loss: 0.649070\n",
      "Train Epoch: 6 [44800/50000]\tTrain Loss: 0.614058\n",
      "--------------------------------------------------------\n",
      "\n",
      "[EPOCH: 6] Test Loss: 0.0217 \tTest Accracy: 76.65%\n",
      "\n",
      "-------------------- Training..... --------------------\n",
      "\n",
      "Train Epoch: 7 [0/50000]\tTrain Loss: 0.486031\n",
      "Train Epoch: 7 [6400/50000]\tTrain Loss: 0.609860\n",
      "Train Epoch: 7 [12800/50000]\tTrain Loss: 0.978063\n",
      "Train Epoch: 7 [19200/50000]\tTrain Loss: 0.966841\n",
      "Train Epoch: 7 [25600/50000]\tTrain Loss: 0.415717\n",
      "Train Epoch: 7 [32000/50000]\tTrain Loss: 0.687691\n",
      "Train Epoch: 7 [38400/50000]\tTrain Loss: 0.808419\n",
      "Train Epoch: 7 [44800/50000]\tTrain Loss: 0.935894\n",
      "--------------------------------------------------------\n",
      "\n",
      "[EPOCH: 7] Test Loss: 0.0215 \tTest Accracy: 76.86%\n",
      "\n",
      "-------------------- Training..... --------------------\n",
      "\n",
      "Train Epoch: 8 [0/50000]\tTrain Loss: 0.415191\n",
      "Train Epoch: 8 [6400/50000]\tTrain Loss: 0.752065\n",
      "Train Epoch: 8 [12800/50000]\tTrain Loss: 0.581814\n",
      "Train Epoch: 8 [19200/50000]\tTrain Loss: 0.890039\n",
      "Train Epoch: 8 [25600/50000]\tTrain Loss: 0.546886\n",
      "Train Epoch: 8 [32000/50000]\tTrain Loss: 0.435398\n",
      "Train Epoch: 8 [38400/50000]\tTrain Loss: 0.393468\n",
      "Train Epoch: 8 [44800/50000]\tTrain Loss: 0.675843\n",
      "--------------------------------------------------------\n",
      "\n",
      "[EPOCH: 8] Test Loss: 0.0219 \tTest Accracy: 76.95%\n",
      "\n",
      "-------------------- Training..... --------------------\n",
      "\n",
      "Train Epoch: 9 [0/50000]\tTrain Loss: 0.522204\n",
      "Train Epoch: 9 [6400/50000]\tTrain Loss: 0.650352\n",
      "Train Epoch: 9 [12800/50000]\tTrain Loss: 0.551951\n",
      "Train Epoch: 9 [19200/50000]\tTrain Loss: 0.932518\n",
      "Train Epoch: 9 [25600/50000]\tTrain Loss: 0.292254\n",
      "Train Epoch: 9 [32000/50000]\tTrain Loss: 0.774959\n",
      "Train Epoch: 9 [38400/50000]\tTrain Loss: 0.692497\n",
      "Train Epoch: 9 [44800/50000]\tTrain Loss: 0.398191\n",
      "--------------------------------------------------------\n",
      "\n",
      "[EPOCH: 9] Test Loss: 0.0226 \tTest Accracy: 77.31%\n",
      "\n",
      "-------------------- Training..... --------------------\n",
      "\n",
      "Train Epoch: 10 [0/50000]\tTrain Loss: 0.392066\n",
      "Train Epoch: 10 [6400/50000]\tTrain Loss: 0.730534\n",
      "Train Epoch: 10 [12800/50000]\tTrain Loss: 0.697340\n",
      "Train Epoch: 10 [19200/50000]\tTrain Loss: 0.767751\n",
      "Train Epoch: 10 [25600/50000]\tTrain Loss: 0.219243\n",
      "Train Epoch: 10 [32000/50000]\tTrain Loss: 0.439057\n",
      "Train Epoch: 10 [38400/50000]\tTrain Loss: 0.398558\n",
      "Train Epoch: 10 [44800/50000]\tTrain Loss: 0.398353\n",
      "--------------------------------------------------------\n",
      "\n",
      "[EPOCH: 10] Test Loss: 0.0224 \tTest Accracy: 77.69%\n",
      "\n"
     ]
    }
   ],
   "source": [
    "for Epoch in range(1, EPOCHS + 1):\n",
    "    train(model, train_loader, optimizer, log_interval = 200)\n",
    "    test_loss, test_accuracy = evaluate(model, test_loader)\n",
    "    print(\"[EPOCH: {}] Test Loss: {:.4f} \\tTest Accracy: {:.2f}%\\n\".format(Epoch,\n",
    "                                                                            test_loss,\n",
    "                                                                            test_accuracy))"
   ]
  },
  {
   "cell_type": "markdown",
   "metadata": {},
   "source": [
    "## ➕ ImageNet 데이터로 학습된 ResNet34 모델을 불러온 후 Fine-tuning 해보기"
   ]
  },
  {
   "cell_type": "code",
   "execution_count": 15,
   "metadata": {
    "scrolled": false
   },
   "outputs": [
    {
     "name": "stdout",
     "output_type": "stream",
     "text": [
      "-------------------- Training..... --------------------\n",
      "\n",
      "Train Epoch: 1 [0/50000]\tTrain Loss: 2.635197\n",
      "Train Epoch: 1 [6400/50000]\tTrain Loss: 1.143671\n",
      "Train Epoch: 1 [12800/50000]\tTrain Loss: 1.392290\n",
      "Train Epoch: 1 [19200/50000]\tTrain Loss: 1.272022\n",
      "Train Epoch: 1 [25600/50000]\tTrain Loss: 0.897255\n",
      "Train Epoch: 1 [32000/50000]\tTrain Loss: 0.925618\n",
      "Train Epoch: 1 [38400/50000]\tTrain Loss: 1.009339\n",
      "Train Epoch: 1 [44800/50000]\tTrain Loss: 1.001643\n",
      "--------------------------------------------------------\n",
      "\n",
      "[EPOCH: 1] Test Loss: 0.0299 \tTest Accracy: 68.79%\n",
      "\n",
      "-------------------- Training..... --------------------\n",
      "\n",
      "Train Epoch: 2 [0/50000]\tTrain Loss: 0.911223\n",
      "Train Epoch: 2 [6400/50000]\tTrain Loss: 0.833055\n",
      "Train Epoch: 2 [12800/50000]\tTrain Loss: 0.964783\n",
      "Train Epoch: 2 [19200/50000]\tTrain Loss: 1.147692\n",
      "Train Epoch: 2 [25600/50000]\tTrain Loss: 0.772254\n",
      "Train Epoch: 2 [32000/50000]\tTrain Loss: 0.814888\n",
      "Train Epoch: 2 [38400/50000]\tTrain Loss: 0.677064\n",
      "Train Epoch: 2 [44800/50000]\tTrain Loss: 0.723863\n",
      "--------------------------------------------------------\n",
      "\n",
      "[EPOCH: 2] Test Loss: 0.0213 \tTest Accracy: 76.80%\n",
      "\n",
      "-------------------- Training..... --------------------\n",
      "\n",
      "Train Epoch: 3 [0/50000]\tTrain Loss: 0.544014\n",
      "Train Epoch: 3 [6400/50000]\tTrain Loss: 0.668266\n",
      "Train Epoch: 3 [12800/50000]\tTrain Loss: 0.757027\n",
      "Train Epoch: 3 [19200/50000]\tTrain Loss: 1.041057\n",
      "Train Epoch: 3 [25600/50000]\tTrain Loss: 0.487406\n",
      "Train Epoch: 3 [32000/50000]\tTrain Loss: 0.705838\n",
      "Train Epoch: 3 [38400/50000]\tTrain Loss: 0.572880\n",
      "Train Epoch: 3 [44800/50000]\tTrain Loss: 0.764267\n",
      "--------------------------------------------------------\n",
      "\n",
      "[EPOCH: 3] Test Loss: 0.0240 \tTest Accracy: 77.45%\n",
      "\n",
      "-------------------- Training..... --------------------\n",
      "\n",
      "Train Epoch: 4 [0/50000]\tTrain Loss: 0.514704\n",
      "Train Epoch: 4 [6400/50000]\tTrain Loss: 0.644543\n",
      "Train Epoch: 4 [12800/50000]\tTrain Loss: 0.565533\n",
      "Train Epoch: 4 [19200/50000]\tTrain Loss: 0.951555\n",
      "Train Epoch: 4 [25600/50000]\tTrain Loss: 0.650872\n",
      "Train Epoch: 4 [32000/50000]\tTrain Loss: 0.523728\n",
      "Train Epoch: 4 [38400/50000]\tTrain Loss: 0.505806\n",
      "Train Epoch: 4 [44800/50000]\tTrain Loss: 0.520366\n",
      "--------------------------------------------------------\n",
      "\n",
      "[EPOCH: 4] Test Loss: 0.0221 \tTest Accracy: 76.82%\n",
      "\n",
      "-------------------- Training..... --------------------\n",
      "\n",
      "Train Epoch: 5 [0/50000]\tTrain Loss: 0.334323\n",
      "Train Epoch: 5 [6400/50000]\tTrain Loss: 0.540911\n",
      "Train Epoch: 5 [12800/50000]\tTrain Loss: 0.496008\n",
      "Train Epoch: 5 [19200/50000]\tTrain Loss: 1.156226\n",
      "Train Epoch: 5 [25600/50000]\tTrain Loss: 0.283167\n",
      "Train Epoch: 5 [32000/50000]\tTrain Loss: 0.563902\n",
      "Train Epoch: 5 [38400/50000]\tTrain Loss: 0.444764\n",
      "Train Epoch: 5 [44800/50000]\tTrain Loss: 0.506787\n",
      "--------------------------------------------------------\n",
      "\n",
      "[EPOCH: 5] Test Loss: 0.0754 \tTest Accracy: 71.47%\n",
      "\n",
      "-------------------- Training..... --------------------\n",
      "\n",
      "Train Epoch: 6 [0/50000]\tTrain Loss: 0.905120\n",
      "Train Epoch: 6 [6400/50000]\tTrain Loss: 0.603639\n",
      "Train Epoch: 6 [12800/50000]\tTrain Loss: 0.527953\n",
      "Train Epoch: 6 [19200/50000]\tTrain Loss: 0.769889\n",
      "Train Epoch: 6 [25600/50000]\tTrain Loss: 0.227152\n",
      "Train Epoch: 6 [32000/50000]\tTrain Loss: 0.487570\n",
      "Train Epoch: 6 [38400/50000]\tTrain Loss: 0.432704\n",
      "Train Epoch: 6 [44800/50000]\tTrain Loss: 0.311201\n",
      "--------------------------------------------------------\n",
      "\n",
      "[EPOCH: 6] Test Loss: 0.0195 \tTest Accracy: 79.57%\n",
      "\n",
      "-------------------- Training..... --------------------\n",
      "\n",
      "Train Epoch: 7 [0/50000]\tTrain Loss: 0.437583\n",
      "Train Epoch: 7 [6400/50000]\tTrain Loss: 0.917276\n",
      "Train Epoch: 7 [12800/50000]\tTrain Loss: 0.413771\n",
      "Train Epoch: 7 [19200/50000]\tTrain Loss: 0.771922\n",
      "Train Epoch: 7 [25600/50000]\tTrain Loss: 0.255004\n",
      "Train Epoch: 7 [32000/50000]\tTrain Loss: 0.491826\n",
      "Train Epoch: 7 [38400/50000]\tTrain Loss: 0.217567\n",
      "Train Epoch: 7 [44800/50000]\tTrain Loss: 0.510248\n",
      "--------------------------------------------------------\n",
      "\n",
      "[EPOCH: 7] Test Loss: 0.0199 \tTest Accracy: 79.50%\n",
      "\n",
      "-------------------- Training..... --------------------\n",
      "\n",
      "Train Epoch: 8 [0/50000]\tTrain Loss: 0.254174\n",
      "Train Epoch: 8 [6400/50000]\tTrain Loss: 0.684539\n",
      "Train Epoch: 8 [12800/50000]\tTrain Loss: 0.534110\n",
      "Train Epoch: 8 [19200/50000]\tTrain Loss: 0.618980\n",
      "Train Epoch: 8 [25600/50000]\tTrain Loss: 0.263421\n",
      "Train Epoch: 8 [32000/50000]\tTrain Loss: 0.314102\n",
      "Train Epoch: 8 [38400/50000]\tTrain Loss: 0.328459\n",
      "Train Epoch: 8 [44800/50000]\tTrain Loss: 0.424909\n",
      "--------------------------------------------------------\n",
      "\n",
      "[EPOCH: 8] Test Loss: 0.1575 \tTest Accracy: 67.92%\n",
      "\n",
      "-------------------- Training..... --------------------\n",
      "\n",
      "Train Epoch: 9 [0/50000]\tTrain Loss: 0.438290\n",
      "Train Epoch: 9 [6400/50000]\tTrain Loss: 0.437455\n",
      "Train Epoch: 9 [12800/50000]\tTrain Loss: 0.361794\n",
      "Train Epoch: 9 [19200/50000]\tTrain Loss: 0.671862\n",
      "Train Epoch: 9 [25600/50000]\tTrain Loss: 0.291312\n",
      "Train Epoch: 9 [32000/50000]\tTrain Loss: 0.326104\n",
      "Train Epoch: 9 [38400/50000]\tTrain Loss: 0.266788\n",
      "Train Epoch: 9 [44800/50000]\tTrain Loss: 0.277856\n",
      "--------------------------------------------------------\n",
      "\n",
      "[EPOCH: 9] Test Loss: 0.0250 \tTest Accracy: 79.91%\n",
      "\n",
      "-------------------- Training..... --------------------\n",
      "\n",
      "Train Epoch: 10 [0/50000]\tTrain Loss: 0.347552\n",
      "Train Epoch: 10 [6400/50000]\tTrain Loss: 0.407825\n",
      "Train Epoch: 10 [12800/50000]\tTrain Loss: 0.409414\n",
      "Train Epoch: 10 [19200/50000]\tTrain Loss: 0.624175\n",
      "Train Epoch: 10 [25600/50000]\tTrain Loss: 0.203393\n",
      "Train Epoch: 10 [32000/50000]\tTrain Loss: 0.233986\n",
      "Train Epoch: 10 [38400/50000]\tTrain Loss: 0.220796\n",
      "Train Epoch: 10 [44800/50000]\tTrain Loss: 0.300778\n",
      "--------------------------------------------------------\n",
      "\n",
      "[EPOCH: 10] Test Loss: 0.0385 \tTest Accracy: 79.53%\n",
      "\n"
     ]
    }
   ],
   "source": [
    "model = models.resnet34(pretrained = True)\n",
    "num_ftrs = model.fc.in_features\n",
    "model.fc = nn.Linear(num_ftrs, 10)\n",
    "model.to(DEVICE)\n",
    "optimizer = torch.optim.Adam(model.parameters(), lr = 0.001)\n",
    "\n",
    "for Epoch in range(1, EPOCHS + 1):\n",
    "    train(model, train_loader, optimizer, log_interval = 200)\n",
    "    test_loss, test_accuracy = evaluate(model, test_loader)\n",
    "    print(\"[EPOCH: {}] Test Loss: {:.4f} \\tTest Accracy: {:.2f}%\\n\".format(Epoch,\n",
    "                                                                            test_loss,\n",
    "                                                                            test_accuracy))    "
   ]
  }
 ],
 "metadata": {
  "kernelspec": {
   "display_name": "Python 3",
   "language": "python",
   "name": "python3"
  },
  "language_info": {
   "codemirror_mode": {
    "name": "ipython",
    "version": 3
   },
   "file_extension": ".py",
   "mimetype": "text/x-python",
   "name": "python",
   "nbconvert_exporter": "python",
   "pygments_lexer": "ipython3",
   "version": "3.6.10"
  }
 },
 "nbformat": 4,
 "nbformat_minor": 5
}
