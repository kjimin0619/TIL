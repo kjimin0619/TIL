{
 "cells": [
  {
   "cell_type": "markdown",
   "id": "097b3e4c",
   "metadata": {},
   "source": [
    "## 0. CNN 모델 설계 순서\n",
    "\n",
    ">1. 모듈 임포트  \n",
    "2. 장비 확인  \n",
    "3. 데이터 다운로드  \n",
    "4. 데이터 확인  \n",
    "5. MLP 설계  \n",
    "6. Optimizer, Objective Function 설정    \n",
    "7. 학습 데이터에 대한 모델 성능 확인하는 함수 정의  \n",
    "8. 검증 데이터에 대한 모델의 성능을 확인하는 함수 정의  \n",
    "9. 모델 학습 및 성능 확인  "
   ]
  },
  {
   "cell_type": "markdown",
   "id": "ad4e54a2",
   "metadata": {},
   "source": [
    "## 1. 모듈 임포트"
   ]
  },
  {
   "cell_type": "code",
   "execution_count": 20,
   "id": "6bd0a2b1",
   "metadata": {},
   "outputs": [],
   "source": [
    "import numpy as np\n",
    "import matplotlib.pyplot as plt\n",
    "\n",
    "import torch\n",
    "import torch.nn as nn\n",
    "import torch.nn.functional as F\n",
    "from torchvision import transforms, datasets\n",
    "\n",
    "from torchsummary import summary"
   ]
  },
  {
   "cell_type": "markdown",
   "id": "74f5394f",
   "metadata": {},
   "source": [
    "## 2. 장비 확인"
   ]
  },
  {
   "cell_type": "code",
   "execution_count": 21,
   "id": "904e01cc",
   "metadata": {},
   "outputs": [
    {
     "name": "stdout",
     "output_type": "stream",
     "text": [
      "Using Pytorch version: 1.9.0 Device :  cpu\n"
     ]
    }
   ],
   "source": [
    "if torch.cuda.is_available():\n",
    "    DEVICE = torch.device('cuda')\n",
    "else :\n",
    "    DEVICE = torch.device('cpu')\n",
    "    \n",
    "print('Using Pytorch version:', torch.__version__, 'Device : ', DEVICE)"
   ]
  },
  {
   "cell_type": "code",
   "execution_count": 22,
   "id": "7da3fbe3",
   "metadata": {},
   "outputs": [],
   "source": [
    "BATCH_SIZE = 32 \n",
    "EPOCHS = 10"
   ]
  },
  {
   "cell_type": "markdown",
   "id": "fa21e811",
   "metadata": {},
   "source": [
    "## 3. CIFAR10 데이터 다운로드(Train/Test 분리)\n",
    "\n",
    "- CIFAR_10 데이터 셋은 **컬러 이미지 데이터**이다. 데이터를 다운로드할 때 이미지 데이터에 대한 **기본적인 전처리**를 동시에 진행한다.  \n",
    "- ToTensor() 메서드를 이용해 **텐서 형태로 데이터를 변경**하고, **픽셀을 0과 1 사이의 값으로 정규화**한다.\n",
    "- 모델이 정보의 순서를 암기해 학습을 진행하는 것을 방지하고자 **shuffle = True**로 설정한다.\n"
   ]
  },
  {
   "cell_type": "markdown",
   "id": "bce323bd",
   "metadata": {},
   "source": [
    "### Data Augmentation\n",
    "\n",
    "- 복잡한 모델을 만들기 위해서는 다량의 데이터가 필요하다.\n",
    "- 갖고 있는 **한정적인 데이터를 임의로 변형해 데이터의 수를 늘려 다양한 Feature를 뽑는 것**을 **Data Augmentation**이라 한다.\n",
    "- Data Augmentation을 사용하면 성능이 소폭 상승한다.\n",
    "- 학습 데이터에 이용하는 전처리 과정은 검증 데이터에도 동일하게 적용돼야 한다. \n",
    "\n",
    ">- transforms.Compose() : 이미지 데이터에 전처리 및 Augmentation으 다양하게 적용\n",
    ">- RandomHorizontalFlip() : 해당 이미지를 50% 확률로 좌우 반전\n",
    ">- ToTensor() : 0과 1사이의 값으로 정규화하고 텐서 형태로 이미지 변환\n",
    ">- Normalize() : 텐서 형태로 전환된 이미지에 대해 또 다른 정규화 진행. r,g,b 순서로 평균 0.5, 표준편차 0.5씩 적용."
   ]
  },
  {
   "cell_type": "code",
   "execution_count": 23,
   "id": "f7a050d9",
   "metadata": {},
   "outputs": [
    {
     "name": "stdout",
     "output_type": "stream",
     "text": [
      "Files already downloaded and verified\n"
     ]
    }
   ],
   "source": [
    "train_dataset = datasets.CIFAR10(root = '../data/CIFAR_10',\n",
    "                                train = True,\n",
    "                                download = True,\n",
    "                                transform = transforms.Compose([\n",
    "                                    transforms.RandomHorizontalFlip(),\n",
    "                                    transforms.ToTensor(),\n",
    "                                    transforms.Normalize((0.5,0.5,0.5),(0.5,0.5,0.5))])\n",
    "                                )\n",
    "\n",
    "test_dataset = datasets.CIFAR10(root = '../data/CIFAR_10',\n",
    "                                train = False,\n",
    "                                transform = transforms.Compose([\n",
    "                                    transforms.RandomHorizontalFlip(),\n",
    "                                    transforms.ToTensor(),\n",
    "                                    transforms.Normalize((0.5,0.5,0.5),(0.5,0.5,0.5))])\n",
    "                                )\n",
    "\n",
    "train_loader = torch.utils.data.DataLoader(dataset = train_dataset,\n",
    "                                          batch_size = BATCH_SIZE,\n",
    "                                          shuffle = False)\n",
    "\n",
    "test_loader = torch.utils.data.DataLoader(dataset = test_dataset,\n",
    "                                          batch_size = BATCH_SIZE,\n",
    "                                          shuffle = True)"
   ]
  },
  {
   "cell_type": "markdown",
   "id": "55446afb",
   "metadata": {},
   "source": [
    "## 4. 데이터 확인\n",
    "\n",
    "- 훈련용 데이터 50,000개, 테스트용 데이터 10,000개\n",
    "- 훈련용 데이터의 미니배치 개수는 1563, 테스트용 데이터의 미니배치 개수는 313\n",
    "- **하나의 미니배치(X_train)**에는 **32개의 이미지 데이터**가 존재\n",
    "- **하나의 이미지 데이터**는 **가로 32개, 세로 32개의 픽셀**로 이뤄져있고 **채널은 3(RGB)** "
   ]
  },
  {
   "cell_type": "code",
   "execution_count": 24,
   "id": "69fe85e5",
   "metadata": {},
   "outputs": [
    {
     "name": "stdout",
     "output_type": "stream",
     "text": [
      "train_dataset :  50000\n",
      "test_dataset :  10000\n",
      "train_loader :  1563\n",
      "test_loader :  313\n"
     ]
    }
   ],
   "source": [
    "print(\"train_dataset : \", len(train_loader.dataset))\n",
    "print(\"test_dataset : \", len(test_loader.dataset))\n",
    "\n",
    "print(\"train_loader : \", len(train_loader)) # 미니배치 개수 = iteration 횟수\n",
    "print(\"test_loader : \", len(test_loader)) # 미니배치 개수 = iteration 횟수"
   ]
  },
  {
   "cell_type": "code",
   "execution_count": 25,
   "id": "eefe1192",
   "metadata": {},
   "outputs": [
    {
     "name": "stdout",
     "output_type": "stream",
     "text": [
      "X_train: torch.Size([32, 3, 32, 32]) type: torch.FloatTensor\n",
      "y_train: torch.Size([32]) type: torch.LongTensor\n"
     ]
    }
   ],
   "source": [
    "for(X_train, y_train) in train_loader:\n",
    "    # Mini-batch 1개 안의 데이터 확인\n",
    "    print('X_train:', X_train.size(), 'type:',X_train.type())\n",
    "    print('y_train:', y_train.size(), 'type:',y_train.type())\n",
    "    break"
   ]
  },
  {
   "cell_type": "code",
   "execution_count": 26,
   "id": "7686166e",
   "metadata": {},
   "outputs": [
    {
     "name": "stderr",
     "output_type": "stream",
     "text": [
      "Clipping input data to the valid range for imshow with RGB data ([0..1] for floats or [0..255] for integers).\n",
      "Clipping input data to the valid range for imshow with RGB data ([0..1] for floats or [0..255] for integers).\n",
      "Clipping input data to the valid range for imshow with RGB data ([0..1] for floats or [0..255] for integers).\n",
      "Clipping input data to the valid range for imshow with RGB data ([0..1] for floats or [0..255] for integers).\n",
      "Clipping input data to the valid range for imshow with RGB data ([0..1] for floats or [0..255] for integers).\n",
      "Clipping input data to the valid range for imshow with RGB data ([0..1] for floats or [0..255] for integers).\n",
      "Clipping input data to the valid range for imshow with RGB data ([0..1] for floats or [0..255] for integers).\n",
      "Clipping input data to the valid range for imshow with RGB data ([0..1] for floats or [0..255] for integers).\n",
      "Clipping input data to the valid range for imshow with RGB data ([0..1] for floats or [0..255] for integers).\n",
      "Clipping input data to the valid range for imshow with RGB data ([0..1] for floats or [0..255] for integers).\n"
     ]
    },
    {
     "data": {
      "image/png": "[encoded data removed]",
      "text/plain": [
       "<Figure size 720x72 with 10 Axes>"
      ]
     },
     "metadata": {
      "needs_background": "light"
     },
     "output_type": "display_data"
    }
   ],
   "source": [
    "# 데이터 시각화\n",
    "pltsize = 1\n",
    "plt.figure(figsize = (10 * pltsize, pltsize))\n",
    "\n",
    "for i in range(10):\n",
    "    plt.subplot(1,10,i+1)\n",
    "    plt.axis('off')\n",
    "    plt.imshow(np.transpose(X_train[i],(1,2,0)))\n",
    "    plt.title('Class : ' + str(y_train[i].item()))"
   ]
  },
  {
   "cell_type": "code",
   "execution_count": 27,
   "id": "f298ae24",
   "metadata": {},
   "outputs": [
    {
     "name": "stdout",
     "output_type": "stream",
     "text": [
      "before np.transpose :  torch.Size([3, 32, 32])\n",
      "after np.transpose :  torch.Size([32, 32, 3])\n"
     ]
    }
   ],
   "source": [
    "print('before np.transpose : ', X_train[0].size())\n",
    "print('after np.transpose : ',np.transpose(X_train[i],(1,2,0)).size())"
   ]
  },
  {
   "cell_type": "markdown",
   "id": "499933d4",
   "metadata": {},
   "source": [
    "## 5. CNN 설계\n",
    "\n",
    "- MLP 모델의 input으로 이용될 때 이미지 데이터는 1차원으로 펼쳐 이용된다. 즉, 이미지 내에 지역적인 특징을 반영할 수 없다.\n",
    "- **컬러 이미지**인 경우에는 채널이 3개나 되며, **32x32x3 크기의 데이터를 1차원으로 펼쳐놓게 되면 이미지의 특성을 잃어버릴 수 있다.**\n",
    "- 따라서 1차원으로 펼치는 것(기존 MLP)이 아니라 **이미지와 주변 픽셀의 조합을 통해 특징을 추출하는 CNN 모형**을 사용한다."
   ]
  },
  {
   "cell_type": "markdown",
   "id": "aac5d86e",
   "metadata": {},
   "source": [
    "**첫 번째 convolution**\n",
    ">- Filter의 채널 수는 입력 이미지의 채널 수와 동일하게 설정한다. \n",
    ">- Filter의 개수는 8로 설정. 이 개수만큼 Output(Feature Map)의 depth가 결정된다.\n",
    ">- Filter의 크기는 3 * 3\n",
    ">- 이미지 픽셀의 구석 부분과 중앙 부분이 convolution 연산되는 횟수를 동일하게 맞춰주기 위해 zero padding = 1로 설정\n",
    "\n",
    "\n",
    "**두 번째 convolution**\n",
    ">- Feature Map의 채널 수와 동일한 채널 수를 설정한다.\n",
    ">- Filter의 개수는 16으로 설정\n",
    ">- Filter의 크기는 3 * 3\n",
    ">- 이미지 픽셀의 구석 부분과 중앙 부분이 convolution 연산되는 횟수를 동일하게 맞춰주기 위해 zero padding = 1로 설정\n",
    "\n",
    "**Pooling Layer**\n",
    ">- convolution을 통해 Feature Map이 생성됐을 때, 모든 Feature Map을 이용하는 것이 아니라 부분적으로 이용한다.(**다운샘플링**)\n",
    ">- 생성된 Feature Map 위에서 2 * 2 크기의 Filter(커널)가 돌아다니면서 가장 큰 Feature Map 값을 추출한다.\n",
    ">- Filter가 Feature Map 위에서 움직이는 단위(간격)은 2로 설정한다.\n",
    "\n",
    "**MLP**\n",
    ">- 이미지 내 주변 픽셀과의 조합을 가장 잘 반영할 수 있는 Feature Map을 추출하고난 후, 이를 기존의 MLP 모델에 input으로 사용한다. \n",
    ">- 2개의 convolution 연산을 거친 후 최종적으로 만들어지는 Feature Map의 크기는 **8 * 8 * 16**이다. **8 * 8 크기의 2차원 데이터가 16개 겹쳐 있는 형태**로 존재한다.\n",
    ">- Feature Map을 1차원으로 펼친 후 여러 층의 Fully Connected Layer를 통과시킨다.\n",
    ">- 두 번째 Fully Connected Layer의 노드 수는 64, 세 번째 Fully Connected Layer의 노드 수는 32, 최종 Output은 10으로 설정한다.\n",
    ">- 최종 출력층에는 log_softmax 함수를 적용하여 확률 값을 계산한다."
   ]
  },
  {
   "cell_type": "code",
   "execution_count": 28,
   "id": "0157b73d",
   "metadata": {},
   "outputs": [],
   "source": [
    "class CNN(nn.Module):\n",
    "    def __init__(self):\n",
    "        super(CNN, self).__init__()\n",
    "        \n",
    "        self.conv1 = nn.Conv2d(\n",
    "                              in_channels = 3,\n",
    "                              out_channels = 8, # filter 개수\n",
    "                              kernel_size = 3,\n",
    "                              padding = 1)\n",
    "        \n",
    "        self.conv2 = nn.Conv2d(in_channels = 8,\n",
    "                              out_channels = 16,\n",
    "                              kernel_size = 3,\n",
    "                              padding = 1)\n",
    "        \n",
    "        self.pool = nn.MaxPool2d(kernel_size = 2,\n",
    "                                stride = 2)\n",
    "        \n",
    "        self.fc1 = nn.Linear(8 * 8 * 16, 64)\n",
    "        self.fc2 = nn.Linear(64, 32)\n",
    "        self.fc3 = nn.Linear(32, 10)\n",
    "        \n",
    "        \n",
    "    def forward(self, x):\n",
    "        x = self.conv1(x)\n",
    "        x = F.relu(x)\n",
    "        x = self.pool(x)\n",
    "        \n",
    "        x = self.conv2(x)\n",
    "        x = F.relu(x)\n",
    "        x = self.pool(x)\n",
    "        \n",
    "        x = x.view(-1, 8 * 8 * 16)\n",
    "        x = self.fc1(x)\n",
    "        x = F.relu(x)\n",
    "        x = self.fc2(x)\n",
    "        x = F.relu(x)\n",
    "        x = self.fc3(x)\n",
    "        x = F.log_softmax(x)\n",
    "        return x\n",
    "        "
   ]
  },
  {
   "cell_type": "markdown",
   "id": "ee06d633",
   "metadata": {},
   "source": [
    "## 6. Optimizer, Objective Function 설정\n",
    "\n",
    "- CNN 모델을 DEVICE에 할당\n",
    "- 최적화 방식은 Adam\n",
    "- 최적화에 사용될 손실함수는 CrossEntropyLoss"
   ]
  },
  {
   "cell_type": "code",
   "execution_count": 29,
   "id": "b2f86c99",
   "metadata": {},
   "outputs": [],
   "source": [
    "model = CNN().to(DEVICE)\n",
    "optimizer = torch.optim.Adam(model.parameters(), lr = 0.001)\n",
    "criterion = nn.CrossEntropyLoss()"
   ]
  },
  {
   "cell_type": "code",
   "execution_count": 30,
   "id": "cb4fd034",
   "metadata": {},
   "outputs": [
    {
     "name": "stdout",
     "output_type": "stream",
     "text": [
      "----------------------------------------------------------------\n",
      "        Layer (type)               Output Shape         Param #\n",
      "================================================================\n",
      "            Conv2d-1            [-1, 8, 32, 32]             224\n",
      "         MaxPool2d-2            [-1, 8, 16, 16]               0\n",
      "            Conv2d-3           [-1, 16, 16, 16]           1,168\n",
      "         MaxPool2d-4             [-1, 16, 8, 8]               0\n",
      "            Linear-5                   [-1, 64]          65,600\n",
      "            Linear-6                   [-1, 32]           2,080\n",
      "            Linear-7                   [-1, 10]             330\n",
      "================================================================\n",
      "Total params: 69,402\n",
      "Trainable params: 69,402\n",
      "Non-trainable params: 0\n",
      "----------------------------------------------------------------\n",
      "Input size (MB): 0.01\n",
      "Forward/backward pass size (MB): 0.12\n",
      "Params size (MB): 0.26\n",
      "Estimated Total Size (MB): 0.39\n",
      "----------------------------------------------------------------\n"
     ]
    },
    {
     "name": "stderr",
     "output_type": "stream",
     "text": [
      "<ipython-input-28-27e54b7f2b0a>:39: UserWarning: Implicit dimension choice for log_softmax has been deprecated. Change the call to include dim=X as an argument.\n",
      "  x = F.log_softmax(x)\n"
     ]
    }
   ],
   "source": [
    "# print(model)\n",
    "summary(model, input_size=(3, 32, 32))"
   ]
  },
  {
   "cell_type": "markdown",
   "id": "0aa12445",
   "metadata": {},
   "source": [
    "## 7. 학습 데이터에 대한 모델 성능 확인하는 함수 정의\n",
    "\n",
    "1. CNN 모델을 학습 상태로 지정\n",
    "2. Mini-batch 단위로 저장된 데이터를 순서대로 이용하여 모델 학습\n",
    "3. 이미지 데이터와 레이블 데이터를 기존에 정의한 장비에 할당\n",
    "4. Optimizer 초기화\n",
    "5. output 계산 \n",
    "6. CrossEntropy를 통해 Loss 계산\n",
    "7. Backpropagation을 통한 파라미터 업데이트"
   ]
  },
  {
   "cell_type": "code",
   "execution_count": 31,
   "id": "e6fbfcaa",
   "metadata": {},
   "outputs": [],
   "source": [
    "def train(model, train_loader, optimizer, log_interval):\n",
    "    model.train()\n",
    "    print(\"------------------------- Training..... -------------------------\\n\")\n",
    "    for batch_idx, (image, label) in enumerate(train_loader):\n",
    "        image = image.to(DEVICE)\n",
    "        label = label.to(DEVICE)\n",
    "        optimizer.zero_grad()\n",
    "        output = model(image)\n",
    "        \n",
    "        loss = criterion(output, label)\n",
    "        loss.backward()\n",
    "        optimizer.step() # 파라미터 업데이트\n",
    "        \n",
    "        if batch_idx % log_interval == 0 :\n",
    "            print(\"Train Epoch: {} [{}/{}]\\tTrain Loss: {:.6f}\".format(Epoch,\n",
    "                                                                       len(image) * batch_idx,\n",
    "                                                                       len(train_loader.dataset),\n",
    "                                                                       loss.item()))\n",
    "    print(\"------------------------------------------------------------------\\n\")   "
   ]
  },
  {
   "cell_type": "markdown",
   "id": "955bbecc",
   "metadata": {},
   "source": [
    "## 8. 검증 데이터에 대한 모델 성능을 확인하는 함수 정의\n",
    "\n",
    "1. 모델을 평가 상태로 지정\n",
    "2. Gradient의 흐름을 억제하여 파라미터 값이 업데이트되는 현상 방지\n",
    "3. 이후 과정은 *7. 학습 데이터에 대한 모델 성능을 확인하는 함수 정의* 와 동일"
   ]
  },
  {
   "cell_type": "code",
   "execution_count": 32,
   "id": "4d677b10",
   "metadata": {},
   "outputs": [],
   "source": [
    "def evaluate(model, test_loader):\n",
    "    model.eval()\n",
    "    test_loss = 0\n",
    "    correct = 0\n",
    "    \n",
    "    with torch.no_grad():\n",
    "        for image, label in test_loader:\n",
    "            image = image.to(DEVICE)\n",
    "            label = label.to(DEVICE)\n",
    "            \n",
    "            output = model(image)\n",
    "            test_loss += criterion(output, label)\n",
    "            prediction = output.max(1, keepdim = True)[1] # 가장 큰 확률 값을 지니는 클래스의 인덱스만 추출\n",
    "            correct += prediction.eq(label.view_as(prediction)).sum().item()\n",
    "            \n",
    "    test_loss /= len(test_loader.dataset)\n",
    "    test_accuracy = 100. * correct / len(test_loader.dataset)\n",
    "    \n",
    "    return test_loss, test_accuracy"
   ]
  },
  {
   "cell_type": "markdown",
   "id": "11af04e3",
   "metadata": {},
   "source": [
    "## 9. 모델 학습 및 성능 확인"
   ]
  },
  {
   "cell_type": "code",
   "execution_count": 33,
   "id": "ef9bd961",
   "metadata": {
    "scrolled": false
   },
   "outputs": [
    {
     "name": "stdout",
     "output_type": "stream",
     "text": [
      "------------------- Training..... -------------------\n",
      "\n",
      "Train Epoch: 1 [0/50000]\tTrain Loss: 2.329477\n"
     ]
    },
    {
     "name": "stderr",
     "output_type": "stream",
     "text": [
      "<ipython-input-28-27e54b7f2b0a>:39: UserWarning: Implicit dimension choice for log_softmax has been deprecated. Change the call to include dim=X as an argument.\n",
      "  x = F.log_softmax(x)\n"
     ]
    },
    {
     "name": "stdout",
     "output_type": "stream",
     "text": [
      "Train Epoch: 1 [6400/50000]\tTrain Loss: 1.746234\n",
      "Train Epoch: 1 [12800/50000]\tTrain Loss: 1.469539\n",
      "Train Epoch: 1 [19200/50000]\tTrain Loss: 1.835317\n",
      "Train Epoch: 1 [25600/50000]\tTrain Loss: 1.269000\n",
      "Train Epoch: 1 [32000/50000]\tTrain Loss: 1.484481\n",
      "Train Epoch: 1 [38400/50000]\tTrain Loss: 1.503568\n",
      "Train Epoch: 1 [44800/50000]\tTrain Loss: 1.444030\n",
      "------------------------------------------------------\n",
      "\n",
      "[EPOCH: 1] \tTest Loss: 0.0417 \tTest Accracy: 52.12%\n",
      "\n",
      "------------------- Training..... -------------------\n",
      "\n",
      "Train Epoch: 2 [0/50000]\tTrain Loss: 1.352624\n",
      "Train Epoch: 2 [6400/50000]\tTrain Loss: 1.304258\n",
      "Train Epoch: 2 [12800/50000]\tTrain Loss: 1.038000\n",
      "Train Epoch: 2 [19200/50000]\tTrain Loss: 1.543259\n",
      "Train Epoch: 2 [25600/50000]\tTrain Loss: 0.948478\n",
      "Train Epoch: 2 [32000/50000]\tTrain Loss: 1.237942\n",
      "Train Epoch: 2 [38400/50000]\tTrain Loss: 1.146048\n",
      "Train Epoch: 2 [44800/50000]\tTrain Loss: 1.165063\n",
      "------------------------------------------------------\n",
      "\n",
      "[EPOCH: 2] \tTest Loss: 0.0366 \tTest Accracy: 59.15%\n",
      "\n",
      "------------------- Training..... -------------------\n",
      "\n",
      "Train Epoch: 3 [0/50000]\tTrain Loss: 1.140116\n",
      "Train Epoch: 3 [6400/50000]\tTrain Loss: 1.166871\n",
      "Train Epoch: 3 [12800/50000]\tTrain Loss: 1.013986\n",
      "Train Epoch: 3 [19200/50000]\tTrain Loss: 1.229352\n",
      "Train Epoch: 3 [25600/50000]\tTrain Loss: 0.809391\n",
      "Train Epoch: 3 [32000/50000]\tTrain Loss: 1.112341\n",
      "Train Epoch: 3 [38400/50000]\tTrain Loss: 1.057295\n",
      "Train Epoch: 3 [44800/50000]\tTrain Loss: 1.048832\n",
      "------------------------------------------------------\n",
      "\n",
      "[EPOCH: 3] \tTest Loss: 0.0342 \tTest Accracy: 61.59%\n",
      "\n",
      "------------------- Training..... -------------------\n",
      "\n",
      "Train Epoch: 4 [0/50000]\tTrain Loss: 1.058713\n",
      "Train Epoch: 4 [6400/50000]\tTrain Loss: 1.082872\n",
      "Train Epoch: 4 [12800/50000]\tTrain Loss: 0.996233\n",
      "Train Epoch: 4 [19200/50000]\tTrain Loss: 1.175484\n",
      "Train Epoch: 4 [25600/50000]\tTrain Loss: 0.875046\n",
      "Train Epoch: 4 [32000/50000]\tTrain Loss: 1.024370\n",
      "Train Epoch: 4 [38400/50000]\tTrain Loss: 0.879726\n",
      "Train Epoch: 4 [44800/50000]\tTrain Loss: 0.920473\n",
      "------------------------------------------------------\n",
      "\n",
      "[EPOCH: 4] \tTest Loss: 0.0324 \tTest Accracy: 63.38%\n",
      "\n",
      "------------------- Training..... -------------------\n",
      "\n",
      "Train Epoch: 5 [0/50000]\tTrain Loss: 0.890077\n",
      "Train Epoch: 5 [6400/50000]\tTrain Loss: 0.967436\n",
      "Train Epoch: 5 [12800/50000]\tTrain Loss: 0.904850\n",
      "Train Epoch: 5 [19200/50000]\tTrain Loss: 1.168156\n",
      "Train Epoch: 5 [25600/50000]\tTrain Loss: 0.783372\n",
      "Train Epoch: 5 [32000/50000]\tTrain Loss: 0.928784\n",
      "Train Epoch: 5 [38400/50000]\tTrain Loss: 0.943871\n",
      "Train Epoch: 5 [44800/50000]\tTrain Loss: 0.983861\n",
      "------------------------------------------------------\n",
      "\n",
      "[EPOCH: 5] \tTest Loss: 0.0318 \tTest Accracy: 64.52%\n",
      "\n",
      "------------------- Training..... -------------------\n",
      "\n",
      "Train Epoch: 6 [0/50000]\tTrain Loss: 0.942376\n",
      "Train Epoch: 6 [6400/50000]\tTrain Loss: 1.006693\n",
      "Train Epoch: 6 [12800/50000]\tTrain Loss: 0.853571\n",
      "Train Epoch: 6 [19200/50000]\tTrain Loss: 1.066196\n",
      "Train Epoch: 6 [25600/50000]\tTrain Loss: 0.683796\n",
      "Train Epoch: 6 [32000/50000]\tTrain Loss: 0.885008\n",
      "Train Epoch: 6 [38400/50000]\tTrain Loss: 0.854174\n",
      "Train Epoch: 6 [44800/50000]\tTrain Loss: 1.018689\n",
      "------------------------------------------------------\n",
      "\n",
      "[EPOCH: 6] \tTest Loss: 0.0315 \tTest Accracy: 64.78%\n",
      "\n",
      "------------------- Training..... -------------------\n",
      "\n",
      "Train Epoch: 7 [0/50000]\tTrain Loss: 0.973140\n",
      "Train Epoch: 7 [6400/50000]\tTrain Loss: 0.891617\n",
      "Train Epoch: 7 [12800/50000]\tTrain Loss: 0.866536\n",
      "Train Epoch: 7 [19200/50000]\tTrain Loss: 1.093404\n",
      "Train Epoch: 7 [25600/50000]\tTrain Loss: 0.671067\n",
      "Train Epoch: 7 [32000/50000]\tTrain Loss: 0.968015\n",
      "Train Epoch: 7 [38400/50000]\tTrain Loss: 0.815311\n",
      "Train Epoch: 7 [44800/50000]\tTrain Loss: 0.891689\n",
      "------------------------------------------------------\n",
      "\n",
      "[EPOCH: 7] \tTest Loss: 0.0306 \tTest Accracy: 65.92%\n",
      "\n",
      "------------------- Training..... -------------------\n",
      "\n",
      "Train Epoch: 8 [0/50000]\tTrain Loss: 0.752046\n",
      "Train Epoch: 8 [6400/50000]\tTrain Loss: 0.833579\n",
      "Train Epoch: 8 [12800/50000]\tTrain Loss: 0.919476\n",
      "Train Epoch: 8 [19200/50000]\tTrain Loss: 1.045280\n",
      "Train Epoch: 8 [25600/50000]\tTrain Loss: 0.697247\n",
      "Train Epoch: 8 [32000/50000]\tTrain Loss: 0.912713\n",
      "Train Epoch: 8 [38400/50000]\tTrain Loss: 0.768327\n",
      "Train Epoch: 8 [44800/50000]\tTrain Loss: 0.861293\n",
      "------------------------------------------------------\n",
      "\n",
      "[EPOCH: 8] \tTest Loss: 0.0307 \tTest Accracy: 66.39%\n",
      "\n",
      "------------------- Training..... -------------------\n",
      "\n",
      "Train Epoch: 9 [0/50000]\tTrain Loss: 0.851939\n",
      "Train Epoch: 9 [6400/50000]\tTrain Loss: 0.937400\n",
      "Train Epoch: 9 [12800/50000]\tTrain Loss: 0.751860\n",
      "Train Epoch: 9 [19200/50000]\tTrain Loss: 0.969156\n",
      "Train Epoch: 9 [25600/50000]\tTrain Loss: 0.571637\n",
      "Train Epoch: 9 [32000/50000]\tTrain Loss: 0.917330\n",
      "Train Epoch: 9 [38400/50000]\tTrain Loss: 0.731584\n",
      "Train Epoch: 9 [44800/50000]\tTrain Loss: 0.850685\n",
      "------------------------------------------------------\n",
      "\n",
      "[EPOCH: 9] \tTest Loss: 0.0305 \tTest Accracy: 66.11%\n",
      "\n",
      "------------------- Training..... -------------------\n",
      "\n",
      "Train Epoch: 10 [0/50000]\tTrain Loss: 0.756724\n",
      "Train Epoch: 10 [6400/50000]\tTrain Loss: 0.865304\n",
      "Train Epoch: 10 [12800/50000]\tTrain Loss: 0.765661\n",
      "Train Epoch: 10 [19200/50000]\tTrain Loss: 1.005056\n",
      "Train Epoch: 10 [25600/50000]\tTrain Loss: 0.599394\n",
      "Train Epoch: 10 [32000/50000]\tTrain Loss: 0.836044\n",
      "Train Epoch: 10 [38400/50000]\tTrain Loss: 0.731312\n",
      "Train Epoch: 10 [44800/50000]\tTrain Loss: 0.860403\n",
      "------------------------------------------------------\n",
      "\n",
      "[EPOCH: 10] \tTest Loss: 0.0302 \tTest Accracy: 66.62%\n",
      "\n"
     ]
    }
   ],
   "source": [
    "for Epoch in range(1, EPOCHS + 1):\n",
    "    train(model, train_loader, optimizer, log_interval = 200)\n",
    "    test_loss, test_accuracy = evaluate(model, test_loader)\n",
    "    print(\"[EPOCH: {}] Test Loss: {:.4f} \\tTest Accracy: {:.2f}%\\n\".format(Epoch,\n",
    "                                                                            test_loss,\n",
    "                                                                            test_accuracy))"
   ]
  }
 ],
 "metadata": {
  "kernelspec": {
   "display_name": "Python 3",
   "language": "python",
   "name": "python3"
  },
  "language_info": {
   "codemirror_mode": {
    "name": "ipython",
    "version": 3
   },
   "file_extension": ".py",
   "mimetype": "text/x-python",
   "name": "python",
   "nbconvert_exporter": "python",
   "pygments_lexer": "ipython3",
   "version": "3.8.10"
  }
 },
 "nbformat": 4,
 "nbformat_minor": 5
}
